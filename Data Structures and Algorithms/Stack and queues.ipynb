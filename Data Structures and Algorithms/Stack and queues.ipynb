{
 "cells": [
  {
   "cell_type": "markdown",
   "metadata": {},
   "source": [
    "## **Stacks**"
   ]
  },
  {
   "cell_type": "markdown",
   "metadata": {},
   "source": [
    "A stack is an ordered collection of elements where elements are only added and removed from the same end. Another term used to describe stacks is LIFO, which stands for last in, first out. The last (most recent) element placed inside is the first element to come out."
   ]
  },
  {
   "cell_type": "markdown",
   "metadata": {},
   "source": [
    "Stacks are very simple to implement. Some languages like Java have built-in stacks. In Python, you can just use a list stack = [] and use stack.append(element) and stack.pop(). In fact, any dynamic array can implement a stack. Typically, inserting into a stack is called pushing and removing from a stack is called popping. Stacks will usually also come with operations like peek, which means looking at the element at the top of the stack."
   ]
  },
  {
   "cell_type": "markdown",
   "metadata": {},
   "source": [
    "<video src=\"20240130-1952-58.3079751.mp4\" controls title=\"Title\"></video>"
   ]
  },
  {
   "cell_type": "markdown",
   "metadata": {},
   "source": [
    "The time complexity of stack operations is dependent on the implementation. If you use a dynamic array, which is the most common and easiest way, then the time complexity of your operations is the same as that of a dynamic array. O(1) push, pop, and random access, and O(n) search. Sometimes, a stack may be implemented with a linked list with a tail pointer."
   ]
  },
  {
   "cell_type": "code",
   "execution_count": 1,
   "metadata": {},
   "outputs": [
    {
     "data": {
      "text/plain": [
       "1"
      ]
     },
     "execution_count": 1,
     "metadata": {},
     "output_type": "execute_result"
    }
   ],
   "source": [
    "# Declaration: we will just use a list\n",
    "stack = []\n",
    "\n",
    "# Pushing elements:\n",
    "stack.append(1)\n",
    "stack.append(2)\n",
    "stack.append(3)\n",
    "\n",
    "# Popping elements:\n",
    "stack.pop() # 3\n",
    "stack.pop() # 2\n",
    "\n",
    "# Check if empty\n",
    "not stack # False\n",
    "\n",
    "# Check element at top\n",
    "stack[-1] # 1\n",
    "\n",
    "# Get size\n",
    "len(stack) # 1"
   ]
  },
  {
   "cell_type": "markdown",
   "metadata": {},
   "source": [
    "Example 1: 20. Valid Parentheses\n",
    "\n",
    "Given a string s containing just the characters '(', ')', '{', '}', '[' and ']', determine if the input string is valid. The string is valid if all open brackets are closed by the same type of closing bracket in the correct order, and each closing bracket closes exactly one open bracket.\n",
    "\n",
    "For example, s = \"({})\" and s = \"(){}[]\" are valid, but s = \"(]\" and s = \"({)}\" are not valid."
   ]
  },
  {
   "cell_type": "code",
   "execution_count": 27,
   "metadata": {},
   "outputs": [],
   "source": [
    "def isValid(s):\n",
    "\n",
    "    my_dict = {\n",
    "        \"(\": \")\",\n",
    "        \"{\": \"}\",\n",
    "        \"[\": \"]\",\n",
    "    }\n",
    "    stack = []  # create an empty stack to store opening brackets\n",
    "    for char in s:\n",
    "        if char in my_dict.keys():\n",
    "            stack.append(char)\n",
    "            \n",
    "        elif len(stack) == 0 or my_dict[stack.pop()] != char:\n",
    "            return False\n",
    "    return len(stack) == 0 \n",
    "\n",
    "\n",
    "\n",
    "\n",
    "                "
   ]
  },
  {
   "cell_type": "code",
   "execution_count": 28,
   "metadata": {},
   "outputs": [
    {
     "data": {
      "text/plain": [
       "True"
      ]
     },
     "execution_count": 28,
     "metadata": {},
     "output_type": "execute_result"
    }
   ],
   "source": [
    "s = \"{([]){}}\"\n",
    "isValid(s)\n"
   ]
  },
  {
   "cell_type": "markdown",
   "metadata": {},
   "source": [
    "Example 2: 1047. Remove All Adjacent Duplicates In String\n",
    "\n",
    "You are given a string s. Continuously remove duplicates (two of the same character beside each other) until you can't anymore. Return the final string after this.\n",
    "\n",
    "For example, given s = \"abbaca\", you can first remove the \"bb\" to get \"aaca\". Next, you can remove the \"aa\" to get \"ca\". This is the final answer."
   ]
  },
  {
   "cell_type": "code",
   "execution_count": 57,
   "metadata": {},
   "outputs": [],
   "source": [
    "def removeDuplicates(s):\n",
    "    stack = []\n",
    "    for ch in s:\n",
    "        if stack and stack[-1] == ch:\n",
    "            stack.pop()\n",
    "        else:\n",
    "            stack.append(ch)\n",
    "    return \"\".join(stack)"
   ]
  },
  {
   "cell_type": "code",
   "execution_count": 59,
   "metadata": {},
   "outputs": [
    {
     "data": {
      "text/plain": [
       "'ba'"
      ]
     },
     "execution_count": 59,
     "metadata": {},
     "output_type": "execute_result"
    }
   ],
   "source": [
    "s = \"aababaab\"\n",
    "removeDuplicates(s)"
   ]
  },
  {
   "cell_type": "markdown",
   "metadata": {},
   "source": [
    "Example 3: 844. Backspace String Compare\n",
    "\n",
    "Given two strings s and t, return true if they are equal when both are typed into empty text editors. '#' means a backspace character.\n",
    "\n",
    "For example, given s = \"ab#c\" and t = \"ad#c\", return true. Because of the backspace, the strings are both equal to \"ac\"."
   ]
  },
  {
   "cell_type": "code",
   "execution_count": 75,
   "metadata": {},
   "outputs": [],
   "source": [
    "def backspaceCompare(s, t):\n",
    "    s_stack = []\n",
    "    t_stack = []\n",
    "    \n",
    "    for ch in s:\n",
    "        if ch != \"#\":\n",
    "            s_stack.append(ch)\n",
    "        elif s_stack:\n",
    "            s_stack.pop()\n",
    "    for ch in t:\n",
    "        if ch != \"#\":\n",
    "            t_stack.append(ch)\n",
    "        elif t_stack:\n",
    "            t_stack.pop()\n",
    "    return s_stack == t_stack"
   ]
  },
  {
   "cell_type": "code",
   "execution_count": 76,
   "metadata": {},
   "outputs": [
    {
     "data": {
      "text/plain": [
       "True"
      ]
     },
     "execution_count": 76,
     "metadata": {},
     "output_type": "execute_result"
    }
   ],
   "source": [
    "s = \"ab##\"\n",
    "t = \"c#d#\"\n",
    "backspaceCompare(s, t)"
   ]
  },
  {
   "cell_type": "markdown",
   "metadata": {},
   "source": [
    "**Queues**"
   ]
  },
  {
   "cell_type": "markdown",
   "metadata": {},
   "source": [
    "While a stack followed a LIFO pattern, a queue follows FIFO (first in first out). In a stack, elements are added and removed from the same side. In a queue, elements are added and removed from opposite sides. Queues are trickier to implement than stacks if you want to maintain good performance. Like a stack, you could just use a dynamic array, but operations on the front of the array (adding or removal) are O(n), where n is the size of the array. Adding to a queue is called enqueue and deletions are called dequeue. If you want these operations to be O(1), you'll need a more sophisticated implementation."
   ]
  },
  {
   "cell_type": "markdown",
   "metadata": {},
   "source": [
    "or algorithm problems, queues are less common than stacks, and the problems are generally more difficult. The most common use of a queue is to implement an algorithm called breadth-first search (BFS)"
   ]
  },
  {
   "cell_type": "code",
   "execution_count": null,
   "metadata": {},
   "outputs": [],
   "source": [
    "# Declaration: we will use deque from the collections module\n",
    "import collections\n",
    "queue = collections.deque()\n",
    "\n",
    "# If you want to initialize it with some initial values:\n",
    "queue = collections.deque([1, 2, 3])\n",
    "\n",
    "# Enqueueing/adding elements:\n",
    "queue.append(4)\n",
    "queue.append(5)\n",
    "\n",
    "# Dequeuing/removing elements:\n",
    "queue.popleft() # 1\n",
    "queue.popleft() # 2\n",
    "\n",
    "# Check element at front of queue (next element to be removed)\n",
    "queue[0] # 3\n",
    "\n",
    "# Get size\n",
    "len(queue) # 3"
   ]
  },
  {
   "cell_type": "markdown",
   "metadata": {},
   "source": [
    "**Monotonic**"
   ]
  },
  {
   "cell_type": "markdown",
   "metadata": {},
   "source": [
    "A monotonic stack or queue is one whose elements are always sorted. It can be sorted either ascending or descending, depending on the algorithm. Monotonic stacks and queues maintain their sorted property by removing elements that would violate the property before adding new elements. For example, let's say you had a monotonically increasing stack, currently stack = [1, 5, 8, 15, 23]. You want to push 14 onto the stack. To maintain the sorted property, we need to first pop the 15 and 23 before pushing the 14 - after the push operation, we have stack = [1, 5, 8, 14]."
   ]
  },
  {
   "cell_type": "markdown",
   "metadata": {},
   "source": [
    "Here's some pseudocode for maintaining a monotonic increasing stack over an input array:"
   ]
  },
  {
   "cell_type": "markdown",
   "metadata": {},
   "source": [
    "    Given an integer array nums\n",
    "\n",
    "    stack = []\n",
    "    for num in nums:\n",
    "        while stack.length > 0 AND stack.top >= num:\n",
    "            stack.pop()\n",
    "        // Between the above and below lines, do some logic depending on the problem\n",
    "        stack.push(num)"
   ]
  },
  {
   "cell_type": "markdown",
   "metadata": {},
   "source": [
    "Example 1: 739. Daily Temperatures\n",
    "\n",
    "Given an array of integers temperatures that represents the daily temperatures, return an array answer such that answer[i] is the number of days you have to wait after the ith  day to get a warmer temperature. If there is no future day that is warmer, have answer[i] = 0 instead."
   ]
  },
  {
   "cell_type": "markdown",
   "metadata": {},
   "source": [
    "    Because the stack is monotonically decreasing, we are guaranteed to pop elements only when we find the first warmer temperature."
   ]
  },
  {
   "cell_type": "code",
   "execution_count": null,
   "metadata": {},
   "outputs": [],
   "source": [
    "class Solution:\n",
    "    def dailyTemperatures(self, temperatures: List[int]) -> List[int]:\n",
    "        stack = []\n",
    "        answer = [0] * len(temperatures)\n",
    "        \n",
    "        for i in range(len(temperatures)):\n",
    "            while stack and temperatures[stack[-1]] < temperatures[i]:\n",
    "                j = stack.pop()\n",
    "                answer[j] = i - j\n",
    "            stack.append(i)\n",
    "        \n",
    "        return answer"
   ]
  },
  {
   "cell_type": "markdown",
   "metadata": {},
   "source": [
    "Example 2: 239. Sliding Window Maximum(HARD)\n",
    "\n",
    "Given an integer array nums and an integer k, there is a sliding window of size k that moves from the very left to the very right. For each window, find the maximum element in the window.\n",
    "\n",
    "For example, given nums = [1, 3, -1, -3, 5, 3, 6, 7], k = 3, return [3, 3, 5, 5, 6, 7]. The first window is [1, 3, -1, -3, 5, 3, 6, 7] and the last window is [1, 3, -1, -3, 5, 3, 6, 7]\n",
    "\n",
    "Note: this problem is significantly more difficult than any problem we have looked at so far. Don't be discouraged if you are having trouble understanding the solution."
   ]
  },
  {
   "cell_type": "code",
   "execution_count": null,
   "metadata": {},
   "outputs": [],
   "source": [
    "from collections import deque\n",
    "\n",
    "class Solution:\n",
    "    def maxSlidingWindow(self, nums: List[int], k: int) -> List[int]:\n",
    "        ans = []\n",
    "        queue = deque()\n",
    "        for i in range(len(nums)):\n",
    "            # maintain monotonic decreasing.\n",
    "            # all elements in the deque smaller than the current one\n",
    "            # have no chance of being the maximum, so get rid of them\n",
    "            while queue and nums[i] > nums[queue[-1]]:\n",
    "                queue.pop()\n",
    "\n",
    "            queue.append(i)\n",
    "\n",
    "            # queue[0] is the index of the maximum element.\n",
    "            # if queue[0] + k == i, then it is outside the window\n",
    "            if queue[0] + k == i:\n",
    "                queue.popleft()\n",
    "            \n",
    "            # only add to the answer once our window has reached size k\n",
    "            if i >= k - 1:\n",
    "                ans.append(nums[queue[0]])\n",
    "\n",
    "        return ans"
   ]
  },
  {
   "cell_type": "markdown",
   "metadata": {},
   "source": [
    "Example 3: 1438. Longest Continuous Subarray With Absolute Diff Less Than or Equal to Limit\n",
    "\n",
    "Given an array of integers nums and an integer limit, return the size of the longest subarray such that the absolute difference between any two elements of this subarray is less than or equal to limit."
   ]
  },
  {
   "cell_type": "code",
   "execution_count": null,
   "metadata": {},
   "outputs": [],
   "source": [
    "from collections import deque\n",
    "\n",
    "class Solution:\n",
    "    def longestSubarray(self, nums: List[int], limit: int) -> int:\n",
    "        increasing = deque()\n",
    "        decreasing = deque()\n",
    "        left = ans = 0\n",
    "        \n",
    "        for right in range(len(nums)):\n",
    "            # maintain the monotonic deques\n",
    "            while increasing and increasing[-1] > nums[right]:\n",
    "                increasing.pop()\n",
    "            while decreasing and decreasing[-1] < nums[right]:\n",
    "                decreasing.pop()\n",
    "                \n",
    "            increasing.append(nums[right])\n",
    "            decreasing.append(nums[right])\n",
    "            \n",
    "            # maintain window property\n",
    "            while decreasing[0] - increasing[0] > limit:\n",
    "                if nums[left] == decreasing[0]:\n",
    "                    decreasing.popleft()\n",
    "                if nums[left] == increasing[0]:\n",
    "                    increasing.popleft()\n",
    "                left += 1\n",
    "            \n",
    "            ans = max(ans, right - left + 1)\n",
    "\n",
    "        return ans"
   ]
  }
 ],
 "metadata": {
  "kernelspec": {
   "display_name": "Python 3",
   "language": "python",
   "name": "python3"
  },
  "language_info": {
   "codemirror_mode": {
    "name": "ipython",
    "version": 3
   },
   "file_extension": ".py",
   "mimetype": "text/x-python",
   "name": "python",
   "nbconvert_exporter": "python",
   "pygments_lexer": "ipython3",
   "version": "3.11.4"
  }
 },
 "nbformat": 4,
 "nbformat_minor": 2
}
