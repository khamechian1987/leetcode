{
 "cells": [
  {
   "cell_type": "markdown",
   "metadata": {},
   "source": [
    "# **Hashing**"
   ]
  },
  {
   "cell_type": "markdown",
   "metadata": {},
   "source": [
    "A hash function is a function that takes an input and deterministically converts it to an integer that is less than a fixed size set by the programmer. Inputs are called keys and the same input will always be converted to the same integer. "
   ]
  },
  {
   "cell_type": "markdown",
   "metadata": {},
   "source": [
    "When a hash function is combined with an array, it creates a ***hash*** map, also known as a ***hash table*** or ***dictionary*** With arrays, we ***map*** indices to values. With hash maps, we map ***keys*** to values, and a key can be almost anything. Typically, the only constraint on a hash map's key is that it has to be ***immutable*** (this is language dependent but generally a good rule of thumb). Values can be anything.\n",
    "Every major language has a built-in implementation of a hash map. For example, in Python they're called dictionaries and declaring one is as simple as dic = {}"
   ]
  },
  {
   "cell_type": "markdown",
   "metadata": {},
   "source": [
    "To summarize, a hash map is an unordered data structure that stores key-value pairs. A hash map can add and remove elements in ***O(1)***, as well as update values associated with a key and check if a key exists, also in ***O(1)***."
   ]
  },
  {
   "cell_type": "markdown",
   "metadata": {},
   "source": [
    "The biggest disadvantage of hash maps is that for smaller input sizes, they can be slower due to overhead. Because big O ignores constants, the O(1) time complexity can sometimes be deceiving - it's usually something more like O(10) because every key needs to go through the hash function, and there can also be ***collisions***, which we will talk about in the next section."
   ]
  },
  {
   "cell_type": "markdown",
   "metadata": {},
   "source": [
    "# Collisions"
   ]
  },
  {
   "cell_type": "markdown",
   "metadata": {},
   "source": [
    "When different keys convert to the same integer, it is called a collision. Without handling collisions, older keys will get overridden and data will be lost. There are multiple ways to handle collisions, but here we'll talk about a common one called ***chaining***."
   ]
  },
  {
   "cell_type": "markdown",
   "metadata": {},
   "source": [
    "# Sets"
   ]
  },
  {
   "cell_type": "markdown",
   "metadata": {},
   "source": [
    "A set is another data structure that is very similar to a hash table. It uses the same mechanism for hashing keys into integers. The difference between a set and hash table is that sets do not map their keys to anything. Sets are more convenient to use when you only care about checking if elements exist. You can add, remove, and check if an element exists in a set all in ***O(1)***.\n",
    "\n",
    "An important thing to note about sets is that they don't track frequency. If you have a set and add the same element 100 times, the first operation adds it and the next 99 do nothing."
   ]
  },
  {
   "cell_type": "markdown",
   "metadata": {},
   "source": [
    "    # Declaration: a hash map is declared like any other variable. The syntax is {}\n",
    "    hash_map = {}\n",
    "\n",
    "    # If you want to initialize it with some key value pairs, use the following syntax:\n",
    "    hash_map = {1: 2, 5: 3, 7: 2}\n",
    "\n",
    "    # Checking if a key exists: simply use the `in` keyword\n",
    "    1 in hash_map # True\n",
    "    9 in hash_map # False\n",
    "\n",
    "    # Accessing a value given a key: use square brackets, similar to an array.\n",
    "    hash_map[5] # 3\n",
    "\n",
    "    # Adding or updating a key: use square brackets, similar to an array.\n",
    "    # If the key already exists, the value will be updated\n",
    "    hash_map[5] = 6\n",
    "\n",
    "    # If the key doesn't exist yet, the key value pair will be inserted\n",
    "    hash_map[9] = 15\n",
    "\n",
    "    # Deleting a key: use the del keyword. Key must exist or you will get an error.\n",
    "    del hash_map[9]\n",
    "\n",
    "    # Get size\n",
    "    len(hash_map) # 3\n",
    "\n",
    "    # Get keys: use .keys(). You can iterate over this using a for loop.\n",
    "    keys = hash_map.keys()\n",
    "    for key in keys:\n",
    "        print(key)\n",
    "\n",
    "    # Get values: use .values(). You can iterate over this using a for loop.\n",
    "    values = hash_map.values()\n",
    "    for val in values:\n",
    "        print(val)"
   ]
  },
  {
   "cell_type": "markdown",
   "metadata": {},
   "source": [
    "    my_hash_map = {}\n",
    "\n",
    "    my_hash_map[4] = 83\n",
    "    print(my_hash_map[4]) # Prints 83\n",
    "\n",
    "    print(4 in my_hash_map) # Prints True\n",
    "    print(854 in my_hash_map) # Prints False\n",
    "\n",
    "    my_hash_map[8] = 327\n",
    "    my_hash_map[45] = 82523\n",
    "\n",
    "    for key, val in my_hash_map.items():\n",
    "        print(f\"{key}: {val}\")"
   ]
  },
  {
   "cell_type": "markdown",
   "metadata": {},
   "source": [
    "Example 1: 1. Two Sum\n",
    "\n",
    "Given an array of integers nums and an integer target, return indices of two numbers such that they add up to target. You cannot use the same index twice."
   ]
  },
  {
   "cell_type": "code",
   "execution_count": 2,
   "metadata": {},
   "outputs": [],
   "source": [
    "def twoSum(nums, target):\n",
    "    my_dict = {}\n",
    "    \n",
    "    for i in range(len(nums)):\n",
    "        num = nums[i]\n",
    "        comp = target - num\n",
    "        \n",
    "        if comp in my_dict:\n",
    "            return[i, my_dict[comp]]\n",
    "        my_dict[num] = i\n",
    "\n",
    "    return [-1, -1]\n",
    "            "
   ]
  },
  {
   "cell_type": "code",
   "execution_count": 3,
   "metadata": {},
   "outputs": [
    {
     "data": {
      "text/plain": [
       "[3, 0]"
      ]
     },
     "execution_count": 3,
     "metadata": {},
     "output_type": "execute_result"
    }
   ],
   "source": [
    "nums = [5,2,7,3,7]\n",
    "twoSum(nums, 8)"
   ]
  },
  {
   "cell_type": "markdown",
   "metadata": {},
   "source": [
    "Example 2: 2351. First Letter to Appear Twice\n",
    "\n",
    "Given a string s, return the first character to appear twice. It is guaranteed that the input will have a duplicate character."
   ]
  },
  {
   "cell_type": "code",
   "execution_count": 18,
   "metadata": {},
   "outputs": [],
   "source": [
    "def repeatedCharacter(s):\n",
    "    seen = set()\n",
    "    for c in s:\n",
    "        if c in seen:\n",
    "            return c\n",
    "        seen.add(c)\n",
    "    return -1\n",
    "\n"
   ]
  },
  {
   "cell_type": "code",
   "execution_count": 19,
   "metadata": {},
   "outputs": [
    {
     "data": {
      "text/plain": [
       "'c'"
      ]
     },
     "execution_count": 19,
     "metadata": {},
     "output_type": "execute_result"
    }
   ],
   "source": [
    "s = \"abccbaacz\"\n",
    "repeatedCharacter(s)"
   ]
  },
  {
   "cell_type": "markdown",
   "metadata": {},
   "source": [
    "Example 3: Given an integer array nums, find all the unique numbers x in nums that satisfy the following: x + 1 is not in nums, and x - 1 is not in nums."
   ]
  },
  {
   "cell_type": "code",
   "execution_count": 20,
   "metadata": {},
   "outputs": [],
   "source": [
    "def find_numbers(nums):\n",
    "    seen = set()\n",
    "    for num in nums:\n",
    "        if num+1 not in nums and num-1 not in nums:\n",
    "            seen.add(num)\n",
    "    return seen"
   ]
  }
 ],
 "metadata": {
  "kernelspec": {
   "display_name": "Python 3",
   "language": "python",
   "name": "python3"
  },
  "language_info": {
   "codemirror_mode": {
    "name": "ipython",
    "version": 3
   },
   "file_extension": ".py",
   "mimetype": "text/x-python",
   "name": "python",
   "nbconvert_exporter": "python",
   "pygments_lexer": "ipython3",
   "version": "3.11.4"
  }
 },
 "nbformat": 4,
 "nbformat_minor": 2
}
