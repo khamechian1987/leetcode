{
 "cells": [
  {
   "cell_type": "code",
   "execution_count": 14,
   "metadata": {},
   "outputs": [],
   "source": [
    "def lengthOfLongestSubstring(s):\n",
    "    \"\"\"\n",
    "    :type s: str\n",
    "    :rtype: int\n",
    "    \"\"\"\n",
    "    seen = []\n",
    "    max_length = 0\n",
    "    for char in s:\n",
    "        while char in seen:\n",
    "            seen.pop(0)\n",
    "        seen.append(char)\n",
    "        max_length = max(max_length, len(seen))\n",
    "    return max_length"
   ]
  },
  {
   "cell_type": "code",
   "execution_count": 16,
   "metadata": {},
   "outputs": [],
   "source": [
    "s = \"pwwkew\"\n",
    "print(lengthOfLongestSubstring(s))"
   ]
  },
  {
   "cell_type": "code",
   "execution_count": 38,
   "metadata": {},
   "outputs": [],
   "source": [
    "def threeSum(nums):\n",
    "    nums.sort()\n",
    "    distinct_triplets = []\n",
    "    for i in range(len(nums) - 2):\n",
    "        if i > 0 and nums[i] == nums[i-1]: # to not have duplicate in triplets\n",
    "            continue\n",
    "\n",
    "        l = i +1\n",
    "        r = len(nums) - 1\n",
    "        while l < r:\n",
    "            total = nums[i] + nums[l] + nums[r]\n",
    "            if total < 0:\n",
    "                l += 1\n",
    "            elif total > 0:\n",
    "                r -= 1\n",
    "            else:\n",
    "                distinct_triplets.append([nums[i], nums[l], nums[r]])\n",
    "                while l < r and nums[l] == nums[l+1]:\n",
    "                    l += 1\n",
    "                while l < r and nums[r] == nums[r-1]:\n",
    "                    r -= 1\n",
    "                l += 1\n",
    "                r -= 1\n",
    "                \n",
    "            \n",
    "    return distinct_triplets"
   ]
  },
  {
   "cell_type": "code",
   "execution_count": 39,
   "metadata": {},
   "outputs": [
    {
     "data": {
      "text/plain": [
       "[[-1, -1, 2], [-1, 0, 1]]"
      ]
     },
     "execution_count": 39,
     "metadata": {},
     "output_type": "execute_result"
    }
   ],
   "source": [
    "nums = [-1,0,1,2,-1]\n",
    "threeSum(nums)\n"
   ]
  },
  {
   "cell_type": "code",
   "execution_count": 37,
   "metadata": {},
   "outputs": [],
   "source": [
    "def revers_word(s):\n",
    "    s = s.split()\n",
    "    ans = []\n",
    "\n",
    "    for word in s:\n",
    "        left = 0\n",
    "        right = len(word) - 1\n",
    "        word = list(word)\n",
    "        while left<right:\n",
    "            temp = word[right]\n",
    "            word[right] = word[left]\n",
    "            word[left] = temp\n",
    "            left += 1\n",
    "            right -= 1\n",
    "        word = \"\".join(word)\n",
    "        ans.append(word)\n",
    "      \n",
    "    return \" \".join(ans)\n"
   ]
  },
  {
   "cell_type": "code",
   "execution_count": 38,
   "metadata": {},
   "outputs": [
    {
     "data": {
      "text/plain": [
       "\"s'teL ekat edoCteeL tsetnoc\""
      ]
     },
     "execution_count": 38,
     "metadata": {},
     "output_type": "execute_result"
    }
   ],
   "source": [
    "s = \"Let's take LeetCode contest\"\n",
    "revers_word(s)"
   ]
  },
  {
   "cell_type": "code",
   "execution_count": 48,
   "metadata": {},
   "outputs": [],
   "source": [
    "def reverseOnlyLetters(s):\n",
    "    left = 0\n",
    "    right = len(s) - 1\n",
    "    s = list(s)\n",
    "    ans = []\n",
    "    while left<right:\n",
    "        if s[left].isalpha() and s[right].isalpha():\n",
    "            temp = s[right]\n",
    "            s[right] = s[left]\n",
    "            s[left] = temp\n",
    "            left += 1\n",
    "            right -= 1\n",
    "        elif not s[left].isalpha():\n",
    "            left += 1\n",
    "        else:\n",
    "            right -= 1 \n",
    "    return \"\".join(s)"
   ]
  },
  {
   "cell_type": "code",
   "execution_count": 49,
   "metadata": {},
   "outputs": [
    {
     "data": {
      "text/plain": [
       "'j-Ih-gfE-dCba'"
      ]
     },
     "execution_count": 49,
     "metadata": {},
     "output_type": "execute_result"
    }
   ],
   "source": [
    "s = \"a-bC-dEf-ghIj\"\n",
    "reverseOnlyLetters(s)\n"
   ]
  },
  {
   "cell_type": "code",
   "execution_count": 65,
   "metadata": {},
   "outputs": [],
   "source": [
    "def moveZeroes(nums):\n",
    "    none_zero_index = 0\n",
    "    for i in range(len(nums)):\n",
    "        if nums[i] != 0:\n",
    "            nums[none_zero_index], nums[i] = nums[i], nums[none_zero_index]\n",
    "            none_zero_index += 1   \n",
    "\n",
    "    return nums\n",
    "\n",
    "        "
   ]
  },
  {
   "cell_type": "code",
   "execution_count": null,
   "metadata": {},
   "outputs": [],
   "source": []
  },
  {
   "cell_type": "code",
   "execution_count": 67,
   "metadata": {},
   "outputs": [
    {
     "data": {
      "text/plain": [
       "[1, 3, 12, 0, 0]"
      ]
     },
     "execution_count": 67,
     "metadata": {},
     "output_type": "execute_result"
    }
   ],
   "source": [
    "nums = [0,1,0,3,12]\n",
    "moveZeroes(nums)"
   ]
  },
  {
   "cell_type": "code",
   "execution_count": 89,
   "metadata": {},
   "outputs": [],
   "source": [
    "def reversePrefix(word, ch):\n",
    "    if ch not in word:\n",
    "    # If 'ch' is not in 'word', return the original word\n",
    "        return word\n",
    "    word = list(word)\n",
    "    l = 0\n",
    "    r = word.index(ch)\n",
    "    while l < r:\n",
    "        # temp = word[l]\n",
    "        # word[l] = word[r]\n",
    "        # word[r] = temp\n",
    "        word[l], word[r] = word[r], word[l]\n",
    "        l += 1\n",
    "        r -= 1\n",
    "    return \"\".join(word)\n"
   ]
  },
  {
   "cell_type": "code",
   "execution_count": 90,
   "metadata": {},
   "outputs": [
    {
     "data": {
      "text/plain": [
       "'zxyxxe'"
      ]
     },
     "execution_count": 90,
     "metadata": {},
     "output_type": "execute_result"
    }
   ],
   "source": [
    "word = \"xyxzxe\"\n",
    "reversePrefix(word, \"z\")"
   ]
  },
  {
   "cell_type": "code",
   "execution_count": 93,
   "metadata": {},
   "outputs": [],
   "source": [
    "def maxVowels(s, k):\n",
    "    s = list(s)\n",
    "    vowels = [\"a\", \"e\", \"o\", \"u\", \"i\"]\n",
    "\n",
    "    curr = 0\n",
    "    ans = 0\n",
    "    for i in range(k):\n",
    "        if s[i] in vowels:\n",
    "            curr += 1\n",
    "    ans = curr\n",
    "\n",
    "    for i in range(k, len(s)):\n",
    "        if s[i-k] in vowels:\n",
    "            curr -= 1\n",
    "        if s[i] in vowels:\n",
    "            curr += 1\n",
    "        ans = max(ans, curr)\n",
    "    return ans\n",
    "\n",
    "\n"
   ]
  },
  {
   "cell_type": "code",
   "execution_count": 94,
   "metadata": {},
   "outputs": [
    {
     "data": {
      "text/plain": [
       "3"
      ]
     },
     "execution_count": 94,
     "metadata": {},
     "output_type": "execute_result"
    }
   ],
   "source": [
    "s = \"abciiidef\"\n",
    "maxVowels(s, 3)"
   ]
  },
  {
   "cell_type": "code",
   "execution_count": 96,
   "metadata": {},
   "outputs": [],
   "source": [
    "def largestAltitude(gain):\n",
    "\n",
    "    prefix = [0]\n",
    "    for i in range(len(gain)):\n",
    "        prefix.append(gain[i] + prefix[len(prefix) - 1])\n",
    "    return max(prefix)"
   ]
  },
  {
   "cell_type": "code",
   "execution_count": 99,
   "metadata": {},
   "outputs": [
    {
     "data": {
      "text/plain": [
       "0"
      ]
     },
     "execution_count": 99,
     "metadata": {},
     "output_type": "execute_result"
    }
   ],
   "source": [
    "gain = [-4,-3,-2,-1,4,3,2]\n",
    "largestAltitude(gain)"
   ]
  },
  {
   "cell_type": "code",
   "execution_count": 122,
   "metadata": {},
   "outputs": [],
   "source": [
    "def pivotIndex(nums):\n",
    "    prefix = [nums[0]]\n",
    "    for i in range(1, len(nums)):\n",
    "        prefix.append(nums[i] + prefix[len(prefix) - 1])\n",
    "    left_sum = 0\n",
    "    right_sum = 0\n",
    "    for pivotIndex in range(len(prefix)):\n",
    "        left_sum = prefix[pivotIndex-1] if pivotIndex > 0 else 0\n",
    "        right_sum = prefix[len(prefix) - 1] - prefix[pivotIndex]\n",
    "        if left_sum == right_sum:\n",
    "            return pivotIndex\n",
    "    return -1\n",
    "\n",
    "\n",
    "\n"
   ]
  },
  {
   "cell_type": "code",
   "execution_count": 123,
   "metadata": {},
   "outputs": [
    {
     "data": {
      "text/plain": [
       "0"
      ]
     },
     "execution_count": 123,
     "metadata": {},
     "output_type": "execute_result"
    }
   ],
   "source": [
    "nums = [2,1,-1]\n",
    "pivotIndex(nums)"
   ]
  },
  {
   "cell_type": "code",
   "execution_count": 134,
   "metadata": {},
   "outputs": [],
   "source": [
    "def twoSum(nums, target):\n",
    "    my_dict = {}\n",
    "    \n",
    "    for i in range(len(nums)):\n",
    "        num = nums[i]\n",
    "        comp = target - num\n",
    "        \n",
    "        if comp in my_dict:\n",
    "            return[i, my_dict[comp]]\n",
    "        my_dict[num] = i\n",
    "\n",
    "    return [-1, -1]\n",
    "            "
   ]
  },
  {
   "cell_type": "code",
   "execution_count": 135,
   "metadata": {},
   "outputs": [
    {
     "data": {
      "text/plain": [
       "[3, 0]"
      ]
     },
     "execution_count": 135,
     "metadata": {},
     "output_type": "execute_result"
    }
   ],
   "source": [
    "nums = [5,2,7,3,7]\n",
    "twoSum(nums, 8)"
   ]
  },
  {
   "cell_type": "code",
   "execution_count": 136,
   "metadata": {},
   "outputs": [],
   "source": [
    "def checkIfPangram(sentence):\n",
    "    seen = set()\n",
    "    for c in sentence:\n",
    "        if c not in seen:\n",
    "            seen.add(c)\n",
    "    return len(seen) == 26\n",
    "    \n",
    " "
   ]
  },
  {
   "cell_type": "code",
   "execution_count": 138,
   "metadata": {},
   "outputs": [
    {
     "data": {
      "text/plain": [
       "True"
      ]
     },
     "execution_count": 138,
     "metadata": {},
     "output_type": "execute_result"
    }
   ],
   "source": [
    "sentence = \"thequickbrownfoxjumpsoverthelazydog\"\n",
    "checkIfPangram(sentence)"
   ]
  },
  {
   "cell_type": "code",
   "execution_count": 148,
   "metadata": {},
   "outputs": [],
   "source": [
    "def missingNumber(nums):\n",
    "    nums_set = set(nums)\n",
    "    sub_nums = set(range(len(nums)+1))\n",
    "    for num in sub_nums:\n",
    "        if num not in nums_set:\n",
    "            return num\n",
    "    return -1"
   ]
  },
  {
   "cell_type": "code",
   "execution_count": 149,
   "metadata": {},
   "outputs": [
    {
     "data": {
      "text/plain": [
       "8"
      ]
     },
     "execution_count": 149,
     "metadata": {},
     "output_type": "execute_result"
    }
   ],
   "source": [
    "nums = [9,6,4,2,3,5,7,0,1]\n",
    "missingNumber(nums)\n"
   ]
  },
  {
   "cell_type": "code",
   "execution_count": 167,
   "metadata": {},
   "outputs": [],
   "source": [
    "def countElements(arr):\n",
    "    md = {}\n",
    "    ans = 0\n",
    "    for i in range(len(arr)):\n",
    "        md[i] = arr[i]\n",
    "    for key , val in md.items():\n",
    "        if val+1 in md.values():\n",
    "            ans += 1\n",
    "    return ans\n",
    "\n",
    "\n",
    " "
   ]
  },
  {
   "cell_type": "code",
   "execution_count": 169,
   "metadata": {},
   "outputs": [
    {
     "data": {
      "text/plain": [
       "2"
      ]
     },
     "execution_count": 169,
     "metadata": {},
     "output_type": "execute_result"
    }
   ],
   "source": [
    "arr = [1,2,3]\n",
    "countElements(arr)"
   ]
  }
 ],
 "metadata": {
  "kernelspec": {
   "display_name": "Python 3",
   "language": "python",
   "name": "python3"
  },
  "language_info": {
   "codemirror_mode": {
    "name": "ipython",
    "version": 3
   },
   "file_extension": ".py",
   "mimetype": "text/x-python",
   "name": "python",
   "nbconvert_exporter": "python",
   "pygments_lexer": "ipython3",
   "version": "3.11.4"
  }
 },
 "nbformat": 4,
 "nbformat_minor": 2
}
