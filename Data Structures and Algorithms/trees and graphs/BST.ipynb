{
 "cells": [
  {
   "cell_type": "markdown",
   "metadata": {},
   "source": [
    "#   **Binary search trees- BST**\n"
   ]
  },
  {
   "cell_type": "markdown",
   "metadata": {},
   "source": [
    "A binary search tree (BST) is a type of binary tree. A BST has the following property:\n",
    "\n",
    "For each node, all values in its left subtree are less than the value in the node, and all values in its right subtree are greater than the value in the node."
   ]
  },
  {
   "cell_type": "markdown",
   "metadata": {},
   "source": [
    "    This property also implies that values in a BST must be unique.\n",
    "\n"
   ]
  },
  {
   "cell_type": "markdown",
   "metadata": {},
   "source": [
    "![image.png](attachment:image.png)"
   ]
  },
  {
   "cell_type": "markdown",
   "metadata": {},
   "source": [
    "With a binary search tree, operations like searching, adding, and removing can be done in O(logn) time on average, where n is the number of nodes in the tree, using something called binary search, which is the focus of an upcoming chapter.\n",
    "\n",
    "Let's say you have the above tree, and you want to check if the value 20 existed. Starting at the root, we can see that 23 > 20. This means we can ignore the right subtree, because every value in the subtree is also going to be greater than 20. We start searching in the left subtree. At the next step, 20 > 8, so now we can ignore the left subtree, and move to the right. Next, 20 > 17, so once again we can ignore the left subtree. Finally, we find the 20 after moving right once more."
   ]
  },
  {
   "cell_type": "markdown",
   "metadata": {},
   "source": [
    "    Trivia to know: an inorder DFS traversal prioritizing left before right on a BST will handle the nodes in sorted order."
   ]
  },
  {
   "cell_type": "code",
   "execution_count": null,
   "metadata": {},
   "outputs": [],
   "source": [
    "def inorder_dfs(node):\n",
    "    if not node:\n",
    "        return\n",
    "\n",
    "    inorder_dfs(node.left)\n",
    "    print(node.val)\n",
    "    inorder_dfs(node.right)\n",
    "    return"
   ]
  },
  {
   "cell_type": "markdown",
   "metadata": {},
   "source": [
    "Example 1: 938. Range Sum of BST\n",
    "\n",
    "Given the root node of a binary search tree and two integers low and high, return the sum of values of all nodes with a value in the inclusive range [low, high]."
   ]
  },
  {
   "cell_type": "markdown",
   "metadata": {},
   "source": [
    "The trivial approach would be to do a normal BFS or DFS, visit every node, and only add nodes whose values are between low and high to the sum. However, we can make use of the BST property to develop a more efficient algorithm. In a BST, every node has a value greater than all nodes in the left subtree and a value less than all nodes in the right subtree. Therefore, if the current node's value is less than low, we know it is pointless to check the left subtree because all nodes in the left subtree will be out of the range. Similarly, if the current node's value is greater than high, it is pointless to check the right subtree. This optimization can save a potentially huge amount of computation."
   ]
  },
  {
   "cell_type": "code",
   "execution_count": null,
   "metadata": {},
   "outputs": [],
   "source": [
    "class Solution:\n",
    "    def rangeSumBST(self, root: Optional[TreeNode], low: int, high: int) -> int:\n",
    "        if not root:\n",
    "            return 0\n",
    "\n",
    "        ans = 0\n",
    "        if low <= root.val <= high:\n",
    "            ans += root.val\n",
    "        if low < root.val:\n",
    "            ans += self.rangeSumBST(root.left, low, high)\n",
    "        if root.val < high:\n",
    "            ans += self.rangeSumBST(root.right, low, high)\n",
    "\n",
    "        return ans"
   ]
  },
  {
   "cell_type": "markdown",
   "metadata": {},
   "source": [
    "Example 2: 530. Minimum Absolute Difference in BST\n",
    "\n",
    "Given the root of a BST, return the minimum absolute difference between the values of any two different nodes in the tree."
   ]
  },
  {
   "cell_type": "markdown",
   "metadata": {},
   "source": [
    "One approach would be to go through the tree and put all the values in an array, then loop over all pairs of the array to find the minimum difference. This would be O(n2). A better approach would be to sort the array, and then iterate over the adjacent elements. The answer must be between adjacent elements in the sorted array, so this improves the time complexity to logO(n⋅logn) due to the sort. Can we do better?\n",
    "\n",
    "As briefly mentioned earlier in this article, if you perform an inorder traversal on a BST, you will visit the nodes in sorted order. Therefore, if we do an inorder DFS, we can get the nodes in sorted order without the logO(n⋅logn) sort, resulting in an overall time complexity of O(n).\n",
    "\n",
    "We will pass an array values in our dfs function. To perform the inorder traversal, we first call on the left child, then add the current value to values, then call on the right child. This will add the values in sorted order."
   ]
  },
  {
   "cell_type": "code",
   "execution_count": null,
   "metadata": {},
   "outputs": [],
   "source": [
    "class Solution:\n",
    "    def getMinimumDifference(self, root: Optional[TreeNode]) -> int:\n",
    "        def dfs(node):\n",
    "            if not node:\n",
    "                return\n",
    "            \n",
    "            left = dfs(node.left)\n",
    "            values.append(node.val)\n",
    "            right = dfs(node.right)\n",
    "\n",
    "        values = []\n",
    "        dfs(root)\n",
    "        ans = float(\"inf\")\n",
    "        for i in range(1, len(values)):\n",
    "            ans = min(ans, values[i] - values[i - 1])\n",
    "        \n",
    "        return ans"
   ]
  },
  {
   "cell_type": "markdown",
   "metadata": {},
   "source": [
    "Example 3: 98. Validate Binary Search Tree\n",
    "\n",
    "Given the root of a binary tree, determine if it is a valid BST."
   ]
  },
  {
   "cell_type": "markdown",
   "metadata": {},
   "source": [
    "Using recursion, we can construct a function dfs that takes a node and returns true if the tree rooted at node is a BST. First, what arguments do we need to pass (other than the node)? In a BST, the root node can be any value because it is not the child of any node, but every node in the left subtree should be less than it, and every node in the right subtree should be greater than it. To enforce this, we can use two integer arguments small and large, and make sure small < node.val < large holds.\n",
    "\n",
    "If we are defining (small, large) as the interval for allowed values, how do we update them to maintain the BST property? At each node, the left subtree nodes should be less than node.val, so we can update large = node.val. The right subtree nodes should be greater than node.val, so we can update small = node.val. For the root node, we can initialize small = -infinity and large = infinity - the root can be any value since it has no parent.\n",
    "\n",
    "Remember the definition of a BST: \"In a BST, at any given node, let's say your data is val. All data in the left subtree is less than val, and all data in the right subtree is greater than val\". Because of the \"at any given node\", this means that in a BST, all subtrees are also BSTs. Therefore, given an input node, we need to make sure that node.left and node.right are also BSTs."
   ]
  },
  {
   "cell_type": "code",
   "execution_count": null,
   "metadata": {},
   "outputs": [],
   "source": [
    "def isValidBST(root):\n",
    "    def dfs(node, small, large):\n",
    "        if not small <=  node.val <= large:\n",
    "            return False\n",
    "        if not node:\n",
    "            return True\n",
    "        left_is_valid = dfs(node.left, small, node.val)\n",
    "        right_is_valid = dfs(node.right, node.val, large)\n",
    "        return left_is_valid and right_is_valid\n",
    "    return dfs(root, float('-inf'), float('inf'))"
   ]
  }
 ],
 "metadata": {
  "language_info": {
   "name": "python"
  }
 },
 "nbformat": 4,
 "nbformat_minor": 2
}
