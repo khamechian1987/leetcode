{
 "cells": [
  {
   "cell_type": "markdown",
   "metadata": {},
   "source": [
    "# 1. String to Integer (atoi)(P8)(M)"
   ]
  },
  {
   "cell_type": "code",
   "execution_count": null,
   "metadata": {},
   "outputs": [],
   "source": [
    "def myAtoi( s):\n",
    "    \"\"\"\n",
    "    :type s: str\n",
    "    :rtype: int\n",
    "    \"\"\"\n",
    "    #Read in and ignore any leading whitespace.\n",
    "    s = s.strip()\n",
    "\n",
    "    # Check if the next character (if not already at the end of the string) is '-' or '+'. \n",
    "    if not s:\n",
    "        return 0\n",
    "\n",
    "    sign = 1\n",
    "    start_index = 0\n",
    "\n",
    "    if s[0] in ['-', '+']:\n",
    "        if s[0] == '-':\n",
    "            sign = -1\n",
    "        start_index = 1\n",
    "\n",
    "    # Read in next the characters until the next non-digit character or the end of the input is reached. \n",
    "    # The rest of the string is ignored. \n",
    "    rest_of_string_no_char = []\n",
    "    for char in s[start_index:]:\n",
    "        if char.isdigit():\n",
    "            rest_of_string_no_char.append(char)\n",
    "        else:\n",
    "            break\n",
    "\n",
    "\n",
    "    # Convert these digits into an integer (i.e. \"123\" -> 123, \"0032\" -> 32). \n",
    "    # If no digits were read, then the integer is 0. Change the sign as necessary (from step 2).\n",
    "    rest_of_string_str = ''.join(rest_of_string_no_char)\n",
    "    if rest_of_string_str == '':\n",
    "        rest_of_string_str = '0'\n",
    "    rest_of_string_int = int(rest_of_string_str)\n",
    "    rest_of_string_int = sign * rest_of_string_int\n",
    "    \n",
    "\n",
    "    #If the integer is out of the 32-bit signed integer range [-231, 231 - 1], \n",
    "    # then clamp the integer so that it remains in the range. \n",
    "    # Specifically, integers less than -231 should be clamped to -231, \n",
    "    # and integers greater than 231 - 1 should be clamped to 231 - 1.\n",
    "\n",
    "    if rest_of_string_int > 2**31 -1:\n",
    "        rest_of_string_int = 2**31 -1\n",
    "    elif rest_of_string_int < -2**31:\n",
    "        rest_of_string_int = -2**31\n",
    "\n",
    "    return rest_of_string_int\n",
    "\n",
    "\n",
    "\n",
    "\n"
   ]
  },
  {
   "cell_type": "markdown",
   "metadata": {},
   "source": [
    "# 2. 3Sum (P15)(M)"
   ]
  },
  {
   "cell_type": "code",
   "execution_count": null,
   "metadata": {},
   "outputs": [],
   "source": [
    "class Solution(object):\n",
    "    def threeSum(self, nums):\n",
    "        nums.sort()\n",
    "        distinct_triplets = []\n",
    "        for i in range(len(nums) - 2):\n",
    "            if i > 0 and nums[i] == nums[i-1]: # to not have duplicate in triplets\n",
    "                continue\n",
    "\n",
    "            l = i +1\n",
    "            r = len(nums) - 1\n",
    "            while l < r:\n",
    "                total = nums[i] + nums[l] + nums[r]\n",
    "                if total < 0:\n",
    "                    l += 1\n",
    "                elif total > 0:\n",
    "                    r -= 1\n",
    "                else:\n",
    "                    distinct_triplets.append([nums[i], nums[l], nums[r]])\n",
    "                    while l < r and nums[l] == nums[l+1]:\n",
    "                        l += 1\n",
    "                    while l < r and nums[r] == nums[r-1]:\n",
    "                        r -= 1\n",
    "                    l += 1\n",
    "                    r -= 1\n",
    "\n",
    "\n",
    "        return distinct_triplets"
   ]
  },
  {
   "cell_type": "markdown",
   "metadata": {},
   "source": [
    "# 3. Remove Duplicates from Sorted Array (P26)(E)"
   ]
  },
  {
   "cell_type": "markdown",
   "metadata": {},
   "source": [
    "Given an integer array nums sorted in non-decreasing order, remove the duplicates in-place such that each unique element appears only once. The relative order of the elements should be kept the same. Then return the number of unique elements in nums.\n",
    "\n",
    "Consider the number of unique elements of nums to be k, to get accepted, you need to do the following things:\n",
    "\n",
    "Change the array nums such that the first k elements of nums contain the unique elements in the order they were present in nums initially. The remaining elements of nums are not important as well as the size of nums.\n",
    "Return k."
   ]
  },
  {
   "cell_type": "code",
   "execution_count": 62,
   "metadata": {},
   "outputs": [],
   "source": [
    "def removeDuplicates(nums):\n",
    "    \"\"\"\n",
    "    :type nums: List[int]\n",
    "    :rtype: int\n",
    "    \"\"\"\n",
    "    unique_index = 1 # starts from 1 because first element is always unique\n",
    "    for i in range(1, len(nums)):\n",
    "        if nums[i] != nums[i-1]:\n",
    "            nums[unique_index] = nums[i]\n",
    "            unique_index += 1\n",
    "            \n",
    "    return unique_index\n",
    "\n"
   ]
  },
  {
   "cell_type": "code",
   "execution_count": 63,
   "metadata": {},
   "outputs": [
    {
     "data": {
      "text/plain": [
       "2"
      ]
     },
     "execution_count": 63,
     "metadata": {},
     "output_type": "execute_result"
    }
   ],
   "source": [
    "nums = [1,1,2]\n",
    "removeDuplicates(nums)"
   ]
  },
  {
   "cell_type": "markdown",
   "metadata": {},
   "source": [
    "# 4. Multiply Strings (P43)(M)\n",
    "\n",
    "Given two non-negative integers num1 and num2 represented as strings, return the product of num1 and num2, also represented as a string.\n",
    "\n",
    "Note: You must not use any built-in BigInteger library or convert the inputs to integer directly."
   ]
  },
  {
   "cell_type": "code",
   "execution_count": null,
   "metadata": {},
   "outputs": [],
   "source": [
    "def multiply(num1, num2):\n",
    "    \"\"\"\n",
    "    :type num1: str\n",
    "    :type num2: str\n",
    "    :rtype: str\n",
    "    \"\"\"\n",
    "    if num1 == '0' or num2 == '0':\n",
    "        return '0'\n",
    "    result = [0]* (len(num1) + len(num2))\n",
    "    num1 = num1[::-1]\n",
    "    num2 = num2[::-1]\n",
    "\n",
    "    for i in range(len(num1)):\n",
    "        for j in range(len(num2)):\n",
    "            digit = int(num1[i]) * int(num2[j])\n",
    "            result[i+j] += digit\n",
    "            result[i+j+1] += (result[i+j] // 10)\n",
    "            result[i+j] %= 10\n",
    "    result, begining = result[::-1], 0\n",
    "\n",
    "    while begining < len(result) and result[begining] == 0:\n",
    "        begining += 1\n",
    "\n",
    "    result = map(str, result[begining:])\n",
    "    return \"\".join(result)\n",
    "\n",
    "    \n",
    "\n"
   ]
  },
  {
   "cell_type": "markdown",
   "metadata": {},
   "source": [
    "# 5. Group Anagrams(P49)(M)\n",
    "# <u>very important. learned the defaultdict</u>\n",
    "\n",
    "Given an array of strings strs, group the anagrams together. You can return the answer in any order.\n",
    "\n",
    "An Anagram is a word or phrase formed by rearranging the letters of a different word or phrase, typically using all the original letters exactly once."
   ]
  },
  {
   "cell_type": "code",
   "execution_count": 91,
   "metadata": {},
   "outputs": [],
   "source": [
    "from collections import defaultdict\n",
    "\n",
    "def groupAnagrams(strs):\n",
    "    \"\"\"\n",
    "    :type strs: List[str]\n",
    "    :rtype: List[List[str]]\n",
    "    \"\"\"\n",
    "    anagrams = defaultdict(list)\n",
    "\n",
    "    for word in strs:\n",
    "        key = tuple(sorted(word))\n",
    "        print(anagrams[key])\n",
    "        anagrams[key].append(word)\n",
    "        print(anagrams[key])\n",
    "    return list(anagrams.values())\n",
    "\n",
    "       \n",
    "\n"
   ]
  },
  {
   "cell_type": "code",
   "execution_count": 92,
   "metadata": {},
   "outputs": [
    {
     "name": "stdout",
     "output_type": "stream",
     "text": [
      "[]\n",
      "['eat']\n",
      "['eat']\n",
      "['eat', 'tea']\n",
      "[]\n",
      "['tan']\n",
      "['eat', 'tea']\n",
      "['eat', 'tea', 'ate']\n",
      "['tan']\n",
      "['tan', 'nat']\n",
      "[]\n",
      "['bat']\n"
     ]
    },
    {
     "data": {
      "text/plain": [
       "[['eat', 'tea', 'ate'], ['tan', 'nat'], ['bat']]"
      ]
     },
     "execution_count": 92,
     "metadata": {},
     "output_type": "execute_result"
    }
   ],
   "source": [
    "strs = [\"eat\",\"tea\",\"tan\",\"ate\",\"nat\",\"bat\"]\n",
    "groupAnagrams(strs)"
   ]
  },
  {
   "cell_type": "markdown",
   "metadata": {},
   "source": [
    "# 6. Add Binary (P67)(E)\n",
    "Given two binary strings a and b, return their sum as a binary string.\n"
   ]
  },
  {
   "cell_type": "code",
   "execution_count": 115,
   "metadata": {},
   "outputs": [],
   "source": [
    "def addBinary(a, b):\n",
    "    # Example input: a = \"1010\", b = \"1011\"\n",
    "\n",
    "    # Step 1: Reverse both strings\n",
    "    a, b = a[::-1], b[::-1]\n",
    "    # Now a = \"0101\", b = \"1101\"\n",
    "\n",
    "    # Initialize the result string and the carry\n",
    "    result = \"\"\n",
    "    carry = 0\n",
    "\n",
    "    # Step 2: Iterate over the longest string's length\n",
    "    for i in range(max(len(a), len(b))):  \n",
    "        # For i = 0, 1, 2, 3 (length of the longer string)\n",
    "\n",
    "        # Step 3: Extract corresponding bits or use 0 if index is out of range\n",
    "        M = ord(a[i])\n",
    "        k = ord(b[i])\n",
    "        l = ord(\"0\")\n",
    "        digitA = ord(a[i]) - ord(\"0\") if i < len(a) else 0\n",
    "        digitB = ord(b[i]) - ord(\"0\") if i < len(b) else 0\n",
    "        # Example for i = 0: digitA = 0 (from \"0101\"), digitB = 1 (from \"1101\")\n",
    "\n",
    "        # Step 4: Add the two bits with the carry\n",
    "        total = digitA + digitB + carry\n",
    "        # Example for i = 0: total = 1 + 1 + 0 = 2\n",
    "\n",
    "        # Step 5: Calculate the new digit (remainder when divided by 2)\n",
    "        char = str(total % 2)\n",
    "        # Example for i = 0: char = str(2 % 2) = \"0\"\n",
    "\n",
    "        # Step 6: Add the new digit to the front of the result string\n",
    "        result = char + result  \n",
    "        # Example for i = 0: result = \"0\" + \"\"\n",
    "\n",
    "        # Step 7: Update the carry (floor division by 2)\n",
    "        carry = total // 2     \n",
    "        # Example for i = 0: carry = 2 // 2 = 1\n",
    "\n",
    "    # Step 8: After the loop, check if there is a leftover carry\n",
    "    if carry > 0: \n",
    "        result = \"1\" + result\n",
    "        # If there's a carry after the last iteration, prepend \"1\" to result\n",
    "\n",
    "    # Return the final result\n",
    "    return result\n",
    "    # Example output: \"10101\"\n"
   ]
  },
  {
   "cell_type": "code",
   "execution_count": 116,
   "metadata": {},
   "outputs": [
    {
     "data": {
      "text/plain": [
       "'10101'"
      ]
     },
     "execution_count": 116,
     "metadata": {},
     "output_type": "execute_result"
    }
   ],
   "source": [
    "a = \"1010\"\n",
    "b = \"1011\"\n",
    "addBinary(a, b)\n",
    "\n"
   ]
  },
  {
   "cell_type": "markdown",
   "metadata": {},
   "source": [
    "# 7. Integer to English Words(P273)(H)\n",
    "Convert a non-negative integer num to its English words representation.\n",
    "# <u>I DID NOT LEARN THIS</u>"
   ]
  },
  {
   "cell_type": "code",
   "execution_count": null,
   "metadata": {},
   "outputs": [],
   "source": [
    "num_dict = {\n",
    "    \"1\" : \"One\",\n",
    "    \"2\" : \"Two\",\n",
    "    \"3\" : \"Three\",\n",
    "    \"4\" : \"Four\",\n",
    "    \"5\" : \"Five\",\n",
    "    \"6\" : \"Six\",\n",
    "    \"7\" : \"Seven\",\n",
    "    \"8\" : \"eight\",\n",
    "    \"9\" : \"nine\"\n",
    "}\n",
    "mid_digit_dict = {\n",
    "    \"1\" : \"One\",\n",
    "    \"2\" : \"Two\",\n",
    "    \"3\" : \"Three\",\n",
    "    \"4\" : \"Four\",\n",
    "    \"5\" : \"Five\",\n",
    "    \"6\" : \"Six\",\n",
    "    \"7\" : \"Seven\",\n",
    "    \"8\" : \"eight\",\n",
    "    \"9\" : \"nine\"\n",
    "}\n",
    "}"
   ]
  },
  {
   "cell_type": "code",
   "execution_count": null,
   "metadata": {},
   "outputs": [],
   "source": [
    "def three_digits_convertor(num):\n",
    "    num_str = str(num)\n",
    "\n",
    "    return"
   ]
  },
  {
   "cell_type": "markdown",
   "metadata": {},
   "source": [
    "# 8. Product of Array Except Self (P238)(M)\n",
    "\n",
    "Given an integer array nums, return an array answer such that answer[i] is equal to the product of all the elements of nums except nums[i].\n",
    "\n",
    "The product of any prefix or suffix of nums is guaranteed to fit in a 32-bit integer.\n",
    "\n",
    "You must write an algorithm that runs in O(n) time and without using the division operation."
   ]
  },
  {
   "cell_type": "code",
   "execution_count": 202,
   "metadata": {},
   "outputs": [],
   "source": [
    "def productExceptSelf(nums):\n",
    "    length = len(nums)\n",
    "    result = []\n",
    "    left = [1] * length\n",
    "    right = [1] * length  \n",
    "    for i in range(1, len(nums)):\n",
    "        left[i] = nums[i-1] * left[i-1]\n",
    "    \n",
    "    for i in range(len(nums) -2, -1, -1):\n",
    "        right[i] = nums[i+1] * right[i+1]\n",
    "    \n",
    "    for i in range(len(nums)):\n",
    "        result.append(left[i]*right[i])\n",
    "    \n",
    "\n",
    "    return result\n",
    "        \n",
    "        "
   ]
  },
  {
   "cell_type": "code",
   "execution_count": 203,
   "metadata": {},
   "outputs": [
    {
     "data": {
      "text/plain": [
       "[4800, 3840, 19200, 2400, 9600, 1920, 3200]"
      ]
     },
     "execution_count": 203,
     "metadata": {},
     "output_type": "execute_result"
    }
   ],
   "source": [
    "nums = [4,5,1,8,2,10,6]\n",
    "productExceptSelf(nums)"
   ]
  }
 ],
 "metadata": {
  "kernelspec": {
   "display_name": "Python 3",
   "language": "python",
   "name": "python3"
  },
  "language_info": {
   "codemirror_mode": {
    "name": "ipython",
    "version": 3
   },
   "file_extension": ".py",
   "mimetype": "text/x-python",
   "name": "python",
   "nbconvert_exporter": "python",
   "pygments_lexer": "ipython3",
   "version": "3.11.4"
  }
 },
 "nbformat": 4,
 "nbformat_minor": 2
}
