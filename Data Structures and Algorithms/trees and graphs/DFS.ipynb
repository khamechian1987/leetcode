{
 "cells": [
  {
   "cell_type": "markdown",
   "metadata": {},
   "source": [
    "#  **Binary trees - DFS**"
   ]
  },
  {
   "cell_type": "markdown",
   "metadata": {},
   "source": [
    "In this article, we'll talk about how to traverse binary trees. Tree traversal is how we access the elements of a tree, and thus is mandatory for solving tree problems.\n",
    "\n",
    "Recall that in the linked list chapter, we traversed a linked list using the following code:"
   ]
  },
  {
   "cell_type": "code",
   "execution_count": null,
   "metadata": {},
   "outputs": [],
   "source": [
    "def get_sum(head):\n",
    "    ans = 0\n",
    "    while head:\n",
    "        ans += head.val\n",
    "        head = head.next\n",
    "    \n",
    "    return ans"
   ]
  },
  {
   "cell_type": "markdown",
   "metadata": {},
   "source": [
    "The above code starts at the head and visits each node to find the sum of all values in the linked list.\n",
    "\n",
    "For each node, there is a moment in the code execution where the head variable is referencing the node. We traverse by using the .next attribute.\n",
    "\n",
    "Traversing a binary tree follows the same idea. We start at the root and traverse by using the child pointers .left and .right. When traversing linked lists, we usually do it iteratively. With binary trees, we usually do it recursively."
   ]
  },
  {
   "cell_type": "markdown",
   "metadata": {},
   "source": [
    "There are two main types of tree traversals. The first is called depth-first search (DFS). For binary trees specifically, there are 3 ways to perform DFS - preorder, inorder, and postorder (don't worry though, the type you choose rarely matters). The other main type of traversal is called breadth-first search (BFS). Let's start by looking at DFS."
   ]
  },
  {
   "cell_type": "markdown",
   "metadata": {},
   "source": [
    "# Depth-first search (DFS)"
   ]
  },
  {
   "cell_type": "markdown",
   "metadata": {},
   "source": [
    "    Recall that the depth of a node is its distance from the root.\n",
    "\n",
    "\n"
   ]
  },
  {
   "cell_type": "markdown",
   "metadata": {},
   "source": [
    "In a DFS, we prioritize depth by traversing as far down the tree as possible in one direction (until reaching a leaf node) before considering the other direction. For example, let's say we choose left as our priority direction. We move exclusively with node.left until the left subtree has been fully explored. Then, we explore the right subtree.\n",
    "\n",
    "Trees are named as such because they resemble real-life trees. You can think of the paths of a binary tree as branches growing from the root. DFS chooses a branch and goes as far down as possible. Once it fully explores the branch, it backtracks until it finds another unexplored branch.\n",
    "\n",
    "Because we need to backtrack up the tree after reaching the end of a branch, DFS is typically implemented using recursion, although it is also sometimes done iteratively using a stack. Here is a simple example of recursive DFS to visit every node:"
   ]
  },
  {
   "cell_type": "markdown",
   "metadata": {},
   "source": [
    "    Each call to dfs(node) is visiting that node. As you can see in the code, we visit the left child before visiting the right child."
   ]
  },
  {
   "cell_type": "code",
   "execution_count": null,
   "metadata": {},
   "outputs": [],
   "source": [
    "def dfs(node):\n",
    "    if node == None:\n",
    "        return\n",
    "\n",
    "    dfs(node.left)\n",
    "    dfs(node.right)\n",
    "    return"
   ]
  },
  {
   "cell_type": "markdown",
   "metadata": {},
   "source": [
    "<video controls src=\"20240226-2303-06.5444806.mp4\" title=\"Title\"></video>"
   ]
  },
  {
   "cell_type": "markdown",
   "metadata": {},
   "source": [
    "The good news is that the structure for performing a DFS is very similar across all problems. It goes as follows:\n",
    "\n",
    "- Handle the base case(s). Usually, an empty tree (node = null) is a base case.\n",
    "- Do some logic for the current node\n",
    "- Recursively call on the current node's children\n",
    "- Return the answer"
   ]
  },
  {
   "cell_type": "markdown",
   "metadata": {},
   "source": [
    "    As we will see in a moment, steps 2 and 3 may happen in different orders.\n",
    "\n"
   ]
  },
  {
   "cell_type": "markdown",
   "metadata": {},
   "source": [
    "The most important thing to understand when it comes to solving binary tree problems is that each function call solves and returns the answer to the original problem as if the subtree rooted at the current node was the input. The logic that will be done at each call (step 2) will depend on the problem.\n",
    "\n",
    "We mentioned that there are three types of DFS. Each of the three types differs only in the order that they execute steps 2/3.\n",
    "\n",
    "Let's take a look at the types now, using the following tree as a talking point:"
   ]
  },
  {
   "cell_type": "markdown",
   "metadata": {},
   "source": [
    "![image.png](attachment:image.png)"
   ]
  },
  {
   "cell_type": "markdown",
   "metadata": {},
   "source": [
    "# Preorder traversal\n",
    "\n"
   ]
  },
  {
   "cell_type": "markdown",
   "metadata": {},
   "source": [
    "In preorder traversal, logic is done on the current node before moving to the children. Let's say that we wanted to just print the value of each node in the tree to the console. In that case, at any given node, we would print the current node's value, then recursively call the left child, then recursively call the right child."
   ]
  },
  {
   "cell_type": "code",
   "execution_count": null,
   "metadata": {},
   "outputs": [],
   "source": [
    "def preorder_dfs(node):\n",
    "    if not node:\n",
    "        return\n",
    "\n",
    "    print(node.val)\n",
    "    preorder_dfs(node.left)\n",
    "    preorder_dfs(node.right)\n",
    "    return"
   ]
  },
  {
   "cell_type": "markdown",
   "metadata": {},
   "source": [
    "Running the above code on the example tree, we would see the nodes printed in this order: 0, 1, 3, 4, 6, 2, 5.\n",
    "\n",
    "Because the logic (printing) is done immediately at the start of each function call, preorder handles nodes in the same order that the function calls happen."
   ]
  },
  {
   "cell_type": "markdown",
   "metadata": {},
   "source": [
    "# Inorder traversal\n",
    "For inorder traversal, we first recursively call the left child, then perform logic (print in this case) on the current node, and then recursively call the right child. This means no logic will be done until we reach a node without a left child since calling on the left child takes priority over performing logic.\n"
   ]
  },
  {
   "cell_type": "code",
   "execution_count": null,
   "metadata": {},
   "outputs": [],
   "source": [
    "def inorder_dfs(node):\n",
    "    if not node:\n",
    "        return\n",
    "\n",
    "    inorder_dfs(node.left)\n",
    "    print(node.val)\n",
    "    inorder_dfs(node.right)\n",
    "    return"
   ]
  },
  {
   "cell_type": "markdown",
   "metadata": {},
   "source": [
    "Running the above code on the example tree, we would see the nodes printed in this order: 3, 1, 4, 6, 0, 2, 5.\n",
    "\n",
    "Notice that for any given node, its value is not printed until all values in the left subtree are printed, and values in its right subtree are not printed until after that."
   ]
  },
  {
   "cell_type": "markdown",
   "metadata": {},
   "source": [
    "# Postorder traversal\n",
    "\n",
    "In postorder traversal, we recursively call on the children first and then perform logic on the current node. This means no logic will be done until we reach a leaf node since calling on the children takes priority over performing logic. In a postorder traversal, the root is the last node where logic is done."
   ]
  },
  {
   "cell_type": "code",
   "execution_count": null,
   "metadata": {},
   "outputs": [],
   "source": [
    "def postorder_dfs(node):\n",
    "    if not node:\n",
    "        return\n",
    "\n",
    "    postorder_dfs(node.left)\n",
    "    postorder_dfs(node.right)\n",
    "    print(node.val)\n",
    "    return"
   ]
  },
  {
   "cell_type": "markdown",
   "metadata": {},
   "source": [
    "Running the above code on the example tree, we would see the nodes printed in this order: 3, 6, 4, 1, 5, 2, 0.\n",
    "\n",
    "Notice that for any given node, no values in its right subtree are printed until all values in its left subtree are printed, and its own value is not printed until after that."
   ]
  },
  {
   "cell_type": "markdown",
   "metadata": {},
   "source": [
    "    The name of each traversal is describing when the current node's logic is performed.\n",
    "\n",
    "    Pre -> before children\n",
    "\n",
    "    In -> in the middle of children\n",
    "\n",
    "    Post -> after children"
   ]
  },
  {
   "cell_type": "markdown",
   "metadata": {},
   "source": [
    "Before we start solving problems, try playing around with binary trees in this interactive playground."
   ]
  },
  {
   "cell_type": "code",
   "execution_count": null,
   "metadata": {},
   "outputs": [
    {
     "name": "stdout",
     "output_type": "stream",
     "text": [
      "1\n",
      "2\n"
     ]
    }
   ],
   "source": [
    "class TreeNode:\n",
    "    def __init__(self, val):\n",
    "        self.val = val\n",
    "        self.left = None\n",
    "        self.right = None\n",
    "\n",
    "\"\"\"\n",
    "The following code builds a tree that looks like:\n",
    "    0\n",
    "  /   \\\n",
    " 1     2\n",
    "\"\"\"\n",
    "\n",
    "root = TreeNode(0)\n",
    "one = TreeNode(1)\n",
    "two = TreeNode(2)\n",
    "\n",
    "root.left = one\n",
    "root.right = two\n",
    "\n",
    "print(root.left.val)\n",
    "print(root.right.val)"
   ]
  },
  {
   "cell_type": "markdown",
   "metadata": {},
   "source": [
    "# Solving problems with DFS\n"
   ]
  },
  {
   "cell_type": "markdown",
   "metadata": {},
   "source": [
    "If you're worried about needing to know three different types of DFS, don't worry. If you're using recursion (which you should be), then switching between the three types is trivial.\n",
    "\n",
    "In many problems, the type of DFS used doesn't even matter, it's just important that all nodes are visited. Knowing the differences between the three types of DFS is mostly good for trivia.\n",
    "\n",
    "Let's look at some example binary tree problems that can be solved with DFS."
   ]
  },
  {
   "cell_type": "markdown",
   "metadata": {},
   "source": [
    "Example 1: 104. Maximum Depth of Binary Tree\n",
    "\n",
    "Given the root of a binary tree, find the length of the longest path from the root to a leaf."
   ]
  },
  {
   "cell_type": "code",
   "execution_count": null,
   "metadata": {},
   "outputs": [
    {
     "name": "stdout",
     "output_type": "stream",
     "text": [
      "3\n"
     ]
    }
   ],
   "source": [
    "class TreeNode(object):\n",
    "    def __init__(self, val=0, left=None, right=None):\n",
    "        self.val = val\n",
    "        self.left = left\n",
    "        self.right = right\n",
    "class Solution(object):\n",
    "    def maxDepth(self, root):\n",
    "        if not root:\n",
    "            return 0\n",
    "        left = self.maxDepth(root.left)\n",
    "        right = self.maxDepth(root.right)\n",
    "\n",
    "        return max(left, right) + 1\n",
    "\n",
    "head = TreeNode(3)\n",
    "nine = TreeNode(9)\n",
    "twenty = TreeNode(20)\n",
    "fifteen = TreeNode(15)\n",
    "seven = TreeNode(7)\n",
    "\n",
    "head.left = nine\n",
    "head.right = twenty\n",
    "twenty.left = fifteen\n",
    "twenty.right = seven\n",
    "\n",
    "Solution = Solution()\n",
    "max_depth = Solution.maxDepth(head)\n",
    "print(max_depth)\n",
    "    \n"
   ]
  },
  {
   "cell_type": "markdown",
   "metadata": {},
   "source": [
    "# What about an iterative implementation?\n",
    "\n"
   ]
  },
  {
   "cell_type": "markdown",
   "metadata": {},
   "source": [
    "In the solution above, we are doing a postorder traversal because the logic for the current node (basically just the return statement) happens after the calls. All three types of DFS can be implemented iteratively, but postorder and inorder are more complicated to implement than preorder (which is very easy). As we mentioned earlier, for most problems, the type of DFS doesn't matter, so we'll take a look at a preorder DFS implemented iteratively.\n",
    "\n",
    "To implement DFS iteratively, we need to use a stack. We don't have the return values to store the depths, so we will instead need to associate the current depth with each node on the stack. The method for pairing the values will depend on the language you are using. Of the most popular languages, it's easiest in Python as you can just store tuple literals in the stack. In other languages like Java, you need to use two stacks or create a pair object or some other method.\n",
    "\n",
    "The code format for implementing DFS iteratively is also very similar across most problems, as you'll see in the next few examples."
   ]
  },
  {
   "cell_type": "code",
   "execution_count": null,
   "metadata": {},
   "outputs": [],
   "source": [
    "# Definition for a binary tree node.\n",
    "# class TreeNode:\n",
    "#     def __init__(self, val=0, left=None, right=None):\n",
    "#         self.val = val\n",
    "#         self.left = left\n",
    "#         self.right = right\n",
    "class Solution:\n",
    "    def maxDepth(self, root: Optional[TreeNode]) -> int:\n",
    "        if not root:\n",
    "            return 0\n",
    "        \n",
    "        stack = [(root, 1)]\n",
    "        ans = 0\n",
    "        \n",
    "        while stack:\n",
    "            node, depth = stack.pop()\n",
    "            ans = max(ans, depth)\n",
    "            if node.left:\n",
    "                stack.append((node.left, depth + 1))\n",
    "            if node.right:\n",
    "                stack.append((node.right, depth + 1))\n",
    "        \n",
    "        return ans"
   ]
  },
  {
   "cell_type": "markdown",
   "metadata": {},
   "source": [
    "This iterative implementation may be more intuitive if you are not used to recursion.\n",
    "\n",
    "We are simply associating each node with its depth. For a given node with a depth of depth, the depth of the children will be depth + 1.\n",
    "\n",
    "The format for performing the traversal with the stack is something that can be easily re-used between problems. We make use of a stack and use a while loop until the stack is empty. In each iteration of the while loop, we handle a single node - this is equivalent to a given function call in the recursive implementation. All the logic that is done in the function should be done in the while loop, including handling the children, which is done by pushing to the stack."
   ]
  },
  {
   "cell_type": "markdown",
   "metadata": {},
   "source": [
    "Example 2: 112. Path Sum\n",
    "\n",
    "Given the root of a binary tree and an integer targetSum, return true if there exists a path from the root to a leaf such that the sum of the nodes on the path is equal to targetSum, and return false otherwise."
   ]
  },
  {
   "cell_type": "code",
   "execution_count": 3,
   "metadata": {},
   "outputs": [
    {
     "data": {
      "text/plain": [
       "False"
      ]
     },
     "execution_count": 3,
     "metadata": {},
     "output_type": "execute_result"
    }
   ],
   "source": [
    "# Definition for a binary tree node.\n",
    "class TreeNode(object):\n",
    "    def __init__(self, val=0, left=None, right=None):\n",
    "        self.val = val\n",
    "        self.left = left\n",
    "        self.right = right\n",
    "class Solution(object):\n",
    "    def hasPathSum(self, root, targetSum):\n",
    "        def dfs(node, curr):\n",
    "            if not node:\n",
    "                return False\n",
    "            \n",
    "            # if both children are null, then the node is a leaf\n",
    "            if node.left == None and node.right == None:\n",
    "                return (curr + node.val) == targetSum\n",
    "            \n",
    "            curr += node.val\n",
    "            left = dfs(node.left, curr)\n",
    "            right = dfs(node.right, curr)\n",
    "            return left or right\n",
    "      \n",
    "        return dfs(root, 0)\n",
    "root = TreeNode(5)\n",
    "four = TreeNode(4)\n",
    "eight = TreeNode(8)\n",
    "eleven = TreeNode(11)\n",
    "thirteen = TreeNode(13)\n",
    "four_2 = TreeNode(4)\n",
    "seven = TreeNode(7)\n",
    "two = TreeNode(2)\n",
    "one = TreeNode(1)\n",
    "\n",
    "\n",
    "root.lef = four\n",
    "root.right = eight\n",
    "\n",
    "eleven.left = seven\n",
    "eleven.right = two\n",
    "\n",
    "eight.left = thirteen\n",
    "eight.right = four_2\n",
    "\n",
    "four_2.right = one\n",
    "\n",
    "sol = Solution()\n",
    "sol.hasPathSum(root,5)"
   ]
  },
  {
   "cell_type": "markdown",
   "metadata": {},
   "source": [
    "Example 3: 1448. Count Good Nodes in Binary Tree\n",
    "\n",
    "Given the root of a binary tree, find the number of nodes that are good. A node is good if the path between the root and the node has no nodes with a greater value."
   ]
  },
  {
   "cell_type": "code",
   "execution_count": null,
   "metadata": {},
   "outputs": [
    {
     "data": {
      "text/plain": [
       "4"
      ]
     },
     "metadata": {},
     "output_type": "display_data"
    }
   ],
   "source": [
    "class TreeNode(object):\n",
    "    def __init__(self, val=0, left=None, right=None):\n",
    "        self.val = val\n",
    "        self.left = left\n",
    "        self.right = right\n",
    "class Solution(object):\n",
    "    def goodNodes(self, root):\n",
    "        def dfs(node, max_so_far):\n",
    "            if not node:\n",
    "                return 0\n",
    "\n",
    "            left = dfs(node.left, max(node.val, max_so_far))\n",
    "            right = dfs(node.right, max(node.val,max_so_far))\n",
    "            ans = left + right\n",
    "            if node.val >= max_so_far:\n",
    "                ans += 1\n",
    "            return ans\n",
    "        return dfs(root, float('-inf'))\n",
    "root = TreeNode(3)\n",
    "one = TreeNode(1)\n",
    "four = TreeNode(4)\n",
    "three = TreeNode(3)\n",
    "one_2 = TreeNode(1)\n",
    "five = TreeNode(5)\n",
    "\n",
    "root.left = one\n",
    "root.right = four\n",
    "one.left = three\n",
    "four.left = one_2\n",
    "four.right = five\n",
    "\n",
    "sol = Solution()\n",
    "\n",
    "sol.goodNodes(root)\n",
    "\n",
    "\n"
   ]
  },
  {
   "cell_type": "markdown",
   "metadata": {},
   "source": [
    "Example 4: 100. Same Tree\n",
    "\n",
    "Given the roots of two binary trees p and q, check if they are the same tree. Two binary trees are the same tree if they are structurally identical and the nodes have the same values."
   ]
  },
  {
   "cell_type": "markdown",
   "metadata": {},
   "source": [
    "This problem really demonstrates the recursive nature of binary trees.\n",
    "\n",
    "If p and q are the same tree, then the following is true:\n",
    "\n",
    "p.val = q.val\n",
    "p.left and q.left are the same tree\n",
    "p.right and q.right are the same tree\n",
    "The main idea is that if any two trees are the same, then their subtrees must also be the same. This gives us a recursive definition of the problem. Because the function we are trying to implement is supposed to tell us if two trees are the same, we can use the function itself to answer conditions 2 and 3.\n",
    "\n",
    "The following condition can be used to check if p and q are the same tree:\n",
    "\n",
    "p.val == q.val && isSameTree(p.left, q.left) && isSameTree(p.right, q.right)\n",
    "\n",
    "Now, we need base cases so that the recursion eventually terminates. If p and q are both null, then we can return true, because they are technically both the same (empty) tree. If either p or q is null but not the other, we should return false, as they are clearly not the same tree."
   ]
  },
  {
   "cell_type": "code",
   "execution_count": null,
   "metadata": {},
   "outputs": [],
   "source": [
    "def isSameTree(p, q):\n",
    "    if p==None and q==None:\n",
    "        return True\n",
    "    if p==None or q==None:\n",
    "        return False\n",
    "    if p.val != q.val:\n",
    "        return False\n",
    "    \n",
    "    left = self.isSameTree(p.left, q.left)\n",
    "    right = self.isSameTree(p.right, q.right)\n",
    "    return left and right"
   ]
  },
  {
   "cell_type": "markdown",
   "metadata": {},
   "source": [
    "Note: If you are having trouble understanding the following problem and solution, please do not feel discouraged! The problem was going to be removed from the course as it is significantly more difficult than the other examples we have looked at.\n",
    "\n",
    "We have only kept it in the course as a \"bonus\" since it is a classic problem.\n",
    "\n",
    "Bonus example: 236. Lowest Common Ancestor of a Binary Tree\n",
    "\n",
    "Given the root of a binary tree and two nodes p and q that are in the tree, return the lowest common ancestor (LCA) of the two nodes. The LCA is the lowest node in the tree that has both p and q as descendants (note: a node is a descendant of itself)."
   ]
  },
  {
   "cell_type": "markdown",
   "metadata": {},
   "source": [
    "This problem is a classic one and a bit trickier than the ones we have already looked at. Again, we want our recursive function to return the answer to the question. What is the base case? If we have an empty tree, then no LCA exists - return null.\n",
    "\n",
    "Otherwise, how can we tell if a node is the LCA? Let's say that we are at the root, then there are 3 possibilities.\n",
    "\n",
    "The root node is p or q. The answer cannot be below the root node, because then it would be missing the root (which is either p or q) as a descendant.\n",
    "One of p or q is in the left subtree, and the other one is in the right subtree. The root must be the answer, because it is the connection point between the two subtrees, and thus the lowest node to have both p and q as descendants.\n",
    "Both p and q are in one of the subtrees. In that case, the root is not the answer because we could look inside the subtree and find a \"lower\" node.\n",
    "Remember: because of the recursive natures of trees, we can translate the cases into an algorithm. We just need to figure out how to find the answer if it is the first or third case.\n",
    "\n",
    "In the first case, if we see that the current node is either p or q, we don't need to worry about the subtrees at all, because we know the answer cannot be in them. Therefore, we would return something right away. In the base case, we return null. Therefore, calling on a subtree returns a non-null value only if one of p or q is in that subtree.\n",
    "\n",
    "Then, the second case is implied if both calls to the left and right subtrees return something, and the third case is implied if only one of the calls returns something."
   ]
  },
  {
   "cell_type": "code",
   "execution_count": null,
   "metadata": {},
   "outputs": [],
   "source": [
    "def lowestCommonAncestor(self, root, p, q):\n",
    "    if not root:\n",
    "        return None\n",
    "    if root == p or root == q:\n",
    "        return root\n",
    "    left = self.lowestCommonAncestor(root.left, p, q)\n",
    "    right = self.lowestCommonAncestor(root.right,p,q)\n",
    "    if left and right:\n",
    "        return root\n",
    "    if left:\n",
    "        return left\n",
    "    return right"
   ]
  }
 ],
 "metadata": {
  "kernelspec": {
   "display_name": "Python 3",
   "language": "python",
   "name": "python3"
  },
  "language_info": {
   "codemirror_mode": {
    "name": "ipython",
    "version": 3
   },
   "file_extension": ".py",
   "mimetype": "text/x-python",
   "name": "python",
   "nbconvert_exporter": "python",
   "pygments_lexer": "ipython3",
   "version": "3.10.3"
  }
 },
 "nbformat": 4,
 "nbformat_minor": 2
}
