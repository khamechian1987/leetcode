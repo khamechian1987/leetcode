{
 "cells": [
  {
   "cell_type": "markdown",
   "metadata": {},
   "source": [
    "# **Hashing**"
   ]
  },
  {
   "cell_type": "markdown",
   "metadata": {},
   "source": [
    "A hash function is a function that takes an input and deterministically converts it to an integer that is less than a fixed size set by the programmer. Inputs are called keys and the same input will always be converted to the same integer. "
   ]
  },
  {
   "cell_type": "markdown",
   "metadata": {},
   "source": [
    "When a hash function is combined with an array, it creates a ***hash*** map, also known as a ***hash table*** or ***dictionary*** With arrays, we ***map*** indices to values. With hash maps, we map ***keys*** to values, and a key can be almost anything. Typically, the only constraint on a hash map's key is that it has to be ***immutable*** (this is language dependent but generally a good rule of thumb). Values can be anything.\n",
    "Every major language has a built-in implementation of a hash map. For example, in Python they're called dictionaries and declaring one is as simple as dic = {}"
   ]
  },
  {
   "cell_type": "markdown",
   "metadata": {},
   "source": [
    "To summarize, a hash map is an unordered data structure that stores key-value pairs. A hash map can add and remove elements in ***O(1)***, as well as update values associated with a key and check if a key exists, also in ***O(1)***."
   ]
  },
  {
   "cell_type": "markdown",
   "metadata": {},
   "source": [
    "The biggest disadvantage of hash maps is that for smaller input sizes, they can be slower due to overhead. Because big O ignores constants, the O(1) time complexity can sometimes be deceiving - it's usually something more like O(10) because every key needs to go through the hash function, and there can also be ***collisions***, which we will talk about in the next section."
   ]
  },
  {
   "cell_type": "markdown",
   "metadata": {},
   "source": [
    "# Collisions"
   ]
  },
  {
   "cell_type": "markdown",
   "metadata": {},
   "source": [
    "When different keys convert to the same integer, it is called a collision. Without handling collisions, older keys will get overridden and data will be lost. There are multiple ways to handle collisions, but here we'll talk about a common one called ***chaining***."
   ]
  },
  {
   "cell_type": "markdown",
   "metadata": {},
   "source": [
    "# Sets"
   ]
  },
  {
   "cell_type": "markdown",
   "metadata": {},
   "source": [
    "A set is another data structure that is very similar to a hash table. It uses the same mechanism for hashing keys into integers. The difference between a set and hash table is that sets do not map their keys to anything. Sets are more convenient to use when you only care about checking if elements exist. You can add, remove, and check if an element exists in a set all in ***O(1)***.\n",
    "\n",
    "An important thing to note about sets is that they don't track frequency. If you have a set and add the same element 100 times, the first operation adds it and the next 99 do nothing."
   ]
  },
  {
   "cell_type": "markdown",
   "metadata": {},
   "source": [
    "    # Declaration: a hash map is declared like any other variable. The syntax is {}\n",
    "    hash_map = {}\n",
    "\n",
    "    # If you want to initialize it with some key value pairs, use the following syntax:\n",
    "    hash_map = {1: 2, 5: 3, 7: 2}\n",
    "\n",
    "    # Checking if a key exists: simply use the `in` keyword\n",
    "    1 in hash_map # True\n",
    "    9 in hash_map # False\n",
    "\n",
    "    # Accessing a value given a key: use square brackets, similar to an array.\n",
    "    hash_map[5] # 3\n",
    "\n",
    "    # Adding or updating a key: use square brackets, similar to an array.\n",
    "    # If the key already exists, the value will be updated\n",
    "    hash_map[5] = 6\n",
    "\n",
    "    # If the key doesn't exist yet, the key value pair will be inserted\n",
    "    hash_map[9] = 15\n",
    "\n",
    "    # Deleting a key: use the del keyword. Key must exist or you will get an error.\n",
    "    del hash_map[9]\n",
    "\n",
    "    # Get size\n",
    "    len(hash_map) # 3\n",
    "\n",
    "    # Get keys: use .keys(). You can iterate over this using a for loop.\n",
    "    keys = hash_map.keys()\n",
    "    for key in keys:\n",
    "        print(key)\n",
    "\n",
    "    # Get values: use .values(). You can iterate over this using a for loop.\n",
    "    values = hash_map.values()\n",
    "    for val in values:\n",
    "        print(val)"
   ]
  },
  {
   "cell_type": "markdown",
   "metadata": {},
   "source": [
    "    my_hash_map = {}\n",
    "\n",
    "    my_hash_map[4] = 83\n",
    "    print(my_hash_map[4]) # Prints 83\n",
    "\n",
    "    print(4 in my_hash_map) # Prints True\n",
    "    print(854 in my_hash_map) # Prints False\n",
    "\n",
    "    my_hash_map[8] = 327\n",
    "    my_hash_map[45] = 82523\n",
    "\n",
    "    for key, val in my_hash_map.items():\n",
    "        print(f\"{key}: {val}\")"
   ]
  },
  {
   "cell_type": "markdown",
   "metadata": {},
   "source": [
    "Example 1: 1. Two Sum\n",
    "\n",
    "Given an array of integers nums and an integer target, return indices of two numbers such that they add up to target. You cannot use the same index twice."
   ]
  },
  {
   "cell_type": "code",
   "execution_count": 2,
   "metadata": {},
   "outputs": [],
   "source": [
    "def twoSum(nums, target):\n",
    "    my_dict = {}\n",
    "    \n",
    "    for i in range(len(nums)):\n",
    "        num = nums[i]\n",
    "        comp = target - num\n",
    "        \n",
    "        if comp in my_dict:\n",
    "            return[i, my_dict[comp]]\n",
    "        my_dict[num] = i\n",
    "\n",
    "    return [-1, -1]\n",
    "            "
   ]
  },
  {
   "cell_type": "code",
   "execution_count": 3,
   "metadata": {},
   "outputs": [
    {
     "data": {
      "text/plain": [
       "[3, 0]"
      ]
     },
     "execution_count": 3,
     "metadata": {},
     "output_type": "execute_result"
    }
   ],
   "source": [
    "nums = [5,2,7,3,7]\n",
    "twoSum(nums, 8)"
   ]
  },
  {
   "cell_type": "markdown",
   "metadata": {},
   "source": [
    "Example 2: 2351. First Letter to Appear Twice\n",
    "\n",
    "Given a string s, return the first character to appear twice. It is guaranteed that the input will have a duplicate character."
   ]
  },
  {
   "cell_type": "code",
   "execution_count": 18,
   "metadata": {},
   "outputs": [],
   "source": [
    "def repeatedCharacter(s):\n",
    "    seen = set()\n",
    "    for c in s:\n",
    "        if c in seen:\n",
    "            return c\n",
    "        seen.add(c)\n",
    "    return -1\n",
    "\n"
   ]
  },
  {
   "cell_type": "code",
   "execution_count": 19,
   "metadata": {},
   "outputs": [
    {
     "data": {
      "text/plain": [
       "'c'"
      ]
     },
     "execution_count": 19,
     "metadata": {},
     "output_type": "execute_result"
    }
   ],
   "source": [
    "s = \"abccbaacz\"\n",
    "repeatedCharacter(s)"
   ]
  },
  {
   "cell_type": "markdown",
   "metadata": {},
   "source": [
    "Example 3: Given an integer array nums, find all the unique numbers x in nums that satisfy the following: x + 1 is not in nums, and x - 1 is not in nums."
   ]
  },
  {
   "cell_type": "code",
   "execution_count": 20,
   "metadata": {},
   "outputs": [],
   "source": [
    "def find_numbers(nums):\n",
    "    seen = set()\n",
    "    for num in nums:\n",
    "        if num+1 not in nums and num-1 not in nums:\n",
    "            seen.add(num)\n",
    "    return seen"
   ]
  },
  {
   "cell_type": "markdown",
   "metadata": {},
   "source": [
    "# **Counting**"
   ]
  },
  {
   "cell_type": "markdown",
   "metadata": {},
   "source": [
    "Counting is a very common pattern with hash maps. By \"counting\", we are referring to tracking the frequency of things. This means our hash map will be mapping keys to integers. Anytime you need to count anything, think about using a hash map to do it."
   ]
  },
  {
   "cell_type": "markdown",
   "metadata": {},
   "source": [
    "Example 1: You are given a string s and an integer k. Find the length of the longest substring that contains at most k distinct characters.\n",
    "\n",
    "For example, given s = \"eceba\" and k = 2, return 3. The longest substring with at most 2 distinct characters is \"ece\"."
   ]
  },
  {
   "cell_type": "code",
   "execution_count": 21,
   "metadata": {},
   "outputs": [],
   "source": [
    "from collections import defaultdict\n",
    "\n",
    "def find_longest_substring(s, k):\n",
    "    counts = defaultdict(int)\n",
    "    left = ans = 0\n",
    "    for right in range(len(s)):\n",
    "        counts[s[right]] += 1\n",
    "        while len(counts) > k:\n",
    "            counts[s[left]] -= 1\n",
    "            if counts[s[left]] == 0:\n",
    "                del counts[s[left]]\n",
    "            left += 1\n",
    "        \n",
    "        ans = max(ans, right - left + 1)\n",
    "    \n",
    "    return ans"
   ]
  },
  {
   "cell_type": "markdown",
   "metadata": {},
   "source": [
    "Example 2: 2248. Intersection of Multiple Arrays\n",
    "\n",
    "Given a 2D array nums that contains n arrays of distinct integers, return a sorted array containing all the numbers that appear in all n arrays.\n",
    "\n",
    "For example, given nums = [[3,1,2,4,5],[1,2,3,4],[3,4,5,6]], return [3, 4]. 3 and 4 are the only numbers that are in all arrays."
   ]
  },
  {
   "cell_type": "code",
   "execution_count": 44,
   "metadata": {},
   "outputs": [],
   "source": [
    "def intersection(nums):\n",
    "    ans = {}\n",
    "    result = []\n",
    "    for arr in nums:\n",
    "        seen = set()\n",
    "        for i in arr:\n",
    "            if i not in seen:\n",
    "                seen.add(i)\n",
    "                if i in ans:\n",
    "                    ans[i] += 1\n",
    "                else:\n",
    "                    ans[i] = 1\n",
    "    \n",
    "    for key, val in ans.items():\n",
    "        if val == len(nums):\n",
    "            result.append(key)\n",
    "    return sorted(result)\n",
    "\n"
   ]
  },
  {
   "cell_type": "code",
   "execution_count": 45,
   "metadata": {},
   "outputs": [
    {
     "data": {
      "text/plain": [
       "[10, 12, 13, 27, 45]"
      ]
     },
     "execution_count": 45,
     "metadata": {},
     "output_type": "execute_result"
    }
   ],
   "source": [
    "nums = [[7,34,45,10,12,27,13],[27,21,45,10,12,13]]\n",
    "intersection(nums)"
   ]
  },
  {
   "cell_type": "markdown",
   "metadata": {},
   "source": [
    "Example 3: 1941. Check if All Characters Have Equal Number of Occurrences\n",
    "\n",
    "Given a string s, determine if all characters have the same frequency.\n",
    "\n",
    "For example, given s = \"abacbc\", return true. All characters appear twice. Given s = \"aaabb\", return false. \"a\" appears 3 times, \"b\" appears 2 times. 3 != 2."
   ]
  },
  {
   "cell_type": "code",
   "execution_count": null,
   "metadata": {},
   "outputs": [],
   "source": [
    "def areOccurrencesEqual( s):\n",
    "    md = {}\n",
    "    for i in range(len(s)):\n",
    "        if s[i] in md:\n",
    "            md[s[i]] += 1\n",
    "        else:\n",
    "            md[s[i]] = 1\n",
    "    \n",
    "    #method 1: set()\n",
    "    return len(set(md.values())) == 1\n",
    "    \n",
    "    #method 1: set()\n",
    "    # first_val = next(iter(my_dict.values()))\n",
    "    # for val in ans.values():\n",
    "    #     if val != first_val:\n",
    "    #         return False\n",
    "    # return True\n"
   ]
  },
  {
   "cell_type": "markdown",
   "metadata": {},
   "source": [
    "# Count the number of subarrays with an \"exact\" constraint"
   ]
  },
  {
   "cell_type": "markdown",
   "metadata": {},
   "source": [
    "Example 4: 560. Subarray Sum Equals K\n",
    "\n",
    "Given an integer array nums and an integer k, find the number of subarrays whose sum is equal to k."
   ]
  },
  {
   "cell_type": "code",
   "execution_count": 77,
   "metadata": {},
   "outputs": [],
   "source": [
    "def subarraySum(nums, k):\n",
    "    count = defaultdict(int)\n",
    "    count[0] = 1\n",
    "    prefix_sum = 0\n",
    "    ans = 0\n",
    "    for num in nums:\n",
    "        prefix_sum += num  # Update the running sum\n",
    "        if prefix_sum - k in count:\n",
    "            ans += count[prefix_sum - k]  # Add the count of (prefix_sum - k) to ans\n",
    "        count[prefix_sum] += 1  # Increment the count of the current sum\n",
    "    return ans"
   ]
  },
  {
   "cell_type": "code",
   "execution_count": 78,
   "metadata": {},
   "outputs": [
    {
     "data": {
      "text/plain": [
       "4"
      ]
     },
     "execution_count": 78,
     "metadata": {},
     "output_type": "execute_result"
    }
   ],
   "source": [
    "nums = [1, 2, 1, 2, 1]\n",
    "subarraySum(nums, 3)"
   ]
  },
  {
   "cell_type": "markdown",
   "metadata": {},
   "source": [
    "Example 5: 1248. Count Number of Nice Subarrays\n",
    "\n",
    "Given an array of positive integers nums and an integer k. Find the number of subarrays with exactly k odd numbers in them.\n",
    "\n",
    "For example, given nums = [1, 1, 2, 1, 1], k = 3, the answer is 2. The subarrays with 3 odd numbers in them are [1, 1, 2, 1, 1] and [1, 1, 2, 1, 1]."
   ]
  },
  {
   "cell_type": "code",
   "execution_count": null,
   "metadata": {},
   "outputs": [],
   "source": [
    "from collections import defaultdict\n",
    "\n",
    "class Solution:\n",
    "    def numberOfSubarrays(self, nums: List[int], k: int) -> int:\n",
    "        counts = defaultdict(int)\n",
    "        counts[0] = 1\n",
    "        ans = curr = 0\n",
    "        \n",
    "        for num in nums:\n",
    "            curr += num % 2 # if a number is odd, then when you take it mod 2, the result will be 1. Otherwise, it will be 0.\n",
    "            ans += counts[curr - k]\n",
    "            counts[curr] += 1\n",
    "\n",
    "        return ans\n",
    "\n",
    " "
   ]
  },
  {
   "cell_type": "markdown",
   "metadata": {},
   "source": [
    "# More hashing examples"
   ]
  },
  {
   "cell_type": "markdown",
   "metadata": {},
   "source": [
    "Hash maps are nearly ubiquitous. We've talked about some of the most common patterns, but there is an unlimited number of ways you can incorporate hash maps into an algorithm. Because of how important hash maps are, we'll look at a couple more examples of how hash maps can be used in various problems. It is crucial that you are comfortable with hash maps if you want to pass interviews."
   ]
  },
  {
   "cell_type": "markdown",
   "metadata": {},
   "source": [
    "Example 1: 49. Group Anagrams\n",
    "\n",
    "Given an array of strings strs, group the anagrams together.\n",
    "\n",
    "For example, given strs = [\"eat\",\"tea\",\"tan\",\"ate\",\"nat\",\"bat\"], return [[\"bat\"],[\"nat\",\"tan\"],[\"ate\",\"eat\",\"tea\"]]."
   ]
  },
  {
   "cell_type": "code",
   "execution_count": 35,
   "metadata": {},
   "outputs": [],
   "source": [
    "from collections import defaultdict\n",
    "def groupAnagrams(strs):       \n",
    "    anagrams = defaultdict(list)\n",
    "    ans = []\n",
    "    for word in strs:\n",
    "        sorted_word = ''.join(sorted(word))\n",
    "        anagrams[sorted_word].append(word)\n",
    "    return anagrams.values()\n"
   ]
  },
  {
   "cell_type": "code",
   "execution_count": 36,
   "metadata": {},
   "outputs": [
    {
     "data": {
      "text/plain": [
       "dict_values([['eat', 'tea', 'ate'], ['tan', 'nat'], ['bat']])"
      ]
     },
     "execution_count": 36,
     "metadata": {},
     "output_type": "execute_result"
    }
   ],
   "source": [
    "strs = [\"eat\",\"tea\",\"tan\",\"ate\",\"nat\",\"bat\"]\n",
    "groupAnagrams(strs)"
   ]
  },
  {
   "cell_type": "markdown",
   "metadata": {},
   "source": [
    "Example 2: 2260. Minimum Consecutive Cards to Pick Up\n",
    "\n",
    "Given an integer array cards, find the length of the shortest subarray that contains at least one duplicate. If the array has no duplicates, return -1."
   ]
  },
  {
   "cell_type": "code",
   "execution_count": 62,
   "metadata": {},
   "outputs": [],
   "source": [
    "def minimumCardPickup(cards):\n",
    "    val_pos_dict = defaultdict(list)\n",
    "    ans = float('inf')\n",
    "    for i in range(len(cards)):\n",
    "        val_pos_dict[cards[i]].append(i)\n",
    "\n",
    "    for pos in val_pos_dict.values():\n",
    "        if len(pos) >= 2:\n",
    "            for i in range(1, len(pos)):\n",
    "                # Calculate the distance between two adjacent occurrences\n",
    "                distance = pos[i] - pos[i - 1] + 1\n",
    "                ans = min(ans, distance)\n",
    "    return ans if ans < float(\"inf\") else -1"
   ]
  },
  {
   "cell_type": "code",
   "execution_count": 63,
   "metadata": {},
   "outputs": [
    {
     "data": {
      "text/plain": [
       "4"
      ]
     },
     "execution_count": 63,
     "metadata": {},
     "output_type": "execute_result"
    }
   ],
   "source": [
    "cards = [3,4,2,3,4,7]\n",
    "minimumCardPickup(cards)"
   ]
  }
 ],
 "metadata": {
  "kernelspec": {
   "display_name": "Python 3",
   "language": "python",
   "name": "python3"
  },
  "language_info": {
   "codemirror_mode": {
    "name": "ipython",
    "version": 3
   },
   "file_extension": ".py",
   "mimetype": "text/x-python",
   "name": "python",
   "nbconvert_exporter": "python",
   "pygments_lexer": "ipython3",
   "version": "3.11.4"
  }
 },
 "nbformat": 4,
 "nbformat_minor": 2
}
