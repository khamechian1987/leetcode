{
 "cells": [
  {
   "cell_type": "code",
   "execution_count": 14,
   "metadata": {},
   "outputs": [],
   "source": [
    "def lengthOfLongestSubstring(s):\n",
    "    \"\"\"\n",
    "    :type s: str\n",
    "    :rtype: int\n",
    "    \"\"\"\n",
    "    seen = []\n",
    "    max_length = 0\n",
    "    for char in s:\n",
    "        while char in seen:\n",
    "            seen.pop(0)\n",
    "        seen.append(char)\n",
    "        max_length = max(max_length, len(seen))\n",
    "    return max_length"
   ]
  },
  {
   "cell_type": "code",
   "execution_count": 16,
   "metadata": {},
   "outputs": [],
   "source": [
    "s = \"pwwkew\"\n",
    "print(lengthOfLongestSubstring(s))"
   ]
  },
  {
   "cell_type": "code",
   "execution_count": 38,
   "metadata": {},
   "outputs": [],
   "source": [
    "def threeSum(nums):\n",
    "    nums.sort()\n",
    "    distinct_triplets = []\n",
    "    for i in range(len(nums) - 2):\n",
    "        if i > 0 and nums[i] == nums[i-1]: # to not have duplicate in triplets\n",
    "            continue\n",
    "\n",
    "        l = i +1\n",
    "        r = len(nums) - 1\n",
    "        while l < r:\n",
    "            total = nums[i] + nums[l] + nums[r]\n",
    "            if total < 0:\n",
    "                l += 1\n",
    "            elif total > 0:\n",
    "                r -= 1\n",
    "            else:\n",
    "                distinct_triplets.append([nums[i], nums[l], nums[r]])\n",
    "                while l < r and nums[l] == nums[l+1]:\n",
    "                    l += 1\n",
    "                while l < r and nums[r] == nums[r-1]:\n",
    "                    r -= 1\n",
    "                l += 1\n",
    "                r -= 1\n",
    "                \n",
    "            \n",
    "    return distinct_triplets"
   ]
  },
  {
   "cell_type": "code",
   "execution_count": 39,
   "metadata": {},
   "outputs": [
    {
     "data": {
      "text/plain": [
       "[[-1, -1, 2], [-1, 0, 1]]"
      ]
     },
     "execution_count": 39,
     "metadata": {},
     "output_type": "execute_result"
    }
   ],
   "source": [
    "nums = [-1,0,1,2,-1]\n",
    "threeSum(nums)\n"
   ]
  },
  {
   "cell_type": "code",
   "execution_count": 37,
   "metadata": {},
   "outputs": [],
   "source": [
    "def revers_word(s):\n",
    "    s = s.split()\n",
    "    ans = []\n",
    "\n",
    "    for word in s:\n",
    "        left = 0\n",
    "        right = len(word) - 1\n",
    "        word = list(word)\n",
    "        while left<right:\n",
    "            temp = word[right]\n",
    "            word[right] = word[left]\n",
    "            word[left] = temp\n",
    "            left += 1\n",
    "            right -= 1\n",
    "        word = \"\".join(word)\n",
    "        ans.append(word)\n",
    "      \n",
    "    return \" \".join(ans)\n"
   ]
  },
  {
   "cell_type": "code",
   "execution_count": 38,
   "metadata": {},
   "outputs": [
    {
     "data": {
      "text/plain": [
       "\"s'teL ekat edoCteeL tsetnoc\""
      ]
     },
     "execution_count": 38,
     "metadata": {},
     "output_type": "execute_result"
    }
   ],
   "source": [
    "s = \"Let's take LeetCode contest\"\n",
    "revers_word(s)"
   ]
  },
  {
   "cell_type": "code",
   "execution_count": 48,
   "metadata": {},
   "outputs": [],
   "source": [
    "def reverseOnlyLetters(s):\n",
    "    left = 0\n",
    "    right = len(s) - 1\n",
    "    s = list(s)\n",
    "    ans = []\n",
    "    while left<right:\n",
    "        if s[left].isalpha() and s[right].isalpha():\n",
    "            temp = s[right]\n",
    "            s[right] = s[left]\n",
    "            s[left] = temp\n",
    "            left += 1\n",
    "            right -= 1\n",
    "        elif not s[left].isalpha():\n",
    "            left += 1\n",
    "        else:\n",
    "            right -= 1 \n",
    "    return \"\".join(s)"
   ]
  },
  {
   "cell_type": "code",
   "execution_count": 49,
   "metadata": {},
   "outputs": [
    {
     "data": {
      "text/plain": [
       "'j-Ih-gfE-dCba'"
      ]
     },
     "execution_count": 49,
     "metadata": {},
     "output_type": "execute_result"
    }
   ],
   "source": [
    "s = \"a-bC-dEf-ghIj\"\n",
    "reverseOnlyLetters(s)\n"
   ]
  },
  {
   "cell_type": "code",
   "execution_count": 65,
   "metadata": {},
   "outputs": [],
   "source": [
    "def moveZeroes(nums):\n",
    "    none_zero_index = 0\n",
    "    for i in range(len(nums)):\n",
    "        if nums[i] != 0:\n",
    "            nums[none_zero_index], nums[i] = nums[i], nums[none_zero_index]\n",
    "            none_zero_index += 1   \n",
    "\n",
    "    return nums\n",
    "\n",
    "        "
   ]
  },
  {
   "cell_type": "code",
   "execution_count": null,
   "metadata": {},
   "outputs": [],
   "source": []
  },
  {
   "cell_type": "code",
   "execution_count": 67,
   "metadata": {},
   "outputs": [
    {
     "data": {
      "text/plain": [
       "[1, 3, 12, 0, 0]"
      ]
     },
     "execution_count": 67,
     "metadata": {},
     "output_type": "execute_result"
    }
   ],
   "source": [
    "nums = [0,1,0,3,12]\n",
    "moveZeroes(nums)"
   ]
  },
  {
   "cell_type": "code",
   "execution_count": 89,
   "metadata": {},
   "outputs": [],
   "source": [
    "def reversePrefix(word, ch):\n",
    "    if ch not in word:\n",
    "    # If 'ch' is not in 'word', return the original word\n",
    "        return word\n",
    "    word = list(word)\n",
    "    l = 0\n",
    "    r = word.index(ch)\n",
    "    while l < r:\n",
    "        # temp = word[l]\n",
    "        # word[l] = word[r]\n",
    "        # word[r] = temp\n",
    "        word[l], word[r] = word[r], word[l]\n",
    "        l += 1\n",
    "        r -= 1\n",
    "    return \"\".join(word)\n"
   ]
  },
  {
   "cell_type": "code",
   "execution_count": 90,
   "metadata": {},
   "outputs": [
    {
     "data": {
      "text/plain": [
       "'zxyxxe'"
      ]
     },
     "execution_count": 90,
     "metadata": {},
     "output_type": "execute_result"
    }
   ],
   "source": [
    "word = \"xyxzxe\"\n",
    "reversePrefix(word, \"z\")"
   ]
  },
  {
   "cell_type": "code",
   "execution_count": 93,
   "metadata": {},
   "outputs": [],
   "source": [
    "def maxVowels(s, k):\n",
    "    s = list(s)\n",
    "    vowels = [\"a\", \"e\", \"o\", \"u\", \"i\"]\n",
    "\n",
    "    curr = 0\n",
    "    ans = 0\n",
    "    for i in range(k):\n",
    "        if s[i] in vowels:\n",
    "            curr += 1\n",
    "    ans = curr\n",
    "\n",
    "    for i in range(k, len(s)):\n",
    "        if s[i-k] in vowels:\n",
    "            curr -= 1\n",
    "        if s[i] in vowels:\n",
    "            curr += 1\n",
    "        ans = max(ans, curr)\n",
    "    return ans\n",
    "\n",
    "\n"
   ]
  },
  {
   "cell_type": "code",
   "execution_count": 94,
   "metadata": {},
   "outputs": [
    {
     "data": {
      "text/plain": [
       "3"
      ]
     },
     "execution_count": 94,
     "metadata": {},
     "output_type": "execute_result"
    }
   ],
   "source": [
    "s = \"abciiidef\"\n",
    "maxVowels(s, 3)"
   ]
  },
  {
   "cell_type": "code",
   "execution_count": 96,
   "metadata": {},
   "outputs": [],
   "source": [
    "def largestAltitude(gain):\n",
    "\n",
    "    prefix = [0]\n",
    "    for i in range(len(gain)):\n",
    "        prefix.append(gain[i] + prefix[len(prefix) - 1])\n",
    "    return max(prefix)"
   ]
  },
  {
   "cell_type": "code",
   "execution_count": 99,
   "metadata": {},
   "outputs": [
    {
     "data": {
      "text/plain": [
       "0"
      ]
     },
     "execution_count": 99,
     "metadata": {},
     "output_type": "execute_result"
    }
   ],
   "source": [
    "gain = [-4,-3,-2,-1,4,3,2]\n",
    "largestAltitude(gain)"
   ]
  },
  {
   "cell_type": "code",
   "execution_count": 122,
   "metadata": {},
   "outputs": [],
   "source": [
    "def pivotIndex(nums):\n",
    "    prefix = [nums[0]]\n",
    "    for i in range(1, len(nums)):\n",
    "        prefix.append(nums[i] + prefix[len(prefix) - 1])\n",
    "    left_sum = 0\n",
    "    right_sum = 0\n",
    "    for pivotIndex in range(len(prefix)):\n",
    "        left_sum = prefix[pivotIndex-1] if pivotIndex > 0 else 0\n",
    "        right_sum = prefix[len(prefix) - 1] - prefix[pivotIndex]\n",
    "        if left_sum == right_sum:\n",
    "            return pivotIndex\n",
    "    return -1\n",
    "\n",
    "\n",
    "\n"
   ]
  },
  {
   "cell_type": "code",
   "execution_count": 123,
   "metadata": {},
   "outputs": [
    {
     "data": {
      "text/plain": [
       "0"
      ]
     },
     "execution_count": 123,
     "metadata": {},
     "output_type": "execute_result"
    }
   ],
   "source": [
    "nums = [2,1,-1]\n",
    "pivotIndex(nums)"
   ]
  },
  {
   "cell_type": "code",
   "execution_count": 134,
   "metadata": {},
   "outputs": [],
   "source": [
    "def twoSum(nums, target):\n",
    "    my_dict = {}\n",
    "    \n",
    "    for i in range(len(nums)):\n",
    "        num = nums[i]\n",
    "        comp = target - num\n",
    "        \n",
    "        if comp in my_dict:\n",
    "            return[i, my_dict[comp]]\n",
    "        my_dict[num] = i\n",
    "\n",
    "    return [-1, -1]\n",
    "            "
   ]
  },
  {
   "cell_type": "code",
   "execution_count": 135,
   "metadata": {},
   "outputs": [
    {
     "data": {
      "text/plain": [
       "[3, 0]"
      ]
     },
     "execution_count": 135,
     "metadata": {},
     "output_type": "execute_result"
    }
   ],
   "source": [
    "nums = [5,2,7,3,7]\n",
    "twoSum(nums, 8)"
   ]
  },
  {
   "cell_type": "code",
   "execution_count": 136,
   "metadata": {},
   "outputs": [],
   "source": [
    "def checkIfPangram(sentence):\n",
    "    seen = set()\n",
    "    for c in sentence:\n",
    "        if c not in seen:\n",
    "            seen.add(c)\n",
    "    return len(seen) == 26\n",
    "    \n",
    " "
   ]
  },
  {
   "cell_type": "code",
   "execution_count": 138,
   "metadata": {},
   "outputs": [
    {
     "data": {
      "text/plain": [
       "True"
      ]
     },
     "execution_count": 138,
     "metadata": {},
     "output_type": "execute_result"
    }
   ],
   "source": [
    "sentence = \"thequickbrownfoxjumpsoverthelazydog\"\n",
    "checkIfPangram(sentence)"
   ]
  },
  {
   "cell_type": "code",
   "execution_count": 148,
   "metadata": {},
   "outputs": [],
   "source": [
    "def missingNumber(nums):\n",
    "    nums_set = set(nums)\n",
    "    sub_nums = set(range(len(nums)+1))\n",
    "    for num in sub_nums:\n",
    "        if num not in nums_set:\n",
    "            return num\n",
    "    return -1"
   ]
  },
  {
   "cell_type": "code",
   "execution_count": 149,
   "metadata": {},
   "outputs": [
    {
     "data": {
      "text/plain": [
       "8"
      ]
     },
     "execution_count": 149,
     "metadata": {},
     "output_type": "execute_result"
    }
   ],
   "source": [
    "nums = [9,6,4,2,3,5,7,0,1]\n",
    "missingNumber(nums)\n"
   ]
  },
  {
   "cell_type": "code",
   "execution_count": 167,
   "metadata": {},
   "outputs": [],
   "source": [
    "def countElements(arr):\n",
    "    md = {}\n",
    "    ans = 0\n",
    "    for i in range(len(arr)):\n",
    "        md[i] = arr[i]\n",
    "    for key , val in md.items():\n",
    "        if val+1 in md.values():\n",
    "            ans += 1\n",
    "    return ans\n",
    "\n",
    "\n",
    " "
   ]
  },
  {
   "cell_type": "code",
   "execution_count": 169,
   "metadata": {},
   "outputs": [
    {
     "data": {
      "text/plain": [
       "2"
      ]
     },
     "execution_count": 169,
     "metadata": {},
     "output_type": "execute_result"
    }
   ],
   "source": [
    "arr = [1,2,3]\n",
    "countElements(arr)"
   ]
  },
  {
   "cell_type": "code",
   "execution_count": 201,
   "metadata": {},
   "outputs": [],
   "source": [
    "from collections import defaultdict\n",
    "def findWinners(matches):\n",
    "    loss_count = defaultdict(int)\n",
    "    winners = set()\n",
    "    no_lost = []\n",
    "    one_lost = []\n",
    "    for winner, looser in matches:\n",
    "        winners.add(winner)\n",
    "        loss_count[looser] +=1\n",
    "    for player in winners:\n",
    "        if loss_count[player] == 0:\n",
    "            no_lost.append(player)\n",
    "    for player, losses in loss_count.items():\n",
    "        if losses == 1:\n",
    "            one_lost.append(player)\n",
    "            \n",
    "    return [sorted(no_lost), sorted(one_lost)]\n",
    "    "
   ]
  },
  {
   "cell_type": "code",
   "execution_count": 202,
   "metadata": {},
   "outputs": [
    {
     "data": {
      "text/plain": [
       "[[1, 2, 10], [4, 5, 7, 8]]"
      ]
     },
     "execution_count": 202,
     "metadata": {},
     "output_type": "execute_result"
    }
   ],
   "source": [
    "matches =[[1,3],[2,3],[3,6],[5,6],[5,7],[4,5],[4,8],[4,9],[10,4],[10,9]]\n",
    "findWinners(matches)"
   ]
  },
  {
   "cell_type": "code",
   "execution_count": 216,
   "metadata": {},
   "outputs": [],
   "source": [
    "def largestUniqueNumber(nums):\n",
    "    freq_dict = defaultdict(int)\n",
    "    non_repeated = []\n",
    "    for num in nums:\n",
    "        freq_dict[num] += 1\n",
    "    for num, freq in freq_dict.items():\n",
    "        if freq == 1:\n",
    "            non_repeated.append(num)\n",
    "\n",
    "\n",
    "    return max(non_repeated, default=None)"
   ]
  },
  {
   "cell_type": "code",
   "execution_count": 217,
   "metadata": {},
   "outputs": [
    {
     "data": {
      "text/plain": [
       "8"
      ]
     },
     "execution_count": 217,
     "metadata": {},
     "output_type": "execute_result"
    }
   ],
   "source": [
    "nums = [5,7,3,9,4,9,8,3,1]\n",
    "largestUniqueNumber(nums)\n"
   ]
  },
  {
   "cell_type": "code",
   "execution_count": 47,
   "metadata": {},
   "outputs": [],
   "source": [
    "from collections import defaultdict\n",
    "def maxNumberOfBalloons(text):\n",
    "    #creating balloon dict\n",
    "    word = \"balloon\"\n",
    "    balloon = defaultdict(int)\n",
    "    for char in word:\n",
    "        balloon[char] += 1\n",
    "\n",
    "    #creating balloon_freq_dict\n",
    "    \n",
    "    balloon_freq_dict = defaultdict(int)\n",
    "    for char in text:\n",
    "        if char in balloon:\n",
    "            balloon_freq_dict[char] += 1\n",
    "    \n",
    "    #validation\n",
    "    if len(balloon_freq_dict) < len(balloon):\n",
    "        return 0\n",
    "\n",
    "    return min(balloon_freq_dict[key] // balloon[key] for key in balloon)\n"
   ]
  },
  {
   "cell_type": "code",
   "execution_count": 48,
   "metadata": {},
   "outputs": [
    {
     "data": {
      "text/plain": [
       "0"
      ]
     },
     "execution_count": 48,
     "metadata": {},
     "output_type": "execute_result"
    }
   ],
   "source": [
    "text = \"balon\"\n",
    "maxNumberOfBalloons(text)"
   ]
  },
  {
   "cell_type": "code",
   "execution_count": 104,
   "metadata": {},
   "outputs": [],
   "source": [
    "def findMaxLength(nums):\n",
    "    count_indext_dict = defaultdict(int)\n",
    "    count_indext_dict[0] = -1  # Initialize for count 0\n",
    "    count = 0\n",
    "    max_lenght = 0\n",
    "    for right in range(len(nums)):\n",
    "        if nums[right] == 0:\n",
    "            count += -1\n",
    "        else:\n",
    "            count += 1\n",
    "        if count in count_indext_dict:\n",
    "            max_lenght = max(max_lenght, right - count_indext_dict[count])\n",
    "        else:\n",
    "            count_indext_dict[count] = right\n",
    "\n",
    "    return max_lenght\n",
    "\n",
    "\n",
    "\n",
    "    "
   ]
  },
  {
   "cell_type": "code",
   "execution_count": 105,
   "metadata": {},
   "outputs": [
    {
     "data": {
      "text/plain": [
       "4"
      ]
     },
     "execution_count": 105,
     "metadata": {},
     "output_type": "execute_result"
    }
   ],
   "source": [
    "nums = [0,1,0,1]\n",
    "findMaxLength(nums)"
   ]
  },
  {
   "cell_type": "code",
   "execution_count": 118,
   "metadata": {},
   "outputs": [],
   "source": [
    "from collections import defaultdict\n",
    "def canConstruct(ransomNote, magazine):\n",
    "    ransomNote_freq = defaultdict(int)\n",
    "    magazine_freq = defaultdict(int)\n",
    "\n",
    "    for ch in ransomNote:\n",
    "        ransomNote_freq[ch] += 1\n",
    "    for ch in magazine:\n",
    "        magazine_freq[ch] += 1\n",
    "    for ch, in ransomNote_freq:\n",
    "        if ransomNote_freq[ch] > magazine_freq[ch]:\n",
    "                return False\n",
    "    return True\n",
    "\n",
    "    \n"
   ]
  },
  {
   "cell_type": "code",
   "execution_count": 119,
   "metadata": {},
   "outputs": [
    {
     "data": {
      "text/plain": [
       "True"
      ]
     },
     "execution_count": 119,
     "metadata": {},
     "output_type": "execute_result"
    }
   ],
   "source": [
    "ransomNote = \"aa\"\n",
    "magazine = \"aab\"\n",
    "canConstruct(ransomNote, magazine)"
   ]
  },
  {
   "cell_type": "code",
   "execution_count": 133,
   "metadata": {},
   "outputs": [],
   "source": [
    "def numJewelsInStones(jewels, stones):\n",
    "    num_jewels = 0\n",
    "\n",
    "    stones_freq = defaultdict(int)\n",
    "    for ch in stones:\n",
    "        stones_freq[ch] += 1\n",
    "    \n",
    "    for ch in jewels:\n",
    "        num_jewels += stones_freq[ch]\n",
    "    return num_jewels\n"
   ]
  },
  {
   "cell_type": "code",
   "execution_count": 134,
   "metadata": {},
   "outputs": [
    {
     "data": {
      "text/plain": [
       "0"
      ]
     },
     "execution_count": 134,
     "metadata": {},
     "output_type": "execute_result"
    }
   ],
   "source": [
    "jewels = \"z\"\n",
    "stones = \"ZZ\"\n",
    "numJewelsInStones(jewels, stones)\n"
   ]
  },
  {
   "cell_type": "code",
   "execution_count": 146,
   "metadata": {},
   "outputs": [],
   "source": [
    "def lengthOfLongestSubstring(s):\n",
    "    ch_pos_dict = defaultdict(int)\n",
    "    longest = 0\n",
    "    left = 0\n",
    "\n",
    "    for right in range(len(s)):\n",
    "        if s[right] in ch_pos_dict and left <= ch_pos_dict[s[right]]:\n",
    "            left = ch_pos_dict[s[right]] + 1\n",
    "        ch_pos_dict[s[right]] = right\n",
    "        longest = max(longest, right - left+1)\n",
    "\n",
    "\n",
    "    return longest\n",
    "\n",
    "    "
   ]
  },
  {
   "cell_type": "code",
   "execution_count": 147,
   "metadata": {},
   "outputs": [
    {
     "data": {
      "text/plain": [
       "3"
      ]
     },
     "execution_count": 147,
     "metadata": {},
     "output_type": "execute_result"
    }
   ],
   "source": [
    "s = \"pwwkew\"\n",
    "lengthOfLongestSubstring(s)"
   ]
  },
  {
   "cell_type": "code",
   "execution_count": 154,
   "metadata": {},
   "outputs": [],
   "source": [
    "def containsDuplicate(nums):\n",
    "    freq = defaultdict(int)\n",
    "    for num in nums:\n",
    "        freq[num] += 1\n",
    "    for val in freq.values():\n",
    "        if val >= 2:\n",
    "            return True\n",
    "    else:\n",
    "        return False\n"
   ]
  },
  {
   "cell_type": "code",
   "execution_count": 155,
   "metadata": {},
   "outputs": [
    {
     "data": {
      "text/plain": [
       "0"
      ]
     },
     "execution_count": 155,
     "metadata": {},
     "output_type": "execute_result"
    }
   ],
   "source": [
    "nums = [1,2,3,1]\n",
    "containsDuplicate(nums)"
   ]
  },
  {
   "cell_type": "code",
   "execution_count": 158,
   "metadata": {},
   "outputs": [],
   "source": [
    "def destCity(paths):\n",
    "    path_dict = defaultdict(int)\n",
    "    for path in paths:\n",
    "        path_dict[path[0]] = path[1]\n",
    "    for val in path_dict.values():\n",
    "        if val not in path_dict.keys():\n",
    "            return val\n",
    "\n",
    " "
   ]
  },
  {
   "cell_type": "code",
   "execution_count": 159,
   "metadata": {},
   "outputs": [
    {
     "data": {
      "text/plain": [
       "'Sao Paulo'"
      ]
     },
     "execution_count": 159,
     "metadata": {},
     "output_type": "execute_result"
    }
   ],
   "source": [
    "paths = [[\"London\",\"New York\"],[\"New York\",\"Lima\"],[\"Lima\",\"Sao Paulo\"]]\n",
    "destCity(paths)"
   ]
  },
  {
   "cell_type": "code",
   "execution_count": 246,
   "metadata": {},
   "outputs": [],
   "source": [
    "def isPathCrossing(path):\n",
    "    x,y = 0, 0\n",
    "    visited = {(x, y)}\n",
    "    for ch in path:\n",
    "        if ch == \"N\":\n",
    "            y+=1\n",
    "        elif ch == \"S\":\n",
    "            y-=1\n",
    "        elif ch == \"E\":\n",
    "            x+=1\n",
    "        elif ch == \"W\":\n",
    "            x-=1\n",
    "        if (x , y) in visited:\n",
    "            return True\n",
    "        visited.add((x,y))\n",
    "\n",
    "    return False\n",
    "    \n",
    "    \n",
    "        \n"
   ]
  },
  {
   "cell_type": "code",
   "execution_count": 247,
   "metadata": {},
   "outputs": [
    {
     "data": {
      "text/plain": [
       "False"
      ]
     },
     "execution_count": 247,
     "metadata": {},
     "output_type": "execute_result"
    }
   ],
   "source": [
    "path = \"NES\"\n",
    "isPathCrossing(path)"
   ]
  },
  {
   "cell_type": "code",
   "execution_count": null,
   "metadata": {},
   "outputs": [],
   "source": [
    "def sumOfUnique(nums):\n",
    "    freq = defaultdict(int)\n",
    "    unique_sum =0\n",
    "    for num in nums:\n",
    "        freq[num] +=1\n",
    "    for key , val in freq.items():\n",
    "        if val == 1:\n",
    "            unique_sum += key\n",
    "    return unique_sum\n"
   ]
  },
  {
   "cell_type": "code",
   "execution_count": 261,
   "metadata": {},
   "outputs": [],
   "source": [
    "def maxFrequencyElements(nums):\n",
    "    num_freq = defaultdict(int)\n",
    "    ans = 0\n",
    "    for num in nums:\n",
    "        num_freq[num] += 1\n",
    "    max_freq = max(num_freq.values())\n",
    "\n",
    "    for val in num_freq.values():\n",
    "        if val == max_freq:\n",
    "            ans += val\n",
    "    return ans\n"
   ]
  },
  {
   "cell_type": "code",
   "execution_count": 263,
   "metadata": {},
   "outputs": [
    {
     "data": {
      "text/plain": [
       "5"
      ]
     },
     "execution_count": 263,
     "metadata": {},
     "output_type": "execute_result"
    }
   ],
   "source": [
    "nums = [1,2,3,4,5]\n",
    "maxFrequencyElements(nums)"
   ]
  },
  {
   "cell_type": "code",
   "execution_count": 285,
   "metadata": {},
   "outputs": [],
   "source": [
    "def findLucky(arr):\n",
    "    pos_val_dict = defaultdict(int)\n",
    "    lucky_num = -1\n",
    "    for i in range(len(arr)):\n",
    "        pos_val_dict[arr[i]] += 1\n",
    "    print(pos_val_dict)\n",
    "    for key, val in pos_val_dict.items():\n",
    "        if key == val:\n",
    "            lucky_num = max(lucky_num, key)\n",
    "    return lucky_num\n"
   ]
  },
  {
   "cell_type": "code",
   "execution_count": 286,
   "metadata": {},
   "outputs": [
    {
     "name": "stdout",
     "output_type": "stream",
     "text": [
      "defaultdict(<class 'int'>, {1: 1, 2: 2, 3: 3})\n"
     ]
    },
    {
     "data": {
      "text/plain": [
       "3"
      ]
     },
     "execution_count": 286,
     "metadata": {},
     "output_type": "execute_result"
    }
   ],
   "source": [
    "arr = [1,2,2,3,3,3]\n",
    "findLucky(arr)"
   ]
  },
  {
   "cell_type": "code",
   "execution_count": 292,
   "metadata": {},
   "outputs": [],
   "source": [
    "def uniqueOccurrences(arr):\n",
    "    num_freq_dict = defaultdict(int)\n",
    "    for num in arr:\n",
    "        num_freq_dict[num] += 1\n",
    "    seen = set()\n",
    "    for val in num_freq_dict.values():\n",
    "        if val not in seen:\n",
    "            seen.add(val)\n",
    "    return len(num_freq_dict) == len(seen)\n",
    "\n",
    "    "
   ]
  },
  {
   "cell_type": "code",
   "execution_count": 294,
   "metadata": {},
   "outputs": [
    {
     "data": {
      "text/plain": [
       "False"
      ]
     },
     "execution_count": 294,
     "metadata": {},
     "output_type": "execute_result"
    }
   ],
   "source": [
    "arr = [1,2]\n",
    "uniqueOccurrences(arr)"
   ]
  },
  {
   "cell_type": "code",
   "execution_count": 309,
   "metadata": {},
   "outputs": [],
   "source": [
    "def wordPattern(pattern, s):\n",
    "    pat_pos_dict = defaultdict(list)\n",
    "    for i in range(len(pattern)):\n",
    "        pat_pos_dict[pattern[i]].append(i)\n",
    "    s= s.split()\n",
    "    # print(s)\n",
    "\n",
    "    s_pos_dict = defaultdict(list)\n",
    "    for i in range(len(s)):\n",
    "        s_pos_dict[s[i]].append(i)\n",
    "    # print(s_pos_dict)\n",
    "    for val in pat_pos_dict.values():\n",
    "        if val not in s_pos_dict.values():\n",
    "            return False\n",
    "    return True\n"
   ]
  },
  {
   "cell_type": "code",
   "execution_count": 311,
   "metadata": {},
   "outputs": [
    {
     "data": {
      "text/plain": [
       "False"
      ]
     },
     "execution_count": 311,
     "metadata": {},
     "output_type": "execute_result"
    }
   ],
   "source": [
    "pattern = \"abba\"\n",
    "s = \"dog cat cat fish\"\n",
    "\n",
    "wordPattern(pattern, s)"
   ]
  },
  {
   "cell_type": "code",
   "execution_count": 319,
   "metadata": {},
   "outputs": [],
   "source": [
    "def isIsomorphic(s, t):\n",
    "    s_pos_dict = defaultdict(list)\n",
    "    for i in range(len(s)):\n",
    "        s_pos_dict[s[i]].append(i)\n",
    "    t_pos_dict = defaultdict(list)\n",
    "    for i in range(len(t)):\n",
    "        t_pos_dict[t[i]].append(i)\n",
    "    \n",
    "    for val in s_pos_dict.values():\n",
    "        if val not in t_pos_dict.values():\n",
    "            return False\n",
    "    return True \n"
   ]
  },
  {
   "cell_type": "code",
   "execution_count": 321,
   "metadata": {},
   "outputs": [
    {
     "name": "stdout",
     "output_type": "stream",
     "text": [
      "defaultdict(<class 'list'>, {'t': [0, 2], 'i': [1], 'l': [3], 'e': [4]})\n"
     ]
    },
    {
     "data": {
      "text/plain": [
       "True"
      ]
     },
     "execution_count": 321,
     "metadata": {},
     "output_type": "execute_result"
    }
   ],
   "source": [
    "s = \"paper\"\n",
    "t = \"title\"\n",
    "isIsomorphic(s, t)\n"
   ]
  },
  {
   "cell_type": "code",
   "execution_count": 403,
   "metadata": {},
   "outputs": [],
   "source": [
    "def numSubarraysWithSum(nums, goal):\n",
    "    sum_freq_dict = defaultdict(int)\n",
    "    sum_freq_dict[0] = 1\n",
    "    ans = 0\n",
    "    prefix_sum = 0\n",
    "    for num in nums:\n",
    "        prefix_sum += num\n",
    "        ans += sum_freq_dict[prefix_sum - goal]\n",
    "        sum_freq_dict[prefix_sum] += 1\n",
    "    return ans\n",
    "\n"
   ]
  },
  {
   "cell_type": "code",
   "execution_count": 432,
   "metadata": {},
   "outputs": [],
   "source": [
    "def premutaion(s):\n",
    "    if len(s) == 1:\n",
    "        return [s]\n",
    "    ans = []\n",
    "    for i in range(len(s)):\n",
    "        for perm in self.premutaion(s[:i] + s[i+1:]):\n",
    "            ans.append(s[i] + perm)\n",
    "    return ans\n",
    "\n",
    "def checkInclusion(s1, s2):\n",
    "    perms = self.premutaion(s1)\n",
    "    for perm in perms:\n",
    "        if perm in s2:\n",
    "            return True\n",
    "    return False"
   ]
  },
  {
   "cell_type": "code",
   "execution_count": 434,
   "metadata": {},
   "outputs": [
    {
     "data": {
      "text/plain": [
       "False"
      ]
     },
     "execution_count": 434,
     "metadata": {},
     "output_type": "execute_result"
    }
   ],
   "source": [
    "s1 = \"ab\"\n",
    "s2 = \"eidboaoo\"\n",
    "\n",
    "checkInclusion(s1, s2)\n"
   ]
  },
  {
   "cell_type": "code",
   "execution_count": 470,
   "metadata": {},
   "outputs": [],
   "source": [
    "def checkInclusion(s1, s2):\n",
    "        L=len(s1)\n",
    "        dic_s2=defaultdict(int)\n",
    "        dic_s1=defaultdict(int)\n",
    "        \n",
    "        # edge case \n",
    "        if len(s2)<L:\n",
    "            return False\n",
    "        \n",
    "        #freq dict of s1\n",
    "        for char in s1:\n",
    "            dic_s1[char]+=1\n",
    "\n",
    "        #freq dict of first L elements of s2\n",
    "        for i in range(L):\n",
    "            dic_s2[s2[i]]+=1\n",
    "\n",
    "        #if they are equal the it is a permutation\n",
    "        if dic_s2==dic_s1:\n",
    "                return True\n",
    "        \n",
    "        #sliding window\n",
    "        l=0\n",
    "        for r in range(L,len(s2)):\n",
    "            dic_s2[s2[l]]-=1\n",
    "            if dic_s2[s2[l]] == 0:\n",
    "                 del dic_s2[s2[l]]\n",
    "            l+=1\n",
    "            dic_s2[s2[r]]+=1\n",
    "            if dic_s2==dic_s1:\n",
    "                return True \n",
    "        return False\n"
   ]
  },
  {
   "cell_type": "code",
   "execution_count": 471,
   "metadata": {},
   "outputs": [
    {
     "data": {
      "text/plain": [
       "True"
      ]
     },
     "execution_count": 471,
     "metadata": {},
     "output_type": "execute_result"
    }
   ],
   "source": [
    "s1 = \"ab\"\n",
    "s2 = \"eidbaooo\"\n",
    "checkInclusion(s1, s2)"
   ]
  },
  {
   "cell_type": "code",
   "execution_count": 609,
   "metadata": {},
   "outputs": [],
   "source": [
    "def checkInclusion2(s1, s2):\n",
    "    s1_count = defaultdict(int)\n",
    "    L = len(s1)\n",
    "    for ch in s1:\n",
    "        s1_count[ch] += 1\n",
    "    s2_count = defaultdict(int)\n",
    "    for i in range(len(s1)):\n",
    "        s2_count[s2[i]] += 1\n",
    "\n",
    "    if s1_count == s2_count:\n",
    "        return True\n",
    "    \n",
    "    left = \n",
    "    for right in range(L, len(s2)):\n",
    "        s2_count[s2[right]] += 1\n",
    "        left_ch = s2[right - L]\n",
    "        s2_count[left_ch] -= 1\n",
    "        if s2_count[left_ch] == 0:\n",
    "            del s2_count[left_ch]\n",
    "        if s1_count == s2_count:\n",
    "            return True\n",
    "\n",
    "        \n",
    "    return False\n"
   ]
  },
  {
   "cell_type": "code",
   "execution_count": 610,
   "metadata": {},
   "outputs": [
    {
     "data": {
      "text/plain": [
       "False"
      ]
     },
     "execution_count": 610,
     "metadata": {},
     "output_type": "execute_result"
    }
   ],
   "source": [
    "s1 = \"ab\"\n",
    "s2 = \"eidboaooo\"\n",
    "checkInclusion2(s1, s2)"
   ]
  },
  {
   "cell_type": "code",
   "execution_count": 621,
   "metadata": {},
   "outputs": [],
   "source": [
    "def removeElement(nums, val):\n",
    "    seen = set()\n",
    "    counter = 0\n",
    "    for num in nums:\n",
    "        if num == val:\n",
    "            seen.add(num)\n",
    "    for num in seen:\n",
    "        for i in range(len(nums)):\n",
    "            if num == nums[i]:\n",
    "                counter += 1\n",
    "    \n",
    "    return counter\n",
    "        \n"
   ]
  },
  {
   "cell_type": "code",
   "execution_count": 622,
   "metadata": {},
   "outputs": [
    {
     "data": {
      "text/plain": [
       "2"
      ]
     },
     "execution_count": 622,
     "metadata": {},
     "output_type": "execute_result"
    }
   ],
   "source": [
    "nums = [3,2,2,3]\n",
    "removeElement(nums, 2)"
   ]
  },
  {
   "cell_type": "code",
   "execution_count": 639,
   "metadata": {},
   "outputs": [],
   "source": [
    "# Definition for singly-linked list.\n",
    "class ListNode(object):\n",
    "    def __init__(self, val=0, next=None):\n",
    "        self.val = val\n",
    "        self.next = next\n",
    "# class Solution(object):\n",
    "def middleNode(head):\n",
    "    \"\"\"\n",
    "    :type head: ListNode\n",
    "    :rtype: ListNode\n",
    "    \"\"\"\n",
    "    slow = fast = head\n",
    "    \n",
    "\n",
    "    while fast and fast.next:\n",
    "        slow = slow.next\n",
    "        fast = fast.next.next\n",
    "    return slow\n",
    "    \n",
    "def buildLinkedList(elements):\n",
    "    dummy = ListNode(0)\n",
    "    current = dummy\n",
    "    for element in elements:\n",
    "        current.next = ListNode(element)\n",
    "        current = current.next\n",
    "    return dummy.next\n",
    "\n",
    "\n",
    "\n"
   ]
  },
  {
   "cell_type": "code",
   "execution_count": 648,
   "metadata": {},
   "outputs": [],
   "source": [
    "# Definition for singly-linked list.\n",
    "class ListNode(object):\n",
    "    def __init__(self, val=0, next=None):\n",
    "        self.val = val\n",
    "        self.next = next\n",
    "def buildLinkedList(elements):\n",
    "    dummy = ListNode(0)\n",
    "    current = dummy\n",
    "    for element in elements:\n",
    "        current.next = ListNode(element)\n",
    "        current = current.next\n",
    "    return dummy.next\n",
    "\n",
    "def deleteDuplicates(head):\n",
    "    curr = head\n",
    "\n",
    "    while curr.next:\n",
    "        if curr.val == curr.next.val:\n",
    "            curr.next = curr.next.next\n",
    "        else:\n",
    "            curr = curr.next\n",
    "    return head\n",
    "                    \n",
    "        \n",
    "    "
   ]
  },
  {
   "cell_type": "code",
   "execution_count": 649,
   "metadata": {},
   "outputs": [
    {
     "data": {
      "text/plain": [
       "<__main__.ListNode at 0x1ebfc352990>"
      ]
     },
     "execution_count": 649,
     "metadata": {},
     "output_type": "execute_result"
    }
   ],
   "source": [
    "head_val = [1,1,2,3,3]\n",
    "head = buildLinkedList(head_val)\n",
    "deleteDuplicates(head)\n"
   ]
  },
  {
   "cell_type": "code",
   "execution_count": 695,
   "metadata": {},
   "outputs": [],
   "source": [
    "\n",
    "def merge(nums1, m, nums2, n):\n",
    "    i = m-1\n",
    "    j = n-1\n",
    "    k = m + n - 1\n",
    "\n",
    "    while j >= 0:\n",
    "        if i >= 0 and nums1[i] > nums2[j]:\n",
    "            nums1[k] = nums1[i]\n",
    "            i -= 1\n",
    "        else:\n",
    "            nums1[k] = nums2[j]\n",
    "            j -= 1\n",
    "        k -= 1\n",
    "    return nums1\n",
    "\n",
    "\n",
    "\n"
   ]
  },
  {
   "cell_type": "code",
   "execution_count": 696,
   "metadata": {},
   "outputs": [
    {
     "data": {
      "text/plain": [
       "[1, 2, 2, 3, 5, 6]"
      ]
     },
     "execution_count": 696,
     "metadata": {},
     "output_type": "execute_result"
    }
   ],
   "source": [
    "nums1 = [1,2,3,0,0,0]\n",
    "nums2 = [2,5,6]\n",
    "merge(nums1, 3, nums2, 3)"
   ]
  },
  {
   "cell_type": "code",
   "execution_count": 733,
   "metadata": {},
   "outputs": [],
   "source": [
    "def isHappy(n):\n",
    "    curr_str = str(n)\n",
    "    seen = set()\n",
    "    while True:\n",
    "        curr_sum= 0\n",
    "        for ch in curr_str:\n",
    "            curr_sum += int(ch)**2\n",
    "        if curr_sum == 1:\n",
    "            return True\n",
    "        if curr_sum in seen:\n",
    "            return False\n",
    "        seen.add(curr_sum)\n",
    "        curr_str = str(curr_sum)\n",
    "            \n",
    "    "
   ]
  },
  {
   "cell_type": "code",
   "execution_count": 734,
   "metadata": {},
   "outputs": [
    {
     "data": {
      "text/plain": [
       "True"
      ]
     },
     "execution_count": 734,
     "metadata": {},
     "output_type": "execute_result"
    }
   ],
   "source": [
    "isHappy(7)"
   ]
  },
  {
   "cell_type": "code",
   "execution_count": 765,
   "metadata": {},
   "outputs": [],
   "source": [
    "def containsNearbyDuplicate(nums, k):\n",
    "    val_pos = defaultdict(int)\n",
    "    for i in range(len(nums)):\n",
    "        if nums[i] in val_pos and abs(val_pos[nums[i]] - i) <=k:\n",
    "            return True\n",
    "        val_pos[nums[i]] = i\n",
    "    return False"
   ]
  },
  {
   "cell_type": "code",
   "execution_count": 767,
   "metadata": {},
   "outputs": [],
   "source": [
    "def containsNearbyDuplicate2(nums, k):\n",
    "    val_pos = defaultdict(int)\n",
    "    for i, num in enumerate(nums):\n",
    "        if num in val_pos and abs(val_pos[num] - i) <=k:\n",
    "            return True\n",
    "        val_pos[num] = i\n",
    "    return False"
   ]
  },
  {
   "cell_type": "code",
   "execution_count": 768,
   "metadata": {},
   "outputs": [
    {
     "name": "stdout",
     "output_type": "stream",
     "text": [
      "defaultdict(<class 'int'>, {1: 3, 2: 4, 3: 5})\n"
     ]
    },
    {
     "data": {
      "text/plain": [
       "False"
      ]
     },
     "execution_count": 768,
     "metadata": {},
     "output_type": "execute_result"
    }
   ],
   "source": [
    "nums = [1,2,3,1,2,3]\n",
    "containsNearbyDuplicate(nums, 2)"
   ]
  },
  {
   "cell_type": "code",
   "execution_count": 769,
   "metadata": {},
   "outputs": [],
   "source": [
    "# Definition for singly-linked list.\n",
    "class ListNode(object):\n",
    "    def __init__(self, val=0, next=None):\n",
    "        self.val = val\n",
    "        self.next = next\n",
    "def buildLinkedList(elements):\n",
    "    dummy = ListNode(0)\n",
    "    current = dummy\n",
    "    for element in elements:\n",
    "        current.next = ListNode(element)\n",
    "        current = current.next\n",
    "    return dummy.next\n",
    "def swapPairs(head):\n",
    "    pass"
   ]
  },
  {
   "cell_type": "code",
   "execution_count": 770,
   "metadata": {},
   "outputs": [],
   "source": [
    "head_value = [1,2,3,4]\n",
    "head = buildLinkedList(head_val)"
   ]
  },
  {
   "cell_type": "code",
   "execution_count": 791,
   "metadata": {},
   "outputs": [],
   "source": [
    "def plusOne(digits):\n",
    "    d_str = \"\"\n",
    "    d_int = 0\n",
    "    incremented_d_int = 0\n",
    "    incremented_d_str = \"\"\n",
    "    incremented_d_list = []\n",
    "    for dig in digits:\n",
    "        d_str += str(dig)\n",
    "    d_int = int(d_str)\n",
    "    incremented_d_int = d_int + 1\n",
    "    incremented_d_str = str(incremented_d_int)\n",
    "\n",
    "    for string in incremented_d_str:\n",
    "        incremented_d_list.append(int(string))\n",
    "\n",
    "    return incremented_d_list\n"
   ]
  },
  {
   "cell_type": "code",
   "execution_count": 792,
   "metadata": {},
   "outputs": [
    {
     "data": {
      "text/plain": [
       "[1, 2, 4]"
      ]
     },
     "execution_count": 792,
     "metadata": {},
     "output_type": "execute_result"
    }
   ],
   "source": [
    "digits = [1,2,3]\n",
    "plusOne(digits)\n"
   ]
  },
  {
   "cell_type": "code",
   "execution_count": 10,
   "metadata": {},
   "outputs": [],
   "source": [
    "def makeGood(s):\n",
    "    stack = []\n",
    "    for ch in s:\n",
    "        # if stack and stack[-1] == ch.swapcase():\n",
    "        if stack and ((ch.islower() and stack[-1] == ch.upper()) or (ch.isupper() and stack[-1] == ch.lower())):\n",
    "            stack.pop()\n",
    "           \n",
    "        elif ch.isupper() and ch.lower() in stack:\n",
    "            stack.pop()\n",
    "        else:\n",
    "            stack.append(ch)\n",
    "    return \"\".join(stack)\n"
   ]
  },
  {
   "cell_type": "code",
   "execution_count": 11,
   "metadata": {},
   "outputs": [
    {
     "data": {
      "text/plain": [
       "'s'"
      ]
     },
     "execution_count": 11,
     "metadata": {},
     "output_type": "execute_result"
    }
   ],
   "source": [
    "s = \"s\"\n",
    "makeGood(s)\n"
   ]
  },
  {
   "cell_type": "code",
   "execution_count": 16,
   "metadata": {},
   "outputs": [],
   "source": [
    "def search(nums, target):\n",
    "    l = 0\n",
    "    r = len(nums) - 1\n",
    "    mid = 0\n",
    "\n",
    "    while l <= r:\n",
    "        mid = (l+r)//2\n",
    "        if nums[mid] == target:\n",
    "            return mid\n",
    "        elif nums[mid] < target:\n",
    "            l = mid + 1\n",
    "        else:\n",
    "            r = mid - 1\n",
    "    return -1"
   ]
  },
  {
   "cell_type": "code",
   "execution_count": 17,
   "metadata": {},
   "outputs": [
    {
     "data": {
      "text/plain": [
       "-1"
      ]
     },
     "execution_count": 17,
     "metadata": {},
     "output_type": "execute_result"
    }
   ],
   "source": [
    "nums = [-1,0,3,5,9,12]\n",
    "search(nums, 2)"
   ]
  },
  {
   "cell_type": "code",
   "execution_count": 22,
   "metadata": {},
   "outputs": [],
   "source": [
    "def searchMatrix(matrix, target):\n",
    "    for row in matrix:\n",
    "        l = 0\n",
    "        r = len(row) - 1\n",
    "        mid = 0\n",
    "        while l <= r:\n",
    "            mid = (r+l)//2\n",
    "            if row[mid] == target:\n",
    "                return True\n",
    "            elif row[mid] < target:\n",
    "                l = mid + 1\n",
    "            else:\n",
    "                r = mid - 1\n",
    "    return False"
   ]
  },
  {
   "cell_type": "code",
   "execution_count": 23,
   "metadata": {},
   "outputs": [
    {
     "data": {
      "text/plain": [
       "True"
      ]
     },
     "execution_count": 23,
     "metadata": {},
     "output_type": "execute_result"
    }
   ],
   "source": [
    "matrix = [[1,3,5,7],[10,11,16,20],[23,30,34,60]]\n",
    "searchMatrix(matrix, 3)\n"
   ]
  },
  {
   "cell_type": "code",
   "execution_count": 54,
   "metadata": {},
   "outputs": [],
   "source": [
    "def answerQueries(nums, queries):\n",
    "    # Sort the numbers to facilitate prefix sum calculations\n",
    "    nums.sort()\n",
    "    \n",
    "    # Calculate prefix sums to use in binary search\n",
    "    prefix = [nums[0]]\n",
    "    for i in range(1, len(nums)):\n",
    "        prefix.append(nums[i] + prefix[-1])\n",
    "    \n",
    "    result = []\n",
    "    for query in queries:\n",
    "        # Initialize left and right pointers for binary search\n",
    "        l, r = 0, len(prefix) - 1\n",
    "        best = 0  # To keep track of the best answer (length of the longest subsequence)\n",
    "        while l <= r:\n",
    "            mid = (l + r) // 2\n",
    "            if prefix[mid] <= query:\n",
    "                best = mid + 1  # Update best answer, +1 because index starts at 0\n",
    "                l = mid + 1\n",
    "            else:\n",
    "                r = mid - 1\n",
    "        result.append(best)  # Append the length of the longest subsequence for the current query\n",
    "\n",
    "    return result\n",
    "\n"
   ]
  },
  {
   "cell_type": "code",
   "execution_count": 56,
   "metadata": {},
   "outputs": [
    {
     "data": {
      "text/plain": [
       "[2, 3, 4]"
      ]
     },
     "execution_count": 56,
     "metadata": {},
     "output_type": "execute_result"
    }
   ],
   "source": [
    "nums = [4,5,2,1]\n",
    "queries = [3,10,21]\n",
    "answerQueries(nums, queries)"
   ]
  },
  {
   "cell_type": "code",
   "execution_count": 3,
   "metadata": {},
   "outputs": [],
   "source": [
    "from math import ceil\n",
    "\n",
    "\n",
    "def smallestDivisor(nums, threshold):\n",
    "    left = 1 #minumum divisor\n",
    "    right = max(nums) #maximum divisor\n",
    "    mid = 0 #index of possible divisors array\n",
    "    while left < right:\n",
    "        mid = (left + right) // 2\n",
    "        # print(mid)\n",
    "        curr_sum = 0\n",
    "        for num in nums:\n",
    "            curr_sum += ceil(1.0*num/mid)\n",
    "        # print(curr_sum)\n",
    "        if curr_sum <= threshold:\n",
    "            right = mid\n",
    "        else: \n",
    "            left = mid + 1\n",
    "    return left\n"
   ]
  },
  {
   "cell_type": "code",
   "execution_count": 6,
   "metadata": {},
   "outputs": [
    {
     "ename": "KeyboardInterrupt",
     "evalue": "",
     "output_type": "error",
     "traceback": [
      "\u001b[1;31m---------------------------------------------------------------------------\u001b[0m",
      "\u001b[1;31mKeyboardInterrupt\u001b[0m                         Traceback (most recent call last)",
      "Cell \u001b[1;32mIn [6], line 2\u001b[0m\n\u001b[0;32m      1\u001b[0m nums \u001b[38;5;241m=\u001b[39m [\u001b[38;5;241m1\u001b[39m,\u001b[38;5;241m2\u001b[39m,\u001b[38;5;241m5\u001b[39m,\u001b[38;5;241m9\u001b[39m]\n\u001b[1;32m----> 2\u001b[0m \u001b[43msmallestDivisor\u001b[49m\u001b[43m(\u001b[49m\u001b[43mnums\u001b[49m\u001b[43m,\u001b[49m\u001b[43m \u001b[49m\u001b[38;5;241;43m6\u001b[39;49m\u001b[43m)\u001b[49m\n",
      "Cell \u001b[1;32mIn [3], line 13\u001b[0m, in \u001b[0;36msmallestDivisor\u001b[1;34m(nums, threshold)\u001b[0m\n\u001b[0;32m     11\u001b[0m curr_sum \u001b[38;5;241m=\u001b[39m \u001b[38;5;241m0\u001b[39m\n\u001b[0;32m     12\u001b[0m \u001b[38;5;28;01mfor\u001b[39;00m num \u001b[38;5;129;01min\u001b[39;00m nums:\n\u001b[1;32m---> 13\u001b[0m     curr_sum \u001b[38;5;241m+\u001b[39m\u001b[38;5;241m=\u001b[39m ceil(\u001b[38;5;241m1.0\u001b[39m\u001b[38;5;241m*\u001b[39mnum\u001b[38;5;241m/\u001b[39mmid)\n\u001b[0;32m     14\u001b[0m \u001b[38;5;66;03m# print(curr_sum)\u001b[39;00m\n\u001b[0;32m     15\u001b[0m \u001b[38;5;28;01mif\u001b[39;00m curr_sum \u001b[38;5;241m<\u001b[39m\u001b[38;5;241m=\u001b[39m threshold:\n",
      "Cell \u001b[1;32mIn [3], line 13\u001b[0m, in \u001b[0;36msmallestDivisor\u001b[1;34m(nums, threshold)\u001b[0m\n\u001b[0;32m     11\u001b[0m curr_sum \u001b[38;5;241m=\u001b[39m \u001b[38;5;241m0\u001b[39m\n\u001b[0;32m     12\u001b[0m \u001b[38;5;28;01mfor\u001b[39;00m num \u001b[38;5;129;01min\u001b[39;00m nums:\n\u001b[1;32m---> 13\u001b[0m     curr_sum \u001b[38;5;241m+\u001b[39m\u001b[38;5;241m=\u001b[39m ceil(\u001b[38;5;241m1.0\u001b[39m\u001b[38;5;241m*\u001b[39mnum\u001b[38;5;241m/\u001b[39mmid)\n\u001b[0;32m     14\u001b[0m \u001b[38;5;66;03m# print(curr_sum)\u001b[39;00m\n\u001b[0;32m     15\u001b[0m \u001b[38;5;28;01mif\u001b[39;00m curr_sum \u001b[38;5;241m<\u001b[39m\u001b[38;5;241m=\u001b[39m threshold:\n",
      "File \u001b[1;32m_pydevd_bundle/pydevd_cython.pyx:1443\u001b[0m, in \u001b[0;36m_pydevd_bundle.pydevd_cython.SafeCallWrapper.__call__\u001b[1;34m()\u001b[0m\n",
      "File \u001b[1;32m_pydevd_bundle/pydevd_cython.pyx:700\u001b[0m, in \u001b[0;36m_pydevd_bundle.pydevd_cython.PyDBFrame.trace_dispatch\u001b[1;34m()\u001b[0m\n",
      "File \u001b[1;32m_pydevd_bundle/pydevd_cython.pyx:1368\u001b[0m, in \u001b[0;36m_pydevd_bundle.pydevd_cython.PyDBFrame.trace_dispatch\u001b[1;34m()\u001b[0m\n",
      "File \u001b[1;32m_pydevd_bundle/pydevd_cython.pyx:1330\u001b[0m, in \u001b[0;36m_pydevd_bundle.pydevd_cython.PyDBFrame.trace_dispatch\u001b[1;34m()\u001b[0m\n",
      "File \u001b[1;32m_pydevd_bundle/pydevd_cython.pyx:311\u001b[0m, in \u001b[0;36m_pydevd_bundle.pydevd_cython.PyDBFrame.do_wait_suspend\u001b[1;34m()\u001b[0m\n",
      "File \u001b[1;32m~\\AppData\\Roaming\\Python\\Python310\\site-packages\\debugpy\\_vendored\\pydevd\\pydevd.py:2062\u001b[0m, in \u001b[0;36mPyDB.do_wait_suspend\u001b[1;34m(self, thread, frame, event, arg, exception_type)\u001b[0m\n\u001b[0;32m   2059\u001b[0m             from_this_thread\u001b[38;5;241m.\u001b[39mappend(frame_custom_thread_id)\n\u001b[0;32m   2061\u001b[0m     \u001b[38;5;28;01mwith\u001b[39;00m \u001b[38;5;28mself\u001b[39m\u001b[38;5;241m.\u001b[39m_threads_suspended_single_notification\u001b[38;5;241m.\u001b[39mnotify_thread_suspended(thread_id, stop_reason):\n\u001b[1;32m-> 2062\u001b[0m         keep_suspended \u001b[38;5;241m=\u001b[39m \u001b[38;5;28;43mself\u001b[39;49m\u001b[38;5;241;43m.\u001b[39;49m\u001b[43m_do_wait_suspend\u001b[49m\u001b[43m(\u001b[49m\u001b[43mthread\u001b[49m\u001b[43m,\u001b[49m\u001b[43m \u001b[49m\u001b[43mframe\u001b[49m\u001b[43m,\u001b[49m\u001b[43m \u001b[49m\u001b[43mevent\u001b[49m\u001b[43m,\u001b[49m\u001b[43m \u001b[49m\u001b[43marg\u001b[49m\u001b[43m,\u001b[49m\u001b[43m \u001b[49m\u001b[43msuspend_type\u001b[49m\u001b[43m,\u001b[49m\u001b[43m \u001b[49m\u001b[43mfrom_this_thread\u001b[49m\u001b[43m,\u001b[49m\u001b[43m \u001b[49m\u001b[43mframes_tracker\u001b[49m\u001b[43m)\u001b[49m\n\u001b[0;32m   2064\u001b[0m frames_list \u001b[38;5;241m=\u001b[39m \u001b[38;5;28;01mNone\u001b[39;00m\n\u001b[0;32m   2066\u001b[0m \u001b[38;5;28;01mif\u001b[39;00m keep_suspended:\n\u001b[0;32m   2067\u001b[0m     \u001b[38;5;66;03m# This means that we should pause again after a set next statement.\u001b[39;00m\n",
      "File \u001b[1;32m~\\AppData\\Roaming\\Python\\Python310\\site-packages\\debugpy\\_vendored\\pydevd\\pydevd.py:2098\u001b[0m, in \u001b[0;36mPyDB._do_wait_suspend\u001b[1;34m(self, thread, frame, event, arg, suspend_type, from_this_thread, frames_tracker)\u001b[0m\n\u001b[0;32m   2095\u001b[0m         \u001b[38;5;28mself\u001b[39m\u001b[38;5;241m.\u001b[39m_call_input_hook()\n\u001b[0;32m   2097\u001b[0m     \u001b[38;5;28mself\u001b[39m\u001b[38;5;241m.\u001b[39mprocess_internal_commands()\n\u001b[1;32m-> 2098\u001b[0m     \u001b[43mtime\u001b[49m\u001b[38;5;241;43m.\u001b[39;49m\u001b[43msleep\u001b[49m\u001b[43m(\u001b[49m\u001b[38;5;241;43m0.01\u001b[39;49m\u001b[43m)\u001b[49m\n\u001b[0;32m   2100\u001b[0m \u001b[38;5;28mself\u001b[39m\u001b[38;5;241m.\u001b[39mcancel_async_evaluation(get_current_thread_id(thread), \u001b[38;5;28mstr\u001b[39m(\u001b[38;5;28mid\u001b[39m(frame)))\n\u001b[0;32m   2102\u001b[0m \u001b[38;5;66;03m# process any stepping instructions\u001b[39;00m\n",
      "\u001b[1;31mKeyboardInterrupt\u001b[0m: "
     ]
    }
   ],
   "source": [
    "nums = [1,2,5,9]\n",
    "smallestDivisor(nums, 6)"
   ]
  },
  {
   "cell_type": "code",
   "execution_count": 99,
   "metadata": {},
   "outputs": [
    {
     "name": "stdout",
     "output_type": "stream",
     "text": [
      "18\n"
     ]
    }
   ],
   "source": [
    "def splitArray(nums, k):\n",
    "    def canSplit(maxSumAllowed):\n",
    "        currentSum = 0\n",
    "        requiredSubarrays = 1  # Start with one subarray\n",
    "        for num in nums:\n",
    "            # If adding num to currentSum exceeds maxSumAllowed, start a new subarray\n",
    "            if currentSum + num > maxSumAllowed:\n",
    "                requiredSubarrays += 1\n",
    "                currentSum = num\n",
    "            else:\n",
    "                currentSum += num\n",
    "        return requiredSubarrays <= k\n",
    "\n",
    "    left, right = max(nums), sum(nums)\n",
    "    minimumLargestSplitSum = right\n",
    "\n",
    "    while left <= right:\n",
    "        mid = (left + right) // 2\n",
    "        if canSplit(mid):\n",
    "            minimumLargestSplitSum = mid\n",
    "            right = mid - 1\n",
    "        else:\n",
    "            left = mid + 1\n",
    "\n",
    "    return minimumLargestSplitSum\n",
    "\n",
    "# Example usage\n",
    "nums = [7,2,5,10,8]\n",
    "k = 2\n",
    "print(splitArray(nums, k))\n"
   ]
  },
  {
   "cell_type": "code",
   "execution_count": 100,
   "metadata": {},
   "outputs": [],
   "source": [
    "from collections import defaultdict\n",
    "def singleNonDuplicate(nums):\n",
    "    freq = defaultdict(int)\n",
    "    for num in nums:\n",
    "        freq[num] += 1\n",
    "    for key, val in freq.items():\n",
    "        if val == 1:\n",
    "            return key"
   ]
  },
  {
   "cell_type": "code",
   "execution_count": 125,
   "metadata": {},
   "outputs": [],
   "source": [
    "def singleNonDuplicate2(nums):\n",
    "    l = 0\n",
    "    r = len(nums) - 1\n",
    "    mid = 0\n",
    "    while l <= r:\n",
    "        mid = l + ((r-l)//2)\n",
    "        if ((mid - 1 < 0 or nums[mid-1] != nums[mid]) and  \n",
    "        (mid + 1 == len(nums) or nums[mid] != nums[mid+1])):\n",
    "            return nums[mid]\n",
    "        leftSide = mid - 1 if nums[mid - 1] == nums[mid] else mid\n",
    "        if leftSide %2 == 0:\n",
    "            l = mid +1\n",
    "        else:\n",
    "            r = mid - 1\n",
    "\n",
    "        \n",
    "    return nums[l]\n",
    "\n",
    "    "
   ]
  },
  {
   "cell_type": "code",
   "execution_count": 126,
   "metadata": {},
   "outputs": [
    {
     "data": {
      "text/plain": [
       "2"
      ]
     },
     "execution_count": 126,
     "metadata": {},
     "output_type": "execute_result"
    }
   ],
   "source": [
    "nums = [1,1,2,3,3,4,4,8,8]\n",
    "singleNonDuplicate2(nums)"
   ]
  },
  {
   "cell_type": "code",
   "execution_count": 28,
   "metadata": {},
   "outputs": [],
   "source": [
    "def maximum69Number (num):\n",
    "    num_str = str(num)\n",
    "    num_list = list(num_str)\n",
    "    print(num_list)\n",
    "    for i in range(len(num_list)):\n",
    "        if num_list[i] == '6':\n",
    "            num_list[i] = '9'\n",
    "            break\n",
    "    return int(\"\".join(num_list[i] for i in range(len(num_list))))\n"
   ]
  },
  {
   "cell_type": "code",
   "execution_count": 29,
   "metadata": {},
   "outputs": [
    {
     "name": "stdout",
     "output_type": "stream",
     "text": [
      "['9', '6', '6', '9']\n"
     ]
    },
    {
     "data": {
      "text/plain": [
       "9969"
      ]
     },
     "execution_count": 29,
     "metadata": {},
     "output_type": "execute_result"
    }
   ],
   "source": [
    "num = 9669\n",
    "maximum69Number (num)"
   ]
  },
  {
   "cell_type": "code",
   "execution_count": 37,
   "metadata": {},
   "outputs": [
    {
     "data": {
      "text/plain": [
       "5"
      ]
     },
     "execution_count": 37,
     "metadata": {},
     "output_type": "execute_result"
    }
   ],
   "source": [
    "def maxNumberOfApples(weight):\n",
    "    if sum(weight) <= 5000:\n",
    "        return len(weight)\n",
    "    weight.sort()\n",
    "    curr = 0\n",
    "    ans = 0\n",
    "    items = len(weight)\n",
    "    for w in weight:\n",
    "        if curr + w <= 5000:\n",
    "            curr += w\n",
    "            ans += 1\n",
    "        else:\n",
    "            break\n",
    "            \n",
    "    return ans\n",
    "\n",
    "weight = [900,950,800,1000,700,800]\n",
    "maxNumberOfApples(weight)"
   ]
  },
  {
   "cell_type": "code",
   "execution_count": 48,
   "metadata": {},
   "outputs": [
    {
     "data": {
      "text/plain": [
       "983"
      ]
     },
     "execution_count": 48,
     "metadata": {},
     "output_type": "execute_result"
    }
   ],
   "source": [
    "from collections import defaultdict\n",
    "def longestPalindrome(s):\n",
    "    ans = 0\n",
    "    has_odd = False\n",
    "    f = defaultdict(int)\n",
    "    for ch in s:\n",
    "        f[ch] += 1\n",
    "    for k,v in f.items():\n",
    "        if v % 2 == 0:\n",
    "            ans += v\n",
    "        else:\n",
    "            ans += v - 1\n",
    "            has_odd = True\n",
    "    if has_odd:\n",
    "        ans += 1\n",
    "    return ans \n",
    "s = \"civilwartestingwhetherthatnaptionoranynartionsoconceivedandsodedicatedcanlongendureWeareqmetonagreatbattlefiemldoftzhatwarWehavecometodedicpateaportionofthatfieldasafinalrestingplaceforthosewhoheregavetheirlivesthatthatnationmightliveItisaltogetherfangandproperthatweshoulddothisButinalargersensewecannotdedicatewecannotconsecratewecannothallowthisgroundThebravelmenlivinganddeadwhostruggledherehaveconsecrateditfaraboveourpoorponwertoaddordetractTgheworldadswfilllittlenotlenorlongrememberwhatwesayherebutitcanneverforgetwhattheydidhereItisforusthelivingrathertobededicatedheretotheulnfinishedworkwhichtheywhofoughtherehavethusfarsonoblyadvancedItisratherforustobeherededicatedtothegreattdafskremainingbeforeusthatfromthesehonoreddeadwetakeincreaseddevotiontothatcauseforwhichtheygavethelastpfullmeasureofdevotionthatweherehighlyresolvethatthesedeadshallnothavediedinvainthatthisnationunsderGodshallhaveanewbirthoffreedomandthatgovernmentofthepeoplebythepeopleforthepeopleshallnotperishfromtheearth\"\n",
    "longestPalindrome(s)\n"
   ]
  },
  {
   "cell_type": "code",
   "execution_count": 61,
   "metadata": {},
   "outputs": [
    {
     "data": {
      "text/plain": [
       "2"
      ]
     },
     "execution_count": 61,
     "metadata": {},
     "output_type": "execute_result"
    }
   ],
   "source": [
    "def findContentChildren(g, s):\n",
    "    g = sorted(g)\n",
    "    s = sorted(s)\n",
    "    ans = 0\n",
    "    i,j = 0, 0\n",
    "    while i < len(g) and j < len(s):\n",
    "        if g[i] <= s[j]:\n",
    "            ans += 1\n",
    "            i += 1\n",
    "        j += 1\n",
    "    return ans\n",
    "\n",
    "\n",
    "g = [1,2]\n",
    "s = [1,2,3]\n",
    "findContentChildren(g, s)\n",
    "\n"
   ]
  },
  {
   "cell_type": "code",
   "execution_count": 80,
   "metadata": {},
   "outputs": [
    {
     "data": {
      "text/plain": [
       "6"
      ]
     },
     "execution_count": 80,
     "metadata": {},
     "output_type": "execute_result"
    }
   ],
   "source": [
    "def largestSumAfterKNegations(nums, k):\n",
    "    nums = sorted(nums)\n",
    "    for i in range(len(nums)):\n",
    "        if nums[i] < 0 and k> 0:\n",
    "            \n",
    "            nums[i] = -nums[i]\n",
    "            k -= 1\n",
    "    nums = sorted(nums)\n",
    "\n",
    "    if k % 2 == 1:\n",
    "        nums[0] = -nums[0]\n",
    "\n",
    "    \n",
    "    return sum(nums)\n",
    "\n",
    "nums = [3,-1,0,2]\n",
    "largestSumAfterKNegations(nums, 3)"
   ]
  },
  {
   "cell_type": "code",
   "execution_count": 98,
   "metadata": {},
   "outputs": [
    {
     "data": {
      "text/plain": [
       "12"
      ]
     },
     "execution_count": 98,
     "metadata": {},
     "output_type": "execute_result"
    }
   ],
   "source": [
    "import heapq,math\n",
    "def minStoneSum(piles, k):\n",
    "    piles = [-pile for pile in piles]\n",
    "    heapq.heapify(piles)\n",
    "    while k > 0:\n",
    "        max_num = -heapq.heappop(piles)\n",
    "        heapq.heappush(piles, -math.ceil(max_num/2))\n",
    "        k -= 1\n",
    "\n",
    "    return abs(sum(piles))\n",
    "piles = [5,4,9]\n",
    "minStoneSum(piles, 2)"
   ]
  },
  {
   "cell_type": "code",
   "execution_count": 106,
   "metadata": {},
   "outputs": [
    {
     "data": {
      "text/plain": [
       "30"
      ]
     },
     "execution_count": 106,
     "metadata": {},
     "output_type": "execute_result"
    }
   ],
   "source": [
    "def connectSticks(sticks):\n",
    "    heapq.heapify(sticks)\n",
    "    cost = 0\n",
    "    while len(sticks) > 1:\n",
    "        first = heapq.heappop(sticks)\n",
    "        second = heapq.heappop(sticks)\n",
    "        curr_cost = first + second\n",
    "        heapq.heappush(sticks, curr_cost)\n",
    "        cost += curr_cost\n",
    "    return cost\n",
    "\n",
    "sticks = [1,8,3,5]\n",
    "connectSticks(sticks)"
   ]
  },
  {
   "cell_type": "code",
   "execution_count": 123,
   "metadata": {},
   "outputs": [
    {
     "data": {
      "text/plain": [
       "3"
      ]
     },
     "execution_count": 123,
     "metadata": {},
     "output_type": "execute_result"
    }
   ],
   "source": [
    "def findKthLargest(nums, k):\n",
    "    heap = [-num for num in nums]\n",
    "    heapq.heapify(heap)\n",
    "    for i in range(k-1):\n",
    "        heapq.heappop(heap)\n",
    "    return -heapq.heappop(heap)\n",
    "arr = [3,2,3,1,2,4,5,5,6]\n",
    "findKthLargest(nums, 4)"
   ]
  },
  {
   "cell_type": "code",
   "execution_count": 132,
   "metadata": {},
   "outputs": [
    {
     "data": {
      "text/plain": [
       "[(-2, 2), (2, -2)]"
      ]
     },
     "execution_count": 132,
     "metadata": {},
     "output_type": "execute_result"
    }
   ],
   "source": [
    "import math\n",
    "def kClosest(points, k):\n",
    "    heap = [((x**2 + y**2)**0.5, (x, y)) for x, y in points]\n",
    "    heapq.heapify(heap)\n",
    "    ans = [heapq.heappop(heap)[1] for i in range(k)]\n",
    "    return ans\n",
    "\n",
    "points = [[1,3],[-2,2],[2,-2]]\n",
    "kClosest(points, 2)\n"
   ]
  },
  {
   "cell_type": "code",
   "execution_count": 5,
   "metadata": {},
   "outputs": [
    {
     "name": "stdout",
     "output_type": "stream",
     "text": [
      "[1, 4, 9, 4, 1, 16, 9, 4, 9, 16, 9, 9]\n"
     ]
    }
   ],
   "source": [
    "n = [1,2,3,2,1,4,3,2,3,4,3,3]\n"
   ]
  },
  {
   "cell_type": "markdown",
   "metadata": {},
   "source": [
    "    // let curr represent the thing you are building\n",
    "    // it could be an array or a combination of variables\n",
    "\n",
    "    function backtrack(curr) {\n",
    "        if (base case) {\n",
    "            Increment or add to answer\n",
    "            return\n",
    "        }\n",
    "\n",
    "        for (iterate over input) {\n",
    "            Modify curr\n",
    "            backtrack(curr)\n",
    "            Undo whatever modification was done to curr\n",
    "        }\n",
    "    }"
   ]
  },
  {
   "cell_type": "code",
   "execution_count": 47,
   "metadata": {},
   "outputs": [
    {
     "data": {
      "text/plain": [
       "['ad', 'ae', 'af', 'bd', 'be', 'bf', 'cd', 'ce', 'cf']"
      ]
     },
     "execution_count": 47,
     "metadata": {},
     "output_type": "execute_result"
    }
   ],
   "source": [
    "def letterCombinations(digits):\n",
    "    alphabet = 'abcdefghijklmnopqrstuvwxyz'\n",
    "    dial_pad = {}\n",
    "    start = 0\n",
    "    for key in range(2,10):\n",
    "        step = 4 if key in [7, 9] else 3\n",
    "        dial_pad[str(key)] = alphabet[start:start+step]\n",
    "        start += step\n",
    "    if digits == \"\":\n",
    "        return []\n",
    "    \n",
    "    def backtrack(index, path):\n",
    "        if len(path) == len(digits):\n",
    "            ans.append(\"\".join(path))\n",
    "            return\n",
    "        \n",
    "        possible_letters = dial_pad[digits[index]]\n",
    "        for letter in possible_letters:\n",
    "            path.append(letter)\n",
    "            backtrack(index+1, path)\n",
    "            path.pop()\n",
    "    \n",
    "    ans=[]\n",
    "    backtrack(0, [])\n",
    "    return ans\n",
    "letterCombinations(\"23\")"
   ]
  },
  {
   "cell_type": "code",
   "execution_count": 10,
   "metadata": {},
   "outputs": [
    {
     "data": {
      "text/plain": [
       "[[0, 4], [0, 3, 4], [0, 1, 3, 4], [0, 1, 2, 3, 4], [0, 1, 4]]"
      ]
     },
     "execution_count": 10,
     "metadata": {},
     "output_type": "execute_result"
    }
   ],
   "source": [
    "def allPathsSourceTarget(graph):\n",
    "    ans=[]\n",
    "    def backtrack(currNode, path):\n",
    "        # if we reach the target, no need to explore further.\n",
    "        if currNode == len(graph) - 1:\n",
    "            ans.append(list(path))\n",
    "            return\n",
    "        # explore the neighbor nodes one after another.\n",
    "        for next_node in graph[currNode]:\n",
    "            path.append(next_node)\n",
    "            backtrack(next_node, path)\n",
    "            path.pop()\n",
    "    # kick of the backtracking, starting from the source node (0).\n",
    "    path = [0]\n",
    "    backtrack(0, path)\n",
    "    return ans\n",
    "\n",
    "graph = [[4,3,1],[3,2,4],[3],[4],[]]\n",
    "allPathsSourceTarget(graph)\n"
   ]
  },
  {
   "cell_type": "code",
   "execution_count": 37,
   "metadata": {},
   "outputs": [
    {
     "data": {
      "text/plain": [
       "['adp',\n",
       " 'adq',\n",
       " 'adr',\n",
       " 'ads',\n",
       " 'aep',\n",
       " 'aeq',\n",
       " 'aer',\n",
       " 'aes',\n",
       " 'afp',\n",
       " 'afq',\n",
       " 'afr',\n",
       " 'afs',\n",
       " 'bdp',\n",
       " 'bdq',\n",
       " 'bdr',\n",
       " 'bds',\n",
       " 'bep',\n",
       " 'beq',\n",
       " 'ber',\n",
       " 'bes',\n",
       " 'bfp',\n",
       " 'bfq',\n",
       " 'bfr',\n",
       " 'bfs',\n",
       " 'cdp',\n",
       " 'cdq',\n",
       " 'cdr',\n",
       " 'cds',\n",
       " 'cep',\n",
       " 'ceq',\n",
       " 'cer',\n",
       " 'ces',\n",
       " 'cfp',\n",
       " 'cfq',\n",
       " 'cfr',\n",
       " 'cfs']"
      ]
     },
     "execution_count": 37,
     "metadata": {},
     "output_type": "execute_result"
    }
   ],
   "source": [
    "from itertools import product\n",
    "def letterCombinations(digits):\n",
    "    if digits == \"\":\n",
    "        return []\n",
    "    alphabet = 'abcdefghijklmnopqrstuvwxyz'\n",
    "    dial_pad = {}\n",
    "    start = 0\n",
    "    step = 3\n",
    "    for key in range(2,10):\n",
    "        if key == 7 or key == 9:\n",
    "            step = 4\n",
    "        else:\n",
    "            step = 3\n",
    "        \n",
    "        dial_pad[key] = alphabet[start:start+step]\n",
    "        start += step\n",
    "\n",
    "    digits = [int(digits[i]) for i in range(len(digits))]\n",
    "    letter_list = []\n",
    "    for i in digits:\n",
    "        curr = dial_pad[i]\n",
    "        letter_list.append(list(curr))\n",
    "    \n",
    "    ans_str = list(product(*letter_list))\n",
    "    ans = [\"\".join(curr) for curr in ans_str]\n",
    "\n",
    "\n",
    "    return ans\n",
    "letterCombinations(\"237\")"
   ]
  },
  {
   "cell_type": "code",
   "execution_count": 78,
   "metadata": {},
   "outputs": [
    {
     "name": "stdout",
     "output_type": "stream",
     "text": [
      "p\n"
     ]
    },
    {
     "data": {
      "text/plain": [
       "True"
      ]
     },
     "execution_count": 78,
     "metadata": {},
     "output_type": "execute_result"
    }
   ],
   "source": [
    "from collections import defaultdict\n",
    "def isPalindrome(s):\n",
    "    s = list(s.lower().replace(\" \", \"\"))\n",
    "    s = \"\".join(ch for ch in s if ch.isalpha())\n",
    "    print(s)\n",
    "    if len(s) == 1:\n",
    "        return True\n",
    "    l = 0\n",
    "    r = len(s) - 1\n",
    "\n",
    "    while l <= r:\n",
    "        if s[l] == s[r]:\n",
    "            l += 1\n",
    "            r -= 1\n",
    "        else:\n",
    "            return False\n",
    "        \n",
    "    return True\n",
    "\n",
    "s = \"0P\"\n",
    "isPalindrome(s)\n",
    "\n",
    "    "
   ]
  },
  {
   "cell_type": "code",
   "execution_count": 89,
   "metadata": {},
   "outputs": [
    {
     "data": {
      "text/plain": [
       "'holle'"
      ]
     },
     "execution_count": 89,
     "metadata": {},
     "output_type": "execute_result"
    }
   ],
   "source": [
    "def reverseVowels(s):\n",
    "    \"\"\"\n",
    "    :type s: str\n",
    "    :rtype: str\n",
    "    \"\"\"\n",
    "    l, r = 0, len(s)-1\n",
    "    vowels = ['a', 'e', 'i', 'o', 'u']\n",
    "    s = list(s)\n",
    "    while l<=r:\n",
    "        if s[l].lower() not in vowels:\n",
    "            l+=1\n",
    "            continue\n",
    "        if s[r].lower() not in vowels:\n",
    "            r-=1\n",
    "            continue\n",
    "        s[l], s[r] = s[r], s[l]\n",
    "        l += 1\n",
    "        r -= 1\n",
    "\n",
    "    return \"\".join(s) \n",
    "s = \"hello\"\n",
    "reverseVowels(s)"
   ]
  },
  {
   "cell_type": "code",
   "execution_count": 94,
   "metadata": {},
   "outputs": [
    {
     "data": {
      "text/plain": [
       "2"
      ]
     },
     "execution_count": 94,
     "metadata": {},
     "output_type": "execute_result"
    }
   ],
   "source": [
    "def threeSumClosest(nums, target):\n",
    "    nums.sort()\n",
    "    closest_sum = float('inf')\n",
    "    for i in range(len(nums)):\n",
    "        l = i+1\n",
    "        r = len(nums) - 1\n",
    "        while l < r:\n",
    "            three_sum = nums[l] + nums[r] + nums[i]\n",
    "            if  abs(three_sum - target) < abs(closest_sum - target):\n",
    "                closest_sum = three_sum\n",
    "            if three_sum == target:\n",
    "                return three_sum\n",
    "            if three_sum < target:\n",
    "                l += 1\n",
    "            else:\n",
    "                r -= 1\n",
    "\n",
    "    return closest_sum\n",
    "\n",
    "\n",
    "\n",
    "nums = [-1,2,1,-4]\n",
    "threeSumClosest(nums, 1)"
   ]
  },
  {
   "cell_type": "code",
   "execution_count": null,
   "metadata": {},
   "outputs": [],
   "source": [
    "class Solution(object):\n",
    "    def threeSumClosest(self, nums, target):\n",
    "        \"\"\"\n",
    "        :type nums: List[int]\n",
    "        :type target: int\n",
    "        :rtype: int\n",
    "        \"\"\"\n",
    "        nums = sorted(nums)\n",
    "        closest_sum = float('inf')\n",
    "        for i in range(len(nums)-):\n",
    "            l = 1\n",
    "            r = len(nums) - 1\n",
    "            while l < r:\n",
    "                three_sum = nums[l] + nums[r] + nums[i]\n",
    "                if  abs(three_sum - target) < abs(closest_sum - target):\n",
    "                    closest_sum = three_sum\n",
    "                if three_sum == target:\n",
    "                    return three_sum\n",
    "                if three_sum < target:\n",
    "                    l += 1\n",
    "                else:\n",
    "                    r -= 1\n",
    "\n",
    "        return closest_sum"
   ]
  },
  {
   "cell_type": "markdown",
   "metadata": {},
   "source": [
    "    // let curr represent the thing you are building\n",
    "    // it could be an array or a combination of variables\n",
    "\n",
    "    function backtrack(curr) {\n",
    "        if (base case) {\n",
    "            Increment or add to answer\n",
    "            return\n",
    "        }\n",
    "\n",
    "        for (iterate over input) {\n",
    "            Modify curr\n",
    "            backtrack(curr)\n",
    "            Undo whatever modification was done to curr\n",
    "        }\n",
    "    }"
   ]
  },
  {
   "cell_type": "code",
   "execution_count": 99,
   "metadata": {},
   "outputs": [
    {
     "data": {
      "text/plain": [
       "['((()))', '(()())', '(())()', '()(())', '()()()']"
      ]
     },
     "execution_count": 99,
     "metadata": {},
     "output_type": "execute_result"
    }
   ],
   "source": [
    "def generateparenthesis(n):\n",
    "    stack = []\n",
    "    res = []\n",
    "    def backtrack(openN, closeN):\n",
    "        if openN == closeN == n:\n",
    "            res.append(\"\".join(stack))\n",
    "            return\n",
    "        if openN < n:\n",
    "            stack.append(\"(\")\n",
    "            backtrack(openN + 1, closeN)\n",
    "            stack.pop()\n",
    "        if  closeN < openN:\n",
    "            stack.append(\")\")\n",
    "            backtrack(openN, closeN+1)\n",
    "            stack.pop()\n",
    "        \n",
    "    backtrack(0,0)\n",
    "    return res\n",
    "generateparenthesis(3)\n",
    "\n"
   ]
  },
  {
   "cell_type": "code",
   "execution_count": 16,
   "metadata": {},
   "outputs": [
    {
     "data": {
      "text/plain": [
       "[[-2, -1, 1, 2], [-2, 0, 0, 2], [-1, 0, 0, 1]]"
      ]
     },
     "execution_count": 16,
     "metadata": {},
     "output_type": "execute_result"
    }
   ],
   "source": [
    "def fourSum(nums, target):\n",
    "    nums.sort()\n",
    "    ans = []\n",
    "    curr = set()\n",
    "    for i in range(len(nums)):\n",
    "        if i > 0 and nums[i] == nums[i-1]:\n",
    "            continue\n",
    "        for j in range(i+1, len(nums)):\n",
    "            if j > i+1 and nums[j] == nums[j-1]:\n",
    "                continue\n",
    "            curr = target - nums[i] - nums[j]\n",
    "            l=j+1\n",
    "            r=len(nums)-1\n",
    "            while l<r:\n",
    "                if nums[l] + nums[r] == curr:\n",
    "                    ans.append([nums[i], nums[j],nums[l] , nums[r]])\n",
    "                    while l < r and nums[l] == nums[l+1]:\n",
    "                        l += 1\n",
    "                    while l < r and nums[r] == nums[r-1]:\n",
    "                        r -= 1\n",
    "                    l += 1\n",
    "                    r -= 1\n",
    "                elif nums[l] + nums[r] > curr:\n",
    "                    r -= 1\n",
    "                else:\n",
    "                    l += 1\n",
    "    return ans\n",
    "nums = [1,0,-1,0,-2,2]\n",
    "fourSum(nums, 0)"
   ]
  },
  {
   "cell_type": "code",
   "execution_count": 5,
   "metadata": {},
   "outputs": [],
   "source": [
    "# Definition for a binary tree node.\n",
    "class TreeNode(object):\n",
    "    def __init__(self, val=0, left=None, right=None):\n",
    "        self.val = val\n",
    "        self.left = left\n",
    "        self.right = right\n",
    "class Solution(object):\n",
    "    def minDepth(self, root):\n",
    "        if not root:\n",
    "            return 0\n",
    "        left = self.minDepth(root.left)\n",
    "        right = self.minDepth(root.right)\n",
    "\n",
    "        if left and right:\n",
    "            return min(left, right) + 1\n",
    "        if left:\n",
    "            return left + 1\n",
    "        else:\n",
    "            return right + 1\n",
    "\n",
    "        "
   ]
  },
  {
   "cell_type": "code",
   "execution_count": 6,
   "metadata": {},
   "outputs": [
    {
     "data": {
      "text/plain": [
       "2"
      ]
     },
     "execution_count": 6,
     "metadata": {},
     "output_type": "execute_result"
    }
   ],
   "source": [
    "root = TreeNode(3)\n",
    "nine = TreeNode(9)\n",
    "twenty = TreeNode(20)\n",
    "fifteen = TreeNode(15)\n",
    "seven = TreeNode(7)\n",
    "\n",
    "root.left = nine\n",
    "root.right = twenty\n",
    "\n",
    "twenty.left = fifteen\n",
    "twenty.right = seven\n",
    "sol = Solution()\n",
    "sol.minDepth(root)"
   ]
  },
  {
   "cell_type": "code",
   "execution_count": null,
   "metadata": {},
   "outputs": [],
   "source": [
    "    def maxDepth(self, root):\n",
    "        if not root:\n",
    "            return 0\n",
    "        left = self.maxDepth(root.left)\n",
    "        right = self.maxDepth(root.right)\n",
    "\n",
    "        return max(left, right) + 1"
   ]
  },
  {
   "cell_type": "code",
   "execution_count": null,
   "metadata": {},
   "outputs": [],
   "source": [
    "# Definition for a binary tree node.\n",
    "class TreeNode(object):\n",
    "    def __init__(self, val=0, left=None, right=None):\n",
    "        self.val = val\n",
    "        self.left = left\n",
    "        self.right = right\n",
    "class Solution(object):\n",
    "    def maxAncestorDiff(self, root):\n",
    "        def dfs(node, max_sofar, min_sofar):\n",
    "            if not node:\n",
    "                return max_so_far - min_sofar\n",
    "            # Update the max and min based on the current node's value\n",
    "            max_so_far = max(max_so_far, node.val)\n",
    "            min_so_far = min(min_so_far, node.val)\n",
    "\n",
    "            left_diff = dfs(node.left, max_so_far, min_so_far )\n",
    "            right_diff = dfs(node.right, max_so_far, min_so_far )\n",
    "            return max(left_diff, right_diff)\n",
    "        \n",
    "        return dfs(root, root.val, root.val)\n",
    "                \n",
    "            "
   ]
  },
  {
   "cell_type": "code",
   "execution_count": null,
   "metadata": {},
   "outputs": [],
   "source": [
    "# Definition for a binary tree node.\n",
    "# class TreeNode(object):\n",
    "#     def __init__(self, val=0, left=None, right=None):\n",
    "#         self.val = val\n",
    "#         self.left = left\n",
    "#         self.right = right\n",
    "class Solution(object):\n",
    "    def diameterOfBinaryTree(self, root):\n",
    "        self.diameter = 0\n",
    "        def dfs(node):\n",
    "            if not node:\n",
    "                return 0\n",
    "            left = dfs(root.left)\n",
    "            right = dfs(root.right)\n",
    "            self.diameter = max(self.diameter, left+right)\n",
    "            return 1 + max(left, right)\n",
    "        dfs(root)\n",
    "        return  self.diameter"
   ]
  },
  {
   "cell_type": "code",
   "execution_count": null,
   "metadata": {},
   "outputs": [],
   "source": [
    "    def deepestLeavesSum(self, root):\n",
    "        queue = deque([root])\n",
    "        while queue:\n",
    "            lvl_sum = 0\n",
    "            nodes_in_current_level = len(queue)\n",
    "            for _ in range(nodes_in_current_level):\n",
    "                node = queue.popleft()\n",
    "                lvl_sum += node.val\n",
    "                if node.left:\n",
    "                    queue.append(node.left)\n",
    "                if node.right:\n",
    "                    queue.append(node.right)\n",
    "            ans = lvl_sum\n",
    "        return ans"
   ]
  },
  {
   "cell_type": "code",
   "execution_count": null,
   "metadata": {},
   "outputs": [],
   "source": [
    " def zigzagLevelOrder(self, root):\n",
    "    queue =deque([root])\n",
    "    zigzag = True\n",
    "    ans = []\n",
    "    while queue:\n",
    "        curr = []\n",
    "        curr_lvl_len = len(queue)\n",
    "        for _ in range(curr_lvl_len):\n",
    "            node = queue.popleft()\n",
    "            if zigzag:\n",
    "                curr.append(node.val)\n",
    "            else:\n",
    "                curr.insert(0, node.val)\n",
    "        \n",
    "            if node.left:\n",
    "                queue.append(node.left)\n",
    "            if node.right:\n",
    "                queue.append(node.right)\n",
    "        ans.append(curr)\n",
    "        zigzag = not zigzag\n",
    "    return ans\n",
    "            \n",
    "            \n",
    "            \n",
    "                \n"
   ]
  },
  {
   "cell_type": "code",
   "execution_count": 28,
   "metadata": {},
   "outputs": [
    {
     "data": {
      "text/plain": [
       "[0, 0, 1, 1, 2, 2]"
      ]
     },
     "execution_count": 28,
     "metadata": {},
     "output_type": "execute_result"
    }
   ],
   "source": [
    "def sortColors(nums):\n",
    "    l = 0\n",
    "    r = len(nums) - 1\n",
    "    i = 0\n",
    "\n",
    "    while i < r:\n",
    "        if nums[i] == 0:\n",
    "            nums[i], nums[l] = nums[l], nums[i]\n",
    "            l += 1\n",
    "        if nums[i] == 2:\n",
    "            nums[i], nums[r] = nums[r], nums[i]\n",
    "            r -= 1\n",
    "        else:\n",
    "            i += 1\n",
    "        \n",
    "\n",
    "    return nums\n",
    "# nums = [1,0,2]\n",
    "nums = [2,0,2,1,1,0]\n",
    "sortColors(nums)\n",
    "            "
   ]
  },
  {
   "cell_type": "code",
   "execution_count": 3,
   "metadata": {},
   "outputs": [
    {
     "data": {
      "text/plain": [
       "[4, 0, 1, 1, 3]"
      ]
     },
     "execution_count": 3,
     "metadata": {},
     "output_type": "execute_result"
    }
   ],
   "source": [
    "def smallerNumbersThanCurrent(nums):\n",
    "    ans = [0]*len(nums)\n",
    "    for i in range(len(nums)):\n",
    "        for j in range(len(nums)):\n",
    "            if nums[i] > nums[j]:\n",
    "                ans[i] += 1\n",
    "    return ans\n",
    "nums = [8,1,2,2,3]\n",
    "smallerNumbersThanCurrent(nums)"
   ]
  },
  {
   "cell_type": "code",
   "execution_count": null,
   "metadata": {},
   "outputs": [],
   "source": [
    "class TreeNode:\n",
    "    def __init__(self, val=0, left=None, right=None):\n",
    "        self.val = val\n",
    "        self.left = left\n",
    "        self.right = right\n",
    "def insertIntoBST(root, val):\n",
    "    def dfs(node):\n",
    "        if not node:\n",
    "            return TreeNode(val)\n",
    "        if val > node.val:\n",
    "            if not node.right:\n",
    "                node.right = TreeNode(val) \n",
    "            else:\n",
    "                dfs(node.right)\n",
    "\n",
    "        if val < node.val:\n",
    "            if not node.left:\n",
    "                node.left = TreeNode(val)\n",
    "            else:\n",
    "                dfs(node.left)\n",
    "        \n",
    "    return dfs(root)\n",
    "        "
   ]
  },
  {
   "cell_type": "code",
   "execution_count": null,
   "metadata": {},
   "outputs": [],
   "source": [
    "def closestValue(root, target):\n",
    "    if not root:\n",
    "        return Null\n",
    "    ans = float('inf')\n",
    "    def dfs(node):\n",
    "        if not node:\n",
    "            return ans\n",
    "        diff = abs(node.val - target)\n",
    "        ans = min(diff, ans)\n",
    "        if node.left:\n",
    "            dfs(node.left)\n",
    "        else:\n",
    "            dfs(node.right)\n",
    "        return node\n",
    "    return dfs(root)"
   ]
  },
  {
   "cell_type": "code",
   "execution_count": null,
   "metadata": {},
   "outputs": [],
   "source": [
    "def closestValue(root, target):\n",
    "    if not root:\n",
    "        return None\n",
    "    def dfs(node, closest, min_diff):\n",
    "        if not node:\n",
    "            return closest\n",
    "        curr_diff = abs(node.val - target) or (curr_diff == min_diff and node.val < closest)\n",
    "        if  curr_diff < min_diff:\n",
    "            min_diff = curr_diff\n",
    "            closest = node.val\n",
    "        if target < node.val and node.left:\n",
    "            return dfs(node.left,closest, min_diff)\n",
    "        elif target > node.val and node.right:\n",
    "            return dfs(node.right,closest, min_diff)\n",
    "        else:\n",
    "            return closest\n",
    "    return dfs(root, root.val, abs(root.val - target))\n"
   ]
  },
  {
   "cell_type": "code",
   "execution_count": 13,
   "metadata": {},
   "outputs": [
    {
     "name": "stdout",
     "output_type": "stream",
     "text": [
      "set()\n"
     ]
    },
    {
     "data": {
      "text/plain": [
       "False"
      ]
     },
     "execution_count": 13,
     "metadata": {},
     "output_type": "execute_result"
    }
   ],
   "source": [
    "from collections import defaultdict\n",
    "def validPath(n, edges, source, destination):\n",
    "    if source == destination:\n",
    "        return True\n",
    "    \n",
    "    graph = defaultdict(list)\n",
    "    for x, y in edges:\n",
    "        graph[x].append(y)\n",
    "        graph[y].append(x)\n",
    "    # return graph\n",
    "    def dfs(node):\n",
    "        for neighbor in graph[node]:\n",
    "            if neighbor not in seen:\n",
    "                seen.add(neighbor)\n",
    "                dfs(neighbor)\n",
    "        return seen\n",
    "\n",
    "    seen = set()\n",
    "    dfs(source)\n",
    "    print(seen)\n",
    "    return destination in seen\n",
    "\n",
    "\n",
    "\n",
    "\n",
    "\n",
    "edges = []\n",
    "validPath(1, edges, 0, 0)"
   ]
  },
  {
   "cell_type": "code",
   "execution_count": 22,
   "metadata": {},
   "outputs": [
    {
     "data": {
      "text/plain": [
       "1"
      ]
     },
     "execution_count": 22,
     "metadata": {},
     "output_type": "execute_result"
    }
   ],
   "source": [
    "def countComponents(n, edges):\n",
    "    if not edges:\n",
    "        return n\n",
    "    g = defaultdict(list)\n",
    "    for x, y in edges:\n",
    "        g[x].append(y)\n",
    "        g[y].append(x)\n",
    "    def dfs(node):\n",
    "        for neighbor in g[node]:\n",
    "            if neighbor not in seen:\n",
    "                seen.add(neighbor)\n",
    "                dfs(neighbor)\n",
    "    seen = set()\n",
    "    ans = 0\n",
    "    for node in range(n):\n",
    "        if node not in seen:\n",
    "            ans += 1\n",
    "            dfs(node)\n",
    "    return ans\n",
    "edges = [[0,1],[0,2],[2,3],[2,4]]\n",
    "countComponents(5, edges)\n",
    "\n",
    "    "
   ]
  },
  {
   "cell_type": "code",
   "execution_count": 33,
   "metadata": {},
   "outputs": [
    {
     "data": {
      "text/plain": [
       "(6, 6)"
      ]
     },
     "execution_count": 33,
     "metadata": {},
     "output_type": "execute_result"
    }
   ],
   "source": [
    "def maxAreaOfIsland(grid):\n",
    "    def valid(row, col):\n",
    "        return 0 <= row < len(grid) and 0 <= col < len(grid[0]) and grid[row][col] == 1\n",
    "    def dfs(row, col):\n",
    "        if not valid(row, col) or (row, col) in seen:\n",
    "            return 0\n",
    "        seen.add((row, col))\n",
    "        area = 1\n",
    "        for dx, dy in directions:\n",
    "            next_row, next_col = row + dy, col + dx\n",
    "            if valid(next_row, next_col) and (next_row, next_col) not in seen:\n",
    "                area += dfs(next_row, next_col)\n",
    "        return area\n",
    "    \n",
    "    directions = [(0,1), (1,0), (0,-1), (-1,0)]\n",
    "    seen = set()\n",
    "    max_area = 0\n",
    "    num_iland = 0\n",
    "    for row in range(len(grid)):\n",
    "        for col in range(len(grid[0])):\n",
    "            if grid[row][col] == 1 and (row, col) not in seen:\n",
    "                num_iland += 1\n",
    "                island_area = dfs(row, col)\n",
    "                max_area = max(max_area, island_area)\n",
    "    return max_area, num_iland\n",
    "grid = [[0,0,1,0,0,0,0,1,0,0,0,0,0],[0,0,0,0,0,0,0,1,1,1,0,0,0],[0,1,1,0,1,0,0,0,0,0,0,0,0],[0,1,0,0,1,1,0,0,1,0,1,0,0],[0,1,0,0,1,1,0,0,1,1,1,0,0],[0,0,0,0,0,0,0,0,0,0,1,0,0],[0,0,0,0,0,0,0,1,1,1,0,0,0],[0,0,0,0,0,0,0,1,1,0,0,0,0]]\n",
    "maxAreaOfIsland(grid)"
   ]
  },
  {
   "cell_type": "code",
   "execution_count": null,
   "metadata": {},
   "outputs": [],
   "source": [
    "from collections import deque\n",
    "def numIslands(grid):\n",
    "    def valid(row, col):\n",
    "        return 0 <= row < m and 0 <= col < n and grid[row][col] == \"1\"\n",
    "    \n",
    "    def dfs(row, col):\n",
    "        for dx, dy in directions:\n",
    "            next_row, next_col = row + dy, col + dx\n",
    "            if valid(next_row, next_col) and (next_row, next_col) not in seen:\n",
    "                seen.add((next_row, next_col))\n",
    "                dfs(next_row, next_col)\n",
    "    \n",
    "    directions = [(0, 1), (1, 0), (0, -1), (-1, 0)]\n",
    "    seen = set()\n",
    "    ans = 0\n",
    "    m = len(grid)\n",
    "    n = len(grid[0])\n",
    "    for row in range(m):\n",
    "        for col in range(n):\n",
    "            if grid[row][col] == \"1\" and (row, col) not in seen:\n",
    "                ans += 1\n",
    "                seen.add((row, col))\n",
    "                dfs(row, col)\n",
    "    \n",
    "    return ans\n"
   ]
  },
  {
   "cell_type": "code",
   "execution_count": 47,
   "metadata": {},
   "outputs": [
    {
     "data": {
      "text/plain": [
       "1"
      ]
     },
     "execution_count": 47,
     "metadata": {},
     "output_type": "execute_result"
    }
   ],
   "source": [
    "def reachableNodes(n, edges, restricted):\n",
    "    if not edges:\n",
    "        return 1\n",
    "    g = defaultdict(list)\n",
    "    for x,y in edges:\n",
    "        g[x].append(y)\n",
    "        g[y].append(x)\n",
    "    def dfs(node):\n",
    "        seen.add(node)\n",
    "        for neigbour in g[node]:\n",
    "            if neigbour not in seen and neigbour not in restricted:\n",
    "                dfs(neigbour)\n",
    "    seen = set()\n",
    "    dfs(0)\n",
    "    return len(seen)\n",
    "\n",
    "edges = [[0,1]]\n",
    "restricted = [1]\n",
    "reachableNodes(7, edges, restricted)"
   ]
  },
  {
   "cell_type": "code",
   "execution_count": 21,
   "metadata": {},
   "outputs": [
    {
     "name": "stdout",
     "output_type": "stream",
     "text": [
      "[(1, 0), (1, 2)]\n"
     ]
    },
    {
     "data": {
      "text/plain": [
       "2"
      ]
     },
     "execution_count": 21,
     "metadata": {},
     "output_type": "execute_result"
    }
   ],
   "source": [
    "from collections import deque\n",
    "def nearestExit(maze, entrance):\n",
    "    m = len(maze)\n",
    "    n = len(maze[0])\n",
    "    maze = [[1 if item == \"+\" else 0 for item in row] for row in maze]\n",
    "    def valid(row, col):\n",
    "        return 0 <= row < m and 0 <= col < n and maze[row][col] == 0\n",
    "    \n",
    "    exits = []\n",
    "    for i in range(m):\n",
    "        for j in range(n):\n",
    "            if (i==0 or i == m-1 or j==0 or j == n-1) and maze[i][j] == 0:\n",
    "                exits.append((i, j))\n",
    "    print(exits)\n",
    "    \n",
    "    seen = {(entrance[0], entrance[1])}\n",
    "    entrance = tuple(entrance)\n",
    "    q = deque([(entrance[0], entrance[1], 0)])\n",
    "    directions = [(0,1),(0,-1), (1,0), (-1,0)]\n",
    "    while q:\n",
    "        row, col, steps = q.popleft()\n",
    "        if (row, col) in exits and (row, col) != entrance:\n",
    "            return steps\n",
    "        \n",
    "        for dx, dy in directions:\n",
    "            next_row, next_col = row + dx, col + dy \n",
    "            if valid(next_row, next_col) and (next_row, next_col) not in seen:\n",
    "                seen.add((next_row, next_col))\n",
    "                q.append((next_row, next_col, steps + 1))\n",
    "    return -1\n",
    "    \n",
    "    \n",
    "maze = [[\"+\",\"+\",\"+\"],[\".\",\".\",\".\"],[\"+\",\"+\",\"+\"]]\n",
    "entrance = [1,0]\n",
    "\n",
    "nearestExit(maze, entrance)"
   ]
  },
  {
   "cell_type": "code",
   "execution_count": null,
   "metadata": {},
   "outputs": [],
   "source": [
    "from collections import deque\n",
    "\n",
    "class Solution:\n",
    "    def shortestPathBinaryMatrix(self, grid: List[List[int]]) -> int:\n",
    "        if grid[0][0] == 1:\n",
    "            return -1\n",
    "        \n",
    "        def valid(row, col):\n",
    "            return 0 <= row < n and 0 <= col < n and grid[row][col] == 0\n",
    "        \n",
    "        n = len(grid)\n",
    "        seen = {(0, 0)}\n",
    "        queue = deque([(0, 0, 1)]) # row, col, steps\n",
    "        directions = [(0, 1), (1, 0), (1, 1), (-1, -1), (-1, 1), (1, -1), (0, -1), (-1, 0)]\n",
    "        \n",
    "        while queue:\n",
    "            row, col, steps = queue.popleft()\n",
    "            if (row, col) == (n - 1, n - 1):\n",
    "                return steps\n",
    "            \n",
    "            for dx, dy in directions:\n",
    "                next_row, next_col = row + dy, col + dx\n",
    "                if valid(next_row, next_col) and (next_row, next_col) not in seen:\n",
    "                    seen.add((next_row, next_col))\n",
    "                    queue.append((next_row, next_col, steps + 1))\n",
    "        \n",
    "        return -1\n"
   ]
  },
  {
   "cell_type": "code",
   "execution_count": null,
   "metadata": {},
   "outputs": [],
   "source": [
    "def pathSum(self, root, targetSum):\n",
    "    ans = []\n",
    "    def dfs(node, curr):\n",
    "        if not node:\n",
    "            return \n",
    "        curr.append(node.val)\n",
    "        if sum(curr) == target:\n",
    "            ans.append(curr)\n",
    "        else:\n",
    "            dfs(node.left, curr)\n",
    "            dfs(node.right, curr)\n",
    "        dfs(root, [])\n",
    "        return ans\n",
    "        "
   ]
  },
  {
   "cell_type": "code",
   "execution_count": null,
   "metadata": {},
   "outputs": [],
   "source": [
    "\n",
    "        def pathSum(self, root, targetSum):\n",
    "        ans = []\n",
    "        def dfs(node, curr):\n",
    "            if not node:\n",
    "                return \n",
    "            curr.append(node.val)\n",
    "            if not node.left and not node.right and sum(curr) == targetSum:\n",
    "                ans.append(list(curr))\n",
    "            else:\n",
    "                dfs(node.left, curr)\n",
    "                dfs(node.right, curr)\n",
    "            curr.pop()\n",
    "        dfs(root, [])\n",
    "        return ans"
   ]
  },
  {
   "cell_type": "code",
   "execution_count": null,
   "metadata": {},
   "outputs": [],
   "source": [
    "from collections import defaultdict\n",
    "import heapq\n",
    "\n",
    "def findCheapestPrice(n, flights, src, dst, k):\n",
    "    graph = defaultdict(list)\n",
    "    for start, end, cost in flights:\n",
    "        graph[start].append([end, cost])\n",
    "    \n",
    "    heap = [(0, src, 0)] # (cost, current node, stops)\n",
    "\n",
    "    while heap:\n",
    "        cost,curr_node, stopts = heapq.heappop(heap)\n",
    "        if node == dst:\n",
    "            return cost\n",
    "        if steops <=k:\n",
    "            for next_node, weight in graph[curr_node]:\n",
    "                heapq.heappush(heap, (cost+weight,next_node, stops+1))\n",
    "    return  -1"
   ]
  },
  {
   "cell_type": "code",
   "execution_count": 9,
   "metadata": {},
   "outputs": [],
   "source": [
    "    from collections import defaultdict\n",
    "    def intersect(nums1, nums2):\n",
    "        d1 = defaultdict(int)\n",
    "        d2 = defaultdict(int)\n",
    "        for num in nums1:\n",
    "            d1[num] += 1\n",
    "        for num in nums2:\n",
    "            d2[num] += 1\n",
    "        ans = []\n",
    "        for k1, v1 in d1.items():\n",
    "            for k2, v2 in d2.items():\n",
    "                if k1 == k2:\n",
    "                    ans.append([k1] * min(v1 , v2))\n",
    "        return ans"
   ]
  },
  {
   "cell_type": "code",
   "execution_count": 6,
   "metadata": {},
   "outputs": [
    {
     "data": {
      "text/plain": [
       "['AAAAACCCCC', 'CCCCCAAAAA']"
      ]
     },
     "execution_count": 6,
     "metadata": {},
     "output_type": "execute_result"
    }
   ],
   "source": [
    "def findRepeatedDnaSequences(s):\n",
    "    l = 0 \n",
    "    curr = []\n",
    "    seen = set()\n",
    "    ans = []\n",
    "    for r in range(9, len(s)):\n",
    "        curr = s[l:r+1]\n",
    "        if curr in seen and curr not in ans:\n",
    "            ans.append(curr)\n",
    "        else:\n",
    "            seen.add(curr)\n",
    "        \n",
    "        l += 1\n",
    "    return ans\n",
    "s = \"AAAAACCCCCAAAAACCCCCCAAAAAGGGTTT\"\n",
    "findRepeatedDnaSequences(s)"
   ]
  },
  {
   "cell_type": "code",
   "execution_count": 13,
   "metadata": {},
   "outputs": [
    {
     "data": {
      "text/plain": [
       "5"
      ]
     },
     "execution_count": 13,
     "metadata": {},
     "output_type": "execute_result"
    }
   ],
   "source": [
    "from collections import defaultdict\n",
    "def longestSubstring(s, k):\n",
    "    if len(s) < k:\n",
    "        return 0\n",
    "\n",
    "    f = defaultdict(int)\n",
    "    for ch in s:\n",
    "        f[ch] += 1\n",
    "\n",
    "    for i in range(len(s)):\n",
    "        ch = s[i]\n",
    "        if f[ch] < k:\n",
    "            # Partition the string at the current character and check each part recursively.\n",
    "            return max(longestSubstring(part, k) for part in s.split(ch))\n",
    "\n",
    "    # If the loop completes without returning, all characters meet the frequency requirement.\n",
    "    return len(s)\n",
    "\n",
    "\n",
    "s = \"ababbc\"\n",
    "longestSubstring(s, 2)"
   ]
  },
  {
   "cell_type": "code",
   "execution_count": null,
   "metadata": {},
   "outputs": [],
   "source": [
    "from collections import defaultdict\n",
    "\n",
    "def longestSubstring(s, k):\n",
    "    if len(s) < k:\n",
    "        return 0\n",
    "    \n",
    "    # Frequency count for each character in s.\n",
    "    f = defaultdict(int)\n",
    "    for ch in s:\n",
    "        f[ch] += 1\n",
    "    \n",
    "    l = ans = 0\n",
    "    valid_start = None  # Start of a potentially valid substring.\n",
    "    \n",
    "    for r in range(len(s)):\n",
    "        if f[s[r]] >= k:\n",
    "            if valid_start is None:\n",
    "                valid_start = r  # Mark the start of a potential valid segment.\n",
    "        else:\n",
    "            if valid_start is not None:\n",
    "                # Check the segment from valid_start to r - this might be a valid substring.\n",
    "                ans = max(ans, r - valid_start)\n",
    "                valid_start = None  # Reset valid_start since this character breaks the condition.\n",
    "    \n",
    "    # Check for a trailing valid segment if it exists.\n",
    "    if valid_start is not None:\n",
    "        ans = max(ans, len(s) - valid_start)\n",
    "    \n",
    "    return ans\n",
    "\n",
    "# Adjust the function call as necessary depending on how you intend to use it.\n",
    "s = \"aaabb\"\n",
    "k = 3\n",
    "print(longestSubstring(s, k))  # Adjusted expected output depends on valid interpretation.\n"
   ]
  },
  {
   "cell_type": "code",
   "execution_count": null,
   "metadata": {},
   "outputs": [],
   "source": [
    "def fn(arr):\n",
    "    left = ans = curr = 0\n",
    "\n",
    "    for right in range(len(arr)):\n",
    "        # do logic here to add arr[right] to curr\n",
    "        \n",
    "\n",
    "        while WINDOW_CONDITION_BROKEN:\n",
    "            # remove arr[left] from curr\n",
    "            left += 1\n",
    "\n",
    "        # update ans\n",
    "    \n",
    "    return ans"
   ]
  },
  {
   "cell_type": "code",
   "execution_count": 20,
   "metadata": {},
   "outputs": [
    {
     "data": {
      "text/plain": [
       "[5, 6, 7, 1, 2, 3, 4]"
      ]
     },
     "execution_count": 20,
     "metadata": {},
     "output_type": "execute_result"
    }
   ],
   "source": [
    "def rotate(nums, k):\n",
    "    nums_rev = nums[::-1]\n",
    "    first = nums_rev[:k]\n",
    "    second = nums_rev[k:]\n",
    "    nums = first[::-1] + second[::-1]\n",
    "    return nums\n",
    "nums = [1,2,3,4,5,6,7]\n",
    "rotate(nums, 3)"
   ]
  },
  {
   "cell_type": "code",
   "execution_count": 30,
   "metadata": {},
   "outputs": [
    {
     "data": {
      "text/plain": [
       "14"
      ]
     },
     "execution_count": 30,
     "metadata": {},
     "output_type": "execute_result"
    }
   ],
   "source": [
    "def maxProfit(prices):\n",
    "    max_profit = 0\n",
    "    min_price = prices[0]\n",
    "\n",
    "    for i in range(len(prices)):\n",
    "        if prices[i] <= min_price:\n",
    "            min_price = prices[i]\n",
    "        else:\n",
    "            max_profit += prices[i] - min_price\n",
    "    return max_profit\n",
    "prices = [7,1,5,3,6,4]\n",
    "maxProfit(prices)\n"
   ]
  },
  {
   "cell_type": "code",
   "execution_count": 31,
   "metadata": {},
   "outputs": [
    {
     "name": "stdout",
     "output_type": "stream",
     "text": [
      "7\n"
     ]
    }
   ],
   "source": [
    "def maxProfit(prices):\n",
    "    max_profit = 0\n",
    "\n",
    "    for i in range(1, len(prices)):\n",
    "        # If today's price is higher than yesterday's, we buy yesterday and sell today\n",
    "        if prices[i] > prices[i - 1]:\n",
    "            max_profit += prices[i] - prices[i - 1]\n",
    "\n",
    "    return max_profit\n",
    "\n",
    "prices = [7, 1, 5, 3, 6, 4]\n",
    "print(maxProfit(prices))  # Expected output: 7\n"
   ]
  },
  {
   "cell_type": "code",
   "execution_count": 33,
   "metadata": {},
   "outputs": [
    {
     "data": {
      "text/plain": [
       "4"
      ]
     },
     "execution_count": 33,
     "metadata": {},
     "output_type": "execute_result"
    }
   ],
   "source": [
    "def lengthOfLastWord(s):\n",
    "    # Strip trailing spaces and split the string into words\n",
    "    words = s.strip().split()\n",
    "    # Return the length of the last word, if it exists\n",
    "    return len(words[-1]) if words else 0\n",
    "s =\"   fly me   to   the moon  \"\n",
    "lengthOfLastWord(s)"
   ]
  },
  {
   "cell_type": "code",
   "execution_count": 56,
   "metadata": {},
   "outputs": [
    {
     "data": {
      "text/plain": [
       "[1, 2, 2, 3, 5, 0]"
      ]
     },
     "execution_count": 56,
     "metadata": {},
     "output_type": "execute_result"
    }
   ],
   "source": [
    "def merge(nums1, m, nums2, n):\n",
    "    i = m-1\n",
    "    j = n-1\n",
    "\n",
    "    k = m+n-1\n",
    "    \n",
    "\n",
    "    while i >= 0 and j >= 0:\n",
    "        if nums1[i] > nums2[j]:\n",
    "            nums1[k] = nums1[i]\n",
    "            i -= 1\n",
    "        else:\n",
    "            nums1[k] = nums2[j]\n",
    "            j -= 1\n",
    "        k -= 1\n",
    "  \n",
    "    while j >= 0:\n",
    "        nums1[k] = nums2[j]\n",
    "        j -= 1\n",
    "        k -= 1\n",
    "        \n",
    "    return nums1\n",
    "nums1 = [1,2,3,0,0,0]\n",
    "nums2 = [2,5,6]\n",
    "merge(nums1, 3, nums2, 2)\n"
   ]
  },
  {
   "cell_type": "code",
   "execution_count": null,
   "metadata": {},
   "outputs": [],
   "source": [
    "def fn(arr1, arr2):\n",
    "    i = j = ans = 0\n",
    "\n",
    "    while i < len(arr1) and j < len(arr2):\n",
    "        # do some logic here\n",
    "        if CONDITION:\n",
    "            i += 1\n",
    "        else:\n",
    "            j += 1\n",
    "    \n",
    "    while i < len(arr1):\n",
    "        # do logic\n",
    "        i += 1\n",
    "    \n",
    "    while j < len(arr2):\n",
    "        # do logic\n",
    "        j += 1\n",
    "    \n",
    "    return ans"
   ]
  },
  {
   "cell_type": "code",
   "execution_count": 69,
   "metadata": {},
   "outputs": [
    {
     "data": {
      "text/plain": [
       "True"
      ]
     },
     "execution_count": 69,
     "metadata": {},
     "output_type": "execute_result"
    }
   ],
   "source": [
    "from collections import defaultdict\n",
    "def wordPattern(pattern, s):\n",
    "    s = s.split()\n",
    "    if len(pattern) != len(s):\n",
    "        return False\n",
    "    d1 = defaultdict(list)\n",
    "    for i in range(len(pattern)):\n",
    "        d1[pattern[i]].append(i)\n",
    "\n",
    "    d2 = defaultdict(list)\n",
    "    for i in range(len(s)):\n",
    "        d2[s[i]].append(i)\n",
    "    for val in d1.values():\n",
    "        if val not in d2.values():\n",
    "            return False\n",
    "    return True\n",
    "\n",
    "pattern = \"abba\"\n",
    "s = \"dog cat cat dog\"\n",
    "wordPattern(pattern, s)"
   ]
  },
  {
   "cell_type": "code",
   "execution_count": 75,
   "metadata": {},
   "outputs": [
    {
     "data": {
      "text/plain": [
       "[0, 1]"
      ]
     },
     "execution_count": 75,
     "metadata": {},
     "output_type": "execute_result"
    }
   ],
   "source": [
    "# def twoSum(nums, target):\n",
    "#     d = {}\n",
    "#     ans = []\n",
    "#     for i in range(len(nums)):\n",
    "#         d[nums[i]] = target - nums[i]\n",
    "#     for i in range(len(nums)):\n",
    "#         if d[nums[i]] in nums:\n",
    "#             ans.append(i)\n",
    "#     return ans \n",
    "# nums = [2,7,11,15]\n",
    "# twoSum(nums, 9)"
   ]
  },
  {
   "cell_type": "code",
   "execution_count": 91,
   "metadata": {},
   "outputs": [
    {
     "name": "stdout",
     "output_type": "stream",
     "text": [
      "7\n",
      "2\n"
     ]
    },
    {
     "data": {
      "text/plain": [
       "[1, 0]"
      ]
     },
     "execution_count": 91,
     "metadata": {},
     "output_type": "execute_result"
    }
   ],
   "source": [
    "def twoSum(nums, target):\n",
    "    comp = 0\n",
    "    d = {}\n",
    "    ans = []\n",
    "    for i , num in enumerate(nums):\n",
    "        comp = target - num\n",
    "        print(comp)\n",
    "        if comp in d:\n",
    "            return [i, d[comp]]\n",
    "        d[num] = i\n",
    "    return ans\n",
    "\n",
    "\n",
    "    \n",
    "nums = [2,7,11,15]\n",
    "twoSum(nums, 9)"
   ]
  },
  {
   "cell_type": "code",
   "execution_count": 98,
   "metadata": {},
   "outputs": [
    {
     "data": {
      "text/plain": [
       "True"
      ]
     },
     "execution_count": 98,
     "metadata": {},
     "output_type": "execute_result"
    }
   ],
   "source": [
    "def isHappy(n):\n",
    "    seen = set()\n",
    "    while n != 1:\n",
    "        n = sum([int(i)**2 for i in str(n)])\n",
    "\n",
    "        if n in seen:\n",
    "            return False\n",
    "        else:\n",
    "            seen.add(n)\n",
    "    return True\n",
    "\n",
    "isHappy(19)"
   ]
  },
  {
   "cell_type": "code",
   "execution_count": 107,
   "metadata": {},
   "outputs": [
    {
     "name": "stdout",
     "output_type": "stream",
     "text": [
      "defaultdict(<class 'list'>, {1: [0, 2, 3], 0: [1]})\n"
     ]
    },
    {
     "data": {
      "text/plain": [
       "False"
      ]
     },
     "execution_count": 107,
     "metadata": {},
     "output_type": "execute_result"
    }
   ],
   "source": [
    "def containsNearbyDuplicate(nums, k):\n",
    "    d = defaultdict(list)\n",
    "    for i in range(len(nums)):\n",
    "        d[nums[i]].append(i)\n",
    "    print(d)\n",
    "    for v in d.values():\n",
    "        if len(v) > 1:\n",
    "            for i in range(len(v)-1):\n",
    "                if abs(v[i+1] - v[i]) <= k:\n",
    "                    return False\n",
    "    return True\n",
    "nums = [1,0,1,1]\n",
    "containsNearbyDuplicate(nums, 1)"
   ]
  },
  {
   "cell_type": "code",
   "execution_count": 119,
   "metadata": {},
   "outputs": [
    {
     "data": {
      "text/plain": [
       "dict_values([['eat', 'tea', 'ate'], ['tan', 'nat'], ['bat']])"
      ]
     },
     "execution_count": 119,
     "metadata": {},
     "output_type": "execute_result"
    }
   ],
   "source": [
    "def groupAnagrams(strs):\n",
    "    d = defaultdict(list)\n",
    "    for word in strs:\n",
    "        sorted_word = ''.join(sorted(word))\n",
    "        d[sorted_word].append(word)\n",
    "         \n",
    "    return d.values()\n",
    "\n",
    "\n",
    "\n",
    "\n",
    "\n",
    "\n",
    "strs = [\"eat\",\"tea\",\"tan\",\"ate\",\"nat\",\"bat\"]\n",
    "\n",
    "groupAnagrams(strs)"
   ]
  },
  {
   "cell_type": "code",
   "execution_count": 112,
   "metadata": {},
   "outputs": [
    {
     "name": "stdout",
     "output_type": "stream",
     "text": [
      "[['eat', 'tea', 'ate'], ['tan', 'nat'], ['bat']]\n"
     ]
    }
   ],
   "source": [
    "from collections import defaultdict\n",
    "\n",
    "def groupAnagrams(strs):\n",
    "    anagrams = defaultdict(list)\n",
    "    \n",
    "    for word in strs:\n",
    "        # Sort the word to get the anagram key\n",
    "        sorted_word = ''.join(sorted(word))\n",
    "        anagrams[sorted_word].append(word)\n",
    "    \n",
    "    # Return the grouped anagrams as a list of lists\n",
    "    return list(anagrams.values())\n",
    "\n",
    "strs = [\"eat\", \"tea\", \"tan\", \"ate\", \"nat\", \"bat\"]\n",
    "print(groupAnagrams(strs))\n"
   ]
  },
  {
   "cell_type": "code",
   "execution_count": 4,
   "metadata": {},
   "outputs": [
    {
     "name": "stdout",
     "output_type": "stream",
     "text": [
      "[3, -1]\n"
     ]
    },
    {
     "data": {
      "text/plain": [
       "7"
      ]
     },
     "execution_count": 4,
     "metadata": {},
     "output_type": "execute_result"
    }
   ],
   "source": [
    "def longestConsecutive(nums):\n",
    "    nums = set(nums)\n",
    "    if len(nums) == 0:\n",
    "        return 0\n",
    "    #determining starting number\n",
    "    starts = []\n",
    "    for num in nums:\n",
    "        if num-1 not in nums:\n",
    "            starts.append(num)\n",
    "    print(starts)\n",
    "    ans = 0\n",
    "    for s in starts:\n",
    "        l = 1\n",
    "        while s+1 in nums:\n",
    "            l += 1\n",
    "            s += 1\n",
    "        ans = max(ans, l)\n",
    "    return ans\n",
    "nums = [9,1,4,7,3,-1,0,5,8,-1,6]\n",
    "longestConsecutive(nums)"
   ]
  },
  {
   "cell_type": "code",
   "execution_count": null,
   "metadata": {},
   "outputs": [],
   "source": [
    "Input: nums = [0,1,2,2,3,0,4,2], val = 2\n",
    "Output: 5, nums = [0,1,4,0,3,_,_,_]\n",
    "Explanation: Your function should return k = 5, with the first five elements of nums containing 0, 0, 1, 3, and 4.\n",
    "Note that the five elements can be returned in any order.\n",
    "It does not matter what you leave beyond the returned k (hence they are underscores)."
   ]
  },
  {
   "cell_type": "code",
   "execution_count": 32,
   "metadata": {},
   "outputs": [
    {
     "data": {
      "text/plain": [
       "[5, [0, 1, 4, 0, 3, 2, 2, 2]]"
      ]
     },
     "execution_count": 32,
     "metadata": {},
     "output_type": "execute_result"
    }
   ],
   "source": [
    "def removeElement(nums, val):\n",
    "    r = len(nums)-1\n",
    "    l= 0\n",
    "    k = 0\n",
    "    while l <= r:\n",
    "        if nums[l] == val:\n",
    "            nums[l], nums[r] = nums[r], nums[l]\n",
    "            r -= 1\n",
    "        else:\n",
    "            k += 1\n",
    "            l += 1\n",
    "        \n",
    "    return k, nums\n",
    "\n",
    "nums = [0,1,2,2,3,0,4,2]\n",
    "removeElement(nums, 2)\n"
   ]
  },
  {
   "cell_type": "code",
   "execution_count": 37,
   "metadata": {},
   "outputs": [
    {
     "name": "stdout",
     "output_type": "stream",
     "text": [
      "[0, 1, 2, 3, 4, 2, 2, 3, 3, 4]\n"
     ]
    },
    {
     "data": {
      "text/plain": [
       "5"
      ]
     },
     "execution_count": 37,
     "metadata": {},
     "output_type": "execute_result"
    }
   ],
   "source": [
    "def removeDuplicates(nums):\n",
    "    index = 1\n",
    "    \n",
    "    for i in range(1,len(nums)):\n",
    "        if nums[i] != nums[i-1]:\n",
    "            nums[index] = nums[i]\n",
    "            index += 1\n",
    "    print(nums)\n",
    "    return index\n",
    "nums =[0,0,1,1,1,2,2,3,3,4]\n",
    "removeDuplicates(nums)\n"
   ]
  },
  {
   "cell_type": "code",
   "execution_count": 9,
   "metadata": {},
   "outputs": [
    {
     "name": "stdout",
     "output_type": "stream",
     "text": [
      "[0, 0, 1, 1, 2, 3, 3, 3, 3]\n"
     ]
    },
    {
     "data": {
      "text/plain": [
       "7"
      ]
     },
     "execution_count": 9,
     "metadata": {},
     "output_type": "execute_result"
    }
   ],
   "source": [
    "from collections import defaultdict\n",
    "def removeDuplicates2(nums):\n",
    "    index = 1\n",
    "    count = 1\n",
    "    freq = defaultdict(int)\n",
    "    for i in range(1,len(nums)):\n",
    "        if nums[i] == nums[i-1]:\n",
    "            count += 1\n",
    "            if count <= 2:\n",
    "                nums[index] = nums[i]\n",
    "                index += 1\n",
    "        else:\n",
    "            count = 1\n",
    "            nums[index] = nums[i]\n",
    "            index += 1\n",
    "    print(nums)\n",
    "    return index\n",
    "nums =[0,0,1,1,1,1,2,3,3]\n",
    "removeDuplicates2(nums)\n"
   ]
  },
  {
   "cell_type": "code",
   "execution_count": null,
   "metadata": {},
   "outputs": [],
   "source": [
    "def jump(nums)"
   ]
  },
  {
   "cell_type": "code",
   "execution_count": 26,
   "metadata": {},
   "outputs": [
    {
     "ename": "UnboundLocalError",
     "evalue": "local variable 'farthest' referenced before assignment",
     "output_type": "error",
     "traceback": [
      "\u001b[1;31m---------------------------------------------------------------------------\u001b[0m",
      "\u001b[1;31mUnboundLocalError\u001b[0m                         Traceback (most recent call last)",
      "Cell \u001b[1;32mIn [26], line 15\u001b[0m\n\u001b[0;32m     12\u001b[0m     \u001b[38;5;28;01mreturn\u001b[39;00m res\n\u001b[0;32m     14\u001b[0m nums \u001b[38;5;241m=\u001b[39m [\u001b[38;5;241m2\u001b[39m,\u001b[38;5;241m3\u001b[39m,\u001b[38;5;241m1\u001b[39m,\u001b[38;5;241m1\u001b[39m,\u001b[38;5;241m4\u001b[39m]\n\u001b[1;32m---> 15\u001b[0m \u001b[43mcanJump\u001b[49m\u001b[43m(\u001b[49m\u001b[43mnums\u001b[49m\u001b[43m)\u001b[49m\n",
      "Cell \u001b[1;32mIn [26], line 5\u001b[0m, in \u001b[0;36mcanJump\u001b[1;34m(nums)\u001b[0m\n\u001b[0;32m      3\u001b[0m l \u001b[38;5;241m=\u001b[39m r \u001b[38;5;241m=\u001b[39m \u001b[38;5;241m0\u001b[39m\n\u001b[0;32m      4\u001b[0m \u001b[38;5;28;01mwhile\u001b[39;00m r \u001b[38;5;241m<\u001b[39m \u001b[38;5;28mlen\u001b[39m(nums) \u001b[38;5;241m-\u001b[39m \u001b[38;5;241m1\u001b[39m:\n\u001b[1;32m----> 5\u001b[0m     \u001b[43mfarthest\u001b[49m\n\u001b[0;32m      6\u001b[0m     \u001b[38;5;28;01mfor\u001b[39;00m i \u001b[38;5;129;01min\u001b[39;00m \u001b[38;5;28mrange\u001b[39m(l, r \u001b[38;5;241m+\u001b[39m \u001b[38;5;241m1\u001b[39m):\n\u001b[0;32m      7\u001b[0m         farthest \u001b[38;5;241m=\u001b[39m \u001b[38;5;28mmax\u001b[39m(farthest, i \u001b[38;5;241m+\u001b[39m nums[i])\n",
      "\u001b[1;31mUnboundLocalError\u001b[0m: local variable 'farthest' referenced before assignment"
     ]
    }
   ],
   "source": [
    "def canJump(nums):\n",
    "    res = 0\n",
    "    l = r = 0\n",
    "    while r < len(nums) - 1:\n",
    "        farthest\n",
    "        for i in range(l, r + 1):\n",
    "            farthest = max(farthest, i + nums[i])\n",
    "        \n",
    "        l = r + 1\n",
    "        r = farthest\n",
    "        res += 1\n",
    "    return res\n",
    "\n",
    "nums = [2,3,1,1,4]\n",
    "canJump(nums)\n"
   ]
  },
  {
   "cell_type": "code",
   "execution_count": 31,
   "metadata": {},
   "outputs": [
    {
     "data": {
      "text/plain": [
       "defaultdict(int, {0: 6, 1: 5, 2: 3, 3: 1, 4: 0})"
      ]
     },
     "execution_count": 31,
     "metadata": {},
     "output_type": "execute_result"
    }
   ],
   "source": [
    "def hIndex(citations):\n",
    "    d = defaultdict(int)\n",
    "    citations = sorted(citations, reverse=True)\n",
    "    \n",
    "    for i in range(len(citations)):\n",
    "        d[i] = citations[i]\n",
    "    for i in range(len(citations)):\n",
    "        count = 0\n",
    "        for k in d\n",
    "        \n",
    "    return d\n",
    "citations = [3,0,6,1,5]\n",
    "hIndex(citations)"
   ]
  },
  {
   "cell_type": "code",
   "execution_count": 38,
   "metadata": {},
   "outputs": [
    {
     "data": {
      "text/plain": [
       "3"
      ]
     },
     "execution_count": 38,
     "metadata": {},
     "output_type": "execute_result"
    }
   ],
   "source": [
    "def hIndex(citations):\n",
    "    citations = sorted(citations, reverse=True)\n",
    "    h = 0\n",
    "    \n",
    "    for i in range(len(citations)):\n",
    "        if  i+1 <= citations[i]:\n",
    "            h = i+1\n",
    "    return h\n",
    "\n",
    "citations = [3,0,6,1,5]\n",
    "hIndex(citations)"
   ]
  },
  {
   "cell_type": "code",
   "execution_count": 79,
   "metadata": {},
   "outputs": [
    {
     "data": {
      "text/plain": [
       "[0, 0, 9, 0, 0]"
      ]
     },
     "execution_count": 79,
     "metadata": {},
     "output_type": "execute_result"
    }
   ],
   "source": [
    "def exceptme(nums):\n",
    "    ans = [1] * len(nums)\n",
    "    \n",
    "    prefix = 1\n",
    "    for i in range(len(nums)):\n",
    "        ans[i] = prefix\n",
    "        prefix *= nums[i]\n",
    "    postfix = 1\n",
    "    for i in range(len(nums)-1, -1, -1):\n",
    "        ans[i] *= postfix\n",
    "        postfix *= nums[i]\n",
    "    \n",
    "    return ans\n",
    "nums = [-1,1,0,-3,3]\n",
    "exceptme(nums)\n",
    "\n"
   ]
  },
  {
   "cell_type": "code",
   "execution_count": 51,
   "metadata": {},
   "outputs": [
    {
     "ename": "ZeroDivisionError",
     "evalue": "integer division or modulo by zero",
     "output_type": "error",
     "traceback": [
      "\u001b[1;31m---------------------------------------------------------------------------\u001b[0m",
      "\u001b[1;31mZeroDivisionError\u001b[0m                         Traceback (most recent call last)",
      "Cell \u001b[1;32mIn [51], line 16\u001b[0m\n\u001b[0;32m     14\u001b[0m     \u001b[38;5;28;01mreturn\u001b[39;00m ans           \n\u001b[0;32m     15\u001b[0m nums \u001b[38;5;241m=\u001b[39m [\u001b[38;5;241m-\u001b[39m\u001b[38;5;241m1\u001b[39m,\u001b[38;5;241m1\u001b[39m,\u001b[38;5;241m0\u001b[39m,\u001b[38;5;241m-\u001b[39m\u001b[38;5;241m3\u001b[39m,\u001b[38;5;241m3\u001b[39m]\n\u001b[1;32m---> 16\u001b[0m \u001b[43mexceptme\u001b[49m\u001b[43m(\u001b[49m\u001b[43mnums\u001b[49m\u001b[43m)\u001b[49m\n",
      "Cell \u001b[1;32mIn [51], line 12\u001b[0m, in \u001b[0;36mexceptme\u001b[1;34m(nums)\u001b[0m\n\u001b[0;32m      7\u001b[0m ans \u001b[38;5;241m=\u001b[39m []\n\u001b[0;32m      8\u001b[0m \u001b[38;5;28;01mfor\u001b[39;00m num \u001b[38;5;129;01min\u001b[39;00m nums:\n\u001b[0;32m      9\u001b[0m     \u001b[38;5;66;03m# Append the total product divided by the current number\u001b[39;00m\n\u001b[0;32m     10\u001b[0m     \u001b[38;5;66;03m# This effectively excludes the current number from the product\u001b[39;00m\n\u001b[0;32m     11\u001b[0m     \u001b[38;5;66;03m# Note: This assumes all numbers are non-zero. If there are zeros, additional handling is needed.\u001b[39;00m\n\u001b[1;32m---> 12\u001b[0m     ans\u001b[38;5;241m.\u001b[39mappend(\u001b[43mtotal_product\u001b[49m\u001b[43m \u001b[49m\u001b[38;5;241;43m/\u001b[39;49m\u001b[38;5;241;43m/\u001b[39;49m\u001b[43m \u001b[49m\u001b[43mnum\u001b[49m)\n\u001b[0;32m     14\u001b[0m \u001b[38;5;28;01mreturn\u001b[39;00m ans\n",
      "\u001b[1;31mZeroDivisionError\u001b[0m: integer division or modulo by zero"
     ]
    }
   ],
   "source": [
    "def exceptme(nums):\n",
    "    ans = []\n",
    "    for i in range(len(nums)):\n",
    "        poped = del nums[i)        curr = 1\n",
    "        for j in range(poped):\n",
    "            curr *= poped[j]\n",
    "        ans.append(curr)\n",
    "    return ans            \n",
    "nums = [-1,1,0,-3,3]\n",
    "exceptme(nums)\n"
   ]
  }
 ],
 "metadata": {
  "kernelspec": {
   "display_name": "Python 3",
   "language": "python",
   "name": "python3"
  },
  "language_info": {
   "codemirror_mode": {
    "name": "ipython",
    "version": 3
   },
   "file_extension": ".py",
   "mimetype": "text/x-python",
   "name": "python",
   "nbconvert_exporter": "python",
   "pygments_lexer": "ipython3",
   "version": "3.10.3"
  }
 },
 "nbformat": 4,
 "nbformat_minor": 2
}
