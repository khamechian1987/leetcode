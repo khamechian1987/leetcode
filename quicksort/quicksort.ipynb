{
 "cells": [
  {
   "cell_type": "code",
   "execution_count": 9,
   "metadata": {},
   "outputs": [],
   "source": [
    "def partition(elements):\n",
    "    pivot_index = 0\n",
    "    pivot = elements[pivot_index]\n",
    "\n",
    "    start = pivot_index + 1\n",
    "    end = len(elements) - 1\n",
    "    \n",
    "    while start < end:\n",
    "        while elements[start] <= pivot: #finding the postion of first item on right side of pivot\n",
    "                                        #that is greater than pivot\n",
    "            start += 1\n",
    "       \n",
    "        while elements[end] > pivot: #finding the postion of first item on left side of pivot\n",
    "                                    #that is less than pivot\n",
    "            end -= 1\n",
    "        \n",
    "        if start < end:\n",
    "            #found the end and start. time to sawp\n",
    "            elements[start] , elements[end] = elements[end], elements[start]\n",
    "        \n",
    "    #swapt the end with pivot \n",
    "    temp = elements[end]\n",
    "    pivot = elements[end]\n",
    "    elements[end] = temp\n",
    "\n",
    "\n",
    "\n",
    "\n",
    "def quick_sort(elements):\n",
    "    partition(elements)"
   ]
  },
  {
   "cell_type": "code",
   "execution_count": 8,
   "metadata": {},
   "outputs": [
    {
     "name": "stdout",
     "output_type": "stream",
     "text": [
      "[11, 9, 2, 7, 29, 15, 28]\n"
     ]
    }
   ],
   "source": [
    "elements = [11,9,29,7,2,15,28]\n",
    "quick_sort(elements)\n",
    "print(elements)"
   ]
  }
 ],
 "metadata": {
  "kernelspec": {
   "display_name": "Python 3",
   "language": "python",
   "name": "python3"
  },
  "language_info": {
   "codemirror_mode": {
    "name": "ipython",
    "version": 3
   },
   "file_extension": ".py",
   "mimetype": "text/x-python",
   "name": "python",
   "nbconvert_exporter": "python",
   "pygments_lexer": "ipython3",
   "version": "3.11.4"
  }
 },
 "nbformat": 4,
 "nbformat_minor": 2
}
