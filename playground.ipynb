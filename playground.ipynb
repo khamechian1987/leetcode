{
 "cells": [
  {
   "cell_type": "code",
   "execution_count": 14,
   "metadata": {},
   "outputs": [],
   "source": [
    "def lengthOfLongestSubstring(s):\n",
    "    \"\"\"\n",
    "    :type s: str\n",
    "    :rtype: int\n",
    "    \"\"\"\n",
    "    seen = []\n",
    "    max_length = 0\n",
    "    for char in s:\n",
    "        while char in seen:\n",
    "            seen.pop(0)\n",
    "        seen.append(char)\n",
    "        max_length = max(max_length, len(seen))\n",
    "    return max_length"
   ]
  },
  {
   "cell_type": "code",
   "execution_count": 16,
   "metadata": {},
   "outputs": [],
   "source": [
    "s = \"pwwkew\"\n",
    "print(lengthOfLongestSubstring(s))"
   ]
  },
  {
   "cell_type": "code",
   "execution_count": 38,
   "metadata": {},
   "outputs": [],
   "source": [
    "def threeSum(nums):\n",
    "    nums.sort()\n",
    "    distinct_triplets = []\n",
    "    for i in range(len(nums) - 2):\n",
    "        if i > 0 and nums[i] == nums[i-1]: # to not have duplicate in triplets\n",
    "            continue\n",
    "\n",
    "        l = i +1\n",
    "        r = len(nums) - 1\n",
    "        while l < r:\n",
    "            total = nums[i] + nums[l] + nums[r]\n",
    "            if total < 0:\n",
    "                l += 1\n",
    "            elif total > 0:\n",
    "                r -= 1\n",
    "            else:\n",
    "                distinct_triplets.append([nums[i], nums[l], nums[r]])\n",
    "                while l < r and nums[l] == nums[l+1]:\n",
    "                    l += 1\n",
    "                while l < r and nums[r] == nums[r-1]:\n",
    "                    r -= 1\n",
    "                l += 1\n",
    "                r -= 1\n",
    "                \n",
    "            \n",
    "    return distinct_triplets"
   ]
  },
  {
   "cell_type": "code",
   "execution_count": 39,
   "metadata": {},
   "outputs": [
    {
     "data": {
      "text/plain": [
       "[[-1, -1, 2], [-1, 0, 1]]"
      ]
     },
     "execution_count": 39,
     "metadata": {},
     "output_type": "execute_result"
    }
   ],
   "source": [
    "nums = [-1,0,1,2,-1]\n",
    "threeSum(nums)\n"
   ]
  },
  {
   "cell_type": "code",
   "execution_count": 37,
   "metadata": {},
   "outputs": [],
   "source": [
    "def revers_word(s):\n",
    "    s = s.split()\n",
    "    ans = []\n",
    "\n",
    "    for word in s:\n",
    "        left = 0\n",
    "        right = len(word) - 1\n",
    "        word = list(word)\n",
    "        while left<right:\n",
    "            temp = word[right]\n",
    "            word[right] = word[left]\n",
    "            word[left] = temp\n",
    "            left += 1\n",
    "            right -= 1\n",
    "        word = \"\".join(word)\n",
    "        ans.append(word)\n",
    "      \n",
    "    return \" \".join(ans)\n"
   ]
  },
  {
   "cell_type": "code",
   "execution_count": 38,
   "metadata": {},
   "outputs": [
    {
     "data": {
      "text/plain": [
       "\"s'teL ekat edoCteeL tsetnoc\""
      ]
     },
     "execution_count": 38,
     "metadata": {},
     "output_type": "execute_result"
    }
   ],
   "source": [
    "s = \"Let's take LeetCode contest\"\n",
    "revers_word(s)"
   ]
  },
  {
   "cell_type": "code",
   "execution_count": 48,
   "metadata": {},
   "outputs": [],
   "source": [
    "def reverseOnlyLetters(s):\n",
    "    left = 0\n",
    "    right = len(s) - 1\n",
    "    s = list(s)\n",
    "    ans = []\n",
    "    while left<right:\n",
    "        if s[left].isalpha() and s[right].isalpha():\n",
    "            temp = s[right]\n",
    "            s[right] = s[left]\n",
    "            s[left] = temp\n",
    "            left += 1\n",
    "            right -= 1\n",
    "        elif not s[left].isalpha():\n",
    "            left += 1\n",
    "        else:\n",
    "            right -= 1 \n",
    "    return \"\".join(s)"
   ]
  },
  {
   "cell_type": "code",
   "execution_count": 49,
   "metadata": {},
   "outputs": [
    {
     "data": {
      "text/plain": [
       "'j-Ih-gfE-dCba'"
      ]
     },
     "execution_count": 49,
     "metadata": {},
     "output_type": "execute_result"
    }
   ],
   "source": [
    "s = \"a-bC-dEf-ghIj\"\n",
    "reverseOnlyLetters(s)\n"
   ]
  },
  {
   "cell_type": "code",
   "execution_count": 65,
   "metadata": {},
   "outputs": [],
   "source": [
    "def moveZeroes(nums):\n",
    "    none_zero_index = 0\n",
    "    for i in range(len(nums)):\n",
    "        if nums[i] != 0:\n",
    "            nums[none_zero_index], nums[i] = nums[i], nums[none_zero_index]\n",
    "            none_zero_index += 1   \n",
    "\n",
    "    return nums\n",
    "\n",
    "        "
   ]
  },
  {
   "cell_type": "code",
   "execution_count": null,
   "metadata": {},
   "outputs": [],
   "source": []
  },
  {
   "cell_type": "code",
   "execution_count": 67,
   "metadata": {},
   "outputs": [
    {
     "data": {
      "text/plain": [
       "[1, 3, 12, 0, 0]"
      ]
     },
     "execution_count": 67,
     "metadata": {},
     "output_type": "execute_result"
    }
   ],
   "source": [
    "nums = [0,1,0,3,12]\n",
    "moveZeroes(nums)"
   ]
  },
  {
   "cell_type": "code",
   "execution_count": 89,
   "metadata": {},
   "outputs": [],
   "source": [
    "def reversePrefix(word, ch):\n",
    "    if ch not in word:\n",
    "    # If 'ch' is not in 'word', return the original word\n",
    "        return word\n",
    "    word = list(word)\n",
    "    l = 0\n",
    "    r = word.index(ch)\n",
    "    while l < r:\n",
    "        # temp = word[l]\n",
    "        # word[l] = word[r]\n",
    "        # word[r] = temp\n",
    "        word[l], word[r] = word[r], word[l]\n",
    "        l += 1\n",
    "        r -= 1\n",
    "    return \"\".join(word)\n"
   ]
  },
  {
   "cell_type": "code",
   "execution_count": 90,
   "metadata": {},
   "outputs": [
    {
     "data": {
      "text/plain": [
       "'zxyxxe'"
      ]
     },
     "execution_count": 90,
     "metadata": {},
     "output_type": "execute_result"
    }
   ],
   "source": [
    "word = \"xyxzxe\"\n",
    "reversePrefix(word, \"z\")"
   ]
  },
  {
   "cell_type": "code",
   "execution_count": 93,
   "metadata": {},
   "outputs": [],
   "source": [
    "def maxVowels(s, k):\n",
    "    s = list(s)\n",
    "    vowels = [\"a\", \"e\", \"o\", \"u\", \"i\"]\n",
    "\n",
    "    curr = 0\n",
    "    ans = 0\n",
    "    for i in range(k):\n",
    "        if s[i] in vowels:\n",
    "            curr += 1\n",
    "    ans = curr\n",
    "\n",
    "    for i in range(k, len(s)):\n",
    "        if s[i-k] in vowels:\n",
    "            curr -= 1\n",
    "        if s[i] in vowels:\n",
    "            curr += 1\n",
    "        ans = max(ans, curr)\n",
    "    return ans\n",
    "\n",
    "\n"
   ]
  },
  {
   "cell_type": "code",
   "execution_count": 94,
   "metadata": {},
   "outputs": [
    {
     "data": {
      "text/plain": [
       "3"
      ]
     },
     "execution_count": 94,
     "metadata": {},
     "output_type": "execute_result"
    }
   ],
   "source": [
    "s = \"abciiidef\"\n",
    "maxVowels(s, 3)"
   ]
  },
  {
   "cell_type": "code",
   "execution_count": 96,
   "metadata": {},
   "outputs": [],
   "source": [
    "def largestAltitude(gain):\n",
    "\n",
    "    prefix = [0]\n",
    "    for i in range(len(gain)):\n",
    "        prefix.append(gain[i] + prefix[len(prefix) - 1])\n",
    "    return max(prefix)"
   ]
  },
  {
   "cell_type": "code",
   "execution_count": 99,
   "metadata": {},
   "outputs": [
    {
     "data": {
      "text/plain": [
       "0"
      ]
     },
     "execution_count": 99,
     "metadata": {},
     "output_type": "execute_result"
    }
   ],
   "source": [
    "gain = [-4,-3,-2,-1,4,3,2]\n",
    "largestAltitude(gain)"
   ]
  },
  {
   "cell_type": "code",
   "execution_count": 122,
   "metadata": {},
   "outputs": [],
   "source": [
    "def pivotIndex(nums):\n",
    "    prefix = [nums[0]]\n",
    "    for i in range(1, len(nums)):\n",
    "        prefix.append(nums[i] + prefix[len(prefix) - 1])\n",
    "    left_sum = 0\n",
    "    right_sum = 0\n",
    "    for pivotIndex in range(len(prefix)):\n",
    "        left_sum = prefix[pivotIndex-1] if pivotIndex > 0 else 0\n",
    "        right_sum = prefix[len(prefix) - 1] - prefix[pivotIndex]\n",
    "        if left_sum == right_sum:\n",
    "            return pivotIndex\n",
    "    return -1\n",
    "\n",
    "\n",
    "\n"
   ]
  },
  {
   "cell_type": "code",
   "execution_count": 123,
   "metadata": {},
   "outputs": [
    {
     "data": {
      "text/plain": [
       "0"
      ]
     },
     "execution_count": 123,
     "metadata": {},
     "output_type": "execute_result"
    }
   ],
   "source": [
    "nums = [2,1,-1]\n",
    "pivotIndex(nums)"
   ]
  },
  {
   "cell_type": "code",
   "execution_count": 134,
   "metadata": {},
   "outputs": [],
   "source": [
    "def twoSum(nums, target):\n",
    "    my_dict = {}\n",
    "    \n",
    "    for i in range(len(nums)):\n",
    "        num = nums[i]\n",
    "        comp = target - num\n",
    "        \n",
    "        if comp in my_dict:\n",
    "            return[i, my_dict[comp]]\n",
    "        my_dict[num] = i\n",
    "\n",
    "    return [-1, -1]\n",
    "            "
   ]
  },
  {
   "cell_type": "code",
   "execution_count": 135,
   "metadata": {},
   "outputs": [
    {
     "data": {
      "text/plain": [
       "[3, 0]"
      ]
     },
     "execution_count": 135,
     "metadata": {},
     "output_type": "execute_result"
    }
   ],
   "source": [
    "nums = [5,2,7,3,7]\n",
    "twoSum(nums, 8)"
   ]
  },
  {
   "cell_type": "code",
   "execution_count": 136,
   "metadata": {},
   "outputs": [],
   "source": [
    "def checkIfPangram(sentence):\n",
    "    seen = set()\n",
    "    for c in sentence:\n",
    "        if c not in seen:\n",
    "            seen.add(c)\n",
    "    return len(seen) == 26\n",
    "    \n",
    " "
   ]
  },
  {
   "cell_type": "code",
   "execution_count": 138,
   "metadata": {},
   "outputs": [
    {
     "data": {
      "text/plain": [
       "True"
      ]
     },
     "execution_count": 138,
     "metadata": {},
     "output_type": "execute_result"
    }
   ],
   "source": [
    "sentence = \"thequickbrownfoxjumpsoverthelazydog\"\n",
    "checkIfPangram(sentence)"
   ]
  },
  {
   "cell_type": "code",
   "execution_count": 148,
   "metadata": {},
   "outputs": [],
   "source": [
    "def missingNumber(nums):\n",
    "    nums_set = set(nums)\n",
    "    sub_nums = set(range(len(nums)+1))\n",
    "    for num in sub_nums:\n",
    "        if num not in nums_set:\n",
    "            return num\n",
    "    return -1"
   ]
  },
  {
   "cell_type": "code",
   "execution_count": 149,
   "metadata": {},
   "outputs": [
    {
     "data": {
      "text/plain": [
       "8"
      ]
     },
     "execution_count": 149,
     "metadata": {},
     "output_type": "execute_result"
    }
   ],
   "source": [
    "nums = [9,6,4,2,3,5,7,0,1]\n",
    "missingNumber(nums)\n"
   ]
  },
  {
   "cell_type": "code",
   "execution_count": 167,
   "metadata": {},
   "outputs": [],
   "source": [
    "def countElements(arr):\n",
    "    md = {}\n",
    "    ans = 0\n",
    "    for i in range(len(arr)):\n",
    "        md[i] = arr[i]\n",
    "    for key , val in md.items():\n",
    "        if val+1 in md.values():\n",
    "            ans += 1\n",
    "    return ans\n",
    "\n",
    "\n",
    " "
   ]
  },
  {
   "cell_type": "code",
   "execution_count": 169,
   "metadata": {},
   "outputs": [
    {
     "data": {
      "text/plain": [
       "2"
      ]
     },
     "execution_count": 169,
     "metadata": {},
     "output_type": "execute_result"
    }
   ],
   "source": [
    "arr = [1,2,3]\n",
    "countElements(arr)"
   ]
  },
  {
   "cell_type": "code",
   "execution_count": 201,
   "metadata": {},
   "outputs": [],
   "source": [
    "from collections import defaultdict\n",
    "def findWinners(matches):\n",
    "    loss_count = defaultdict(int)\n",
    "    winners = set()\n",
    "    no_lost = []\n",
    "    one_lost = []\n",
    "    for winner, looser in matches:\n",
    "        winners.add(winner)\n",
    "        loss_count[looser] +=1\n",
    "    for player in winners:\n",
    "        if loss_count[player] == 0:\n",
    "            no_lost.append(player)\n",
    "    for player, losses in loss_count.items():\n",
    "        if losses == 1:\n",
    "            one_lost.append(player)\n",
    "            \n",
    "    return [sorted(no_lost), sorted(one_lost)]\n",
    "    "
   ]
  },
  {
   "cell_type": "code",
   "execution_count": 202,
   "metadata": {},
   "outputs": [
    {
     "data": {
      "text/plain": [
       "[[1, 2, 10], [4, 5, 7, 8]]"
      ]
     },
     "execution_count": 202,
     "metadata": {},
     "output_type": "execute_result"
    }
   ],
   "source": [
    "matches =[[1,3],[2,3],[3,6],[5,6],[5,7],[4,5],[4,8],[4,9],[10,4],[10,9]]\n",
    "findWinners(matches)"
   ]
  },
  {
   "cell_type": "code",
   "execution_count": 216,
   "metadata": {},
   "outputs": [],
   "source": [
    "def largestUniqueNumber(nums):\n",
    "    freq_dict = defaultdict(int)\n",
    "    non_repeated = []\n",
    "    for num in nums:\n",
    "        freq_dict[num] += 1\n",
    "    for num, freq in freq_dict.items():\n",
    "        if freq == 1:\n",
    "            non_repeated.append(num)\n",
    "\n",
    "\n",
    "    return max(non_repeated, default=None)"
   ]
  },
  {
   "cell_type": "code",
   "execution_count": 217,
   "metadata": {},
   "outputs": [
    {
     "data": {
      "text/plain": [
       "8"
      ]
     },
     "execution_count": 217,
     "metadata": {},
     "output_type": "execute_result"
    }
   ],
   "source": [
    "nums = [5,7,3,9,4,9,8,3,1]\n",
    "largestUniqueNumber(nums)\n"
   ]
  },
  {
   "cell_type": "code",
   "execution_count": 47,
   "metadata": {},
   "outputs": [],
   "source": [
    "from collections import defaultdict\n",
    "def maxNumberOfBalloons(text):\n",
    "    #creating balloon dict\n",
    "    word = \"balloon\"\n",
    "    balloon = defaultdict(int)\n",
    "    for char in word:\n",
    "        balloon[char] += 1\n",
    "\n",
    "    #creating balloon_freq_dict\n",
    "    \n",
    "    balloon_freq_dict = defaultdict(int)\n",
    "    for char in text:\n",
    "        if char in balloon:\n",
    "            balloon_freq_dict[char] += 1\n",
    "    \n",
    "    #validation\n",
    "    if len(balloon_freq_dict) < len(balloon):\n",
    "        return 0\n",
    "\n",
    "    return min(balloon_freq_dict[key] // balloon[key] for key in balloon)\n"
   ]
  },
  {
   "cell_type": "code",
   "execution_count": 48,
   "metadata": {},
   "outputs": [
    {
     "data": {
      "text/plain": [
       "0"
      ]
     },
     "execution_count": 48,
     "metadata": {},
     "output_type": "execute_result"
    }
   ],
   "source": [
    "text = \"balon\"\n",
    "maxNumberOfBalloons(text)"
   ]
  },
  {
   "cell_type": "code",
   "execution_count": 104,
   "metadata": {},
   "outputs": [],
   "source": [
    "def findMaxLength(nums):\n",
    "    count_indext_dict = defaultdict(int)\n",
    "    count_indext_dict[0] = -1  # Initialize for count 0\n",
    "    count = 0\n",
    "    max_lenght = 0\n",
    "    for right in range(len(nums)):\n",
    "        if nums[right] == 0:\n",
    "            count += -1\n",
    "        else:\n",
    "            count += 1\n",
    "        if count in count_indext_dict:\n",
    "            max_lenght = max(max_lenght, right - count_indext_dict[count])\n",
    "        else:\n",
    "            count_indext_dict[count] = right\n",
    "\n",
    "    return max_lenght\n",
    "\n",
    "\n",
    "\n",
    "    "
   ]
  },
  {
   "cell_type": "code",
   "execution_count": 105,
   "metadata": {},
   "outputs": [
    {
     "data": {
      "text/plain": [
       "4"
      ]
     },
     "execution_count": 105,
     "metadata": {},
     "output_type": "execute_result"
    }
   ],
   "source": [
    "nums = [0,1,0,1]\n",
    "findMaxLength(nums)"
   ]
  },
  {
   "cell_type": "code",
   "execution_count": 118,
   "metadata": {},
   "outputs": [],
   "source": [
    "from collections import defaultdict\n",
    "def canConstruct(ransomNote, magazine):\n",
    "    ransomNote_freq = defaultdict(int)\n",
    "    magazine_freq = defaultdict(int)\n",
    "\n",
    "    for ch in ransomNote:\n",
    "        ransomNote_freq[ch] += 1\n",
    "    for ch in magazine:\n",
    "        magazine_freq[ch] += 1\n",
    "    for ch, in ransomNote_freq:\n",
    "        if ransomNote_freq[ch] > magazine_freq[ch]:\n",
    "                return False\n",
    "    return True\n",
    "\n",
    "    \n"
   ]
  },
  {
   "cell_type": "code",
   "execution_count": 119,
   "metadata": {},
   "outputs": [
    {
     "data": {
      "text/plain": [
       "True"
      ]
     },
     "execution_count": 119,
     "metadata": {},
     "output_type": "execute_result"
    }
   ],
   "source": [
    "ransomNote = \"aa\"\n",
    "magazine = \"aab\"\n",
    "canConstruct(ransomNote, magazine)"
   ]
  },
  {
   "cell_type": "code",
   "execution_count": 133,
   "metadata": {},
   "outputs": [],
   "source": [
    "def numJewelsInStones(jewels, stones):\n",
    "    num_jewels = 0\n",
    "\n",
    "    stones_freq = defaultdict(int)\n",
    "    for ch in stones:\n",
    "        stones_freq[ch] += 1\n",
    "    \n",
    "    for ch in jewels:\n",
    "        num_jewels += stones_freq[ch]\n",
    "    return num_jewels\n"
   ]
  },
  {
   "cell_type": "code",
   "execution_count": 134,
   "metadata": {},
   "outputs": [
    {
     "data": {
      "text/plain": [
       "0"
      ]
     },
     "execution_count": 134,
     "metadata": {},
     "output_type": "execute_result"
    }
   ],
   "source": [
    "jewels = \"z\"\n",
    "stones = \"ZZ\"\n",
    "numJewelsInStones(jewels, stones)\n"
   ]
  },
  {
   "cell_type": "code",
   "execution_count": 146,
   "metadata": {},
   "outputs": [],
   "source": [
    "def lengthOfLongestSubstring(s):\n",
    "    ch_pos_dict = defaultdict(int)\n",
    "    longest = 0\n",
    "    left = 0\n",
    "\n",
    "    for right in range(len(s)):\n",
    "        if s[right] in ch_pos_dict and left <= ch_pos_dict[s[right]]:\n",
    "            left = ch_pos_dict[s[right]] + 1\n",
    "        ch_pos_dict[s[right]] = right\n",
    "        longest = max(longest, right - left+1)\n",
    "\n",
    "\n",
    "    return longest\n",
    "\n",
    "    "
   ]
  },
  {
   "cell_type": "code",
   "execution_count": 147,
   "metadata": {},
   "outputs": [
    {
     "data": {
      "text/plain": [
       "3"
      ]
     },
     "execution_count": 147,
     "metadata": {},
     "output_type": "execute_result"
    }
   ],
   "source": [
    "s = \"pwwkew\"\n",
    "lengthOfLongestSubstring(s)"
   ]
  },
  {
   "cell_type": "code",
   "execution_count": 154,
   "metadata": {},
   "outputs": [],
   "source": [
    "def containsDuplicate(nums):\n",
    "    freq = defaultdict(int)\n",
    "    for num in nums:\n",
    "        freq[num] += 1\n",
    "    for val in freq.values():\n",
    "        if val >= 2:\n",
    "            return True\n",
    "    else:\n",
    "        return False\n"
   ]
  },
  {
   "cell_type": "code",
   "execution_count": 155,
   "metadata": {},
   "outputs": [
    {
     "data": {
      "text/plain": [
       "0"
      ]
     },
     "execution_count": 155,
     "metadata": {},
     "output_type": "execute_result"
    }
   ],
   "source": [
    "nums = [1,2,3,1]\n",
    "containsDuplicate(nums)"
   ]
  },
  {
   "cell_type": "code",
   "execution_count": 158,
   "metadata": {},
   "outputs": [],
   "source": [
    "def destCity(paths):\n",
    "    path_dict = defaultdict(int)\n",
    "    for path in paths:\n",
    "        path_dict[path[0]] = path[1]\n",
    "    for val in path_dict.values():\n",
    "        if val not in path_dict.keys():\n",
    "            return val\n",
    "\n",
    " "
   ]
  },
  {
   "cell_type": "code",
   "execution_count": 159,
   "metadata": {},
   "outputs": [
    {
     "data": {
      "text/plain": [
       "'Sao Paulo'"
      ]
     },
     "execution_count": 159,
     "metadata": {},
     "output_type": "execute_result"
    }
   ],
   "source": [
    "paths = [[\"London\",\"New York\"],[\"New York\",\"Lima\"],[\"Lima\",\"Sao Paulo\"]]\n",
    "destCity(paths)"
   ]
  },
  {
   "cell_type": "code",
   "execution_count": 246,
   "metadata": {},
   "outputs": [],
   "source": [
    "def isPathCrossing(path):\n",
    "    x,y = 0, 0\n",
    "    visited = {(x, y)}\n",
    "    for ch in path:\n",
    "        if ch == \"N\":\n",
    "            y+=1\n",
    "        elif ch == \"S\":\n",
    "            y-=1\n",
    "        elif ch == \"E\":\n",
    "            x+=1\n",
    "        elif ch == \"W\":\n",
    "            x-=1\n",
    "        if (x , y) in visited:\n",
    "            return True\n",
    "        visited.add((x,y))\n",
    "\n",
    "    return False\n",
    "    \n",
    "    \n",
    "        \n"
   ]
  },
  {
   "cell_type": "code",
   "execution_count": 247,
   "metadata": {},
   "outputs": [
    {
     "data": {
      "text/plain": [
       "False"
      ]
     },
     "execution_count": 247,
     "metadata": {},
     "output_type": "execute_result"
    }
   ],
   "source": [
    "path = \"NES\"\n",
    "isPathCrossing(path)"
   ]
  },
  {
   "cell_type": "code",
   "execution_count": null,
   "metadata": {},
   "outputs": [],
   "source": [
    "def sumOfUnique(nums):\n",
    "    freq = defaultdict(int)\n",
    "    unique_sum =0\n",
    "    for num in nums:\n",
    "        freq[num] +=1\n",
    "    for key , val in freq.items():\n",
    "        if val == 1:\n",
    "            unique_sum += key\n",
    "    return unique_sum\n"
   ]
  },
  {
   "cell_type": "code",
   "execution_count": 261,
   "metadata": {},
   "outputs": [],
   "source": [
    "def maxFrequencyElements(nums):\n",
    "    num_freq = defaultdict(int)\n",
    "    ans = 0\n",
    "    for num in nums:\n",
    "        num_freq[num] += 1\n",
    "    max_freq = max(num_freq.values())\n",
    "\n",
    "    for val in num_freq.values():\n",
    "        if val == max_freq:\n",
    "            ans += val\n",
    "    return ans\n"
   ]
  },
  {
   "cell_type": "code",
   "execution_count": 263,
   "metadata": {},
   "outputs": [
    {
     "data": {
      "text/plain": [
       "5"
      ]
     },
     "execution_count": 263,
     "metadata": {},
     "output_type": "execute_result"
    }
   ],
   "source": [
    "nums = [1,2,3,4,5]\n",
    "maxFrequencyElements(nums)"
   ]
  },
  {
   "cell_type": "code",
   "execution_count": 285,
   "metadata": {},
   "outputs": [],
   "source": [
    "def findLucky(arr):\n",
    "    pos_val_dict = defaultdict(int)\n",
    "    lucky_num = -1\n",
    "    for i in range(len(arr)):\n",
    "        pos_val_dict[arr[i]] += 1\n",
    "    print(pos_val_dict)\n",
    "    for key, val in pos_val_dict.items():\n",
    "        if key == val:\n",
    "            lucky_num = max(lucky_num, key)\n",
    "    return lucky_num\n"
   ]
  },
  {
   "cell_type": "code",
   "execution_count": 286,
   "metadata": {},
   "outputs": [
    {
     "name": "stdout",
     "output_type": "stream",
     "text": [
      "defaultdict(<class 'int'>, {1: 1, 2: 2, 3: 3})\n"
     ]
    },
    {
     "data": {
      "text/plain": [
       "3"
      ]
     },
     "execution_count": 286,
     "metadata": {},
     "output_type": "execute_result"
    }
   ],
   "source": [
    "arr = [1,2,2,3,3,3]\n",
    "findLucky(arr)"
   ]
  },
  {
   "cell_type": "code",
   "execution_count": 292,
   "metadata": {},
   "outputs": [],
   "source": [
    "def uniqueOccurrences(arr):\n",
    "    num_freq_dict = defaultdict(int)\n",
    "    for num in arr:\n",
    "        num_freq_dict[num] += 1\n",
    "    seen = set()\n",
    "    for val in num_freq_dict.values():\n",
    "        if val not in seen:\n",
    "            seen.add(val)\n",
    "    return len(num_freq_dict) == len(seen)\n",
    "\n",
    "    "
   ]
  },
  {
   "cell_type": "code",
   "execution_count": 294,
   "metadata": {},
   "outputs": [
    {
     "data": {
      "text/plain": [
       "False"
      ]
     },
     "execution_count": 294,
     "metadata": {},
     "output_type": "execute_result"
    }
   ],
   "source": [
    "arr = [1,2]\n",
    "uniqueOccurrences(arr)"
   ]
  },
  {
   "cell_type": "code",
   "execution_count": 309,
   "metadata": {},
   "outputs": [],
   "source": [
    "def wordPattern(pattern, s):\n",
    "    pat_pos_dict = defaultdict(list)\n",
    "    for i in range(len(pattern)):\n",
    "        pat_pos_dict[pattern[i]].append(i)\n",
    "    s= s.split()\n",
    "    # print(s)\n",
    "\n",
    "    s_pos_dict = defaultdict(list)\n",
    "    for i in range(len(s)):\n",
    "        s_pos_dict[s[i]].append(i)\n",
    "    # print(s_pos_dict)\n",
    "    for val in pat_pos_dict.values():\n",
    "        if val not in s_pos_dict.values():\n",
    "            return False\n",
    "    return True\n"
   ]
  },
  {
   "cell_type": "code",
   "execution_count": 311,
   "metadata": {},
   "outputs": [
    {
     "data": {
      "text/plain": [
       "False"
      ]
     },
     "execution_count": 311,
     "metadata": {},
     "output_type": "execute_result"
    }
   ],
   "source": [
    "pattern = \"abba\"\n",
    "s = \"dog cat cat fish\"\n",
    "\n",
    "wordPattern(pattern, s)"
   ]
  },
  {
   "cell_type": "code",
   "execution_count": 319,
   "metadata": {},
   "outputs": [],
   "source": [
    "def isIsomorphic(s, t):\n",
    "    s_pos_dict = defaultdict(list)\n",
    "    for i in range(len(s)):\n",
    "        s_pos_dict[s[i]].append(i)\n",
    "    t_pos_dict = defaultdict(list)\n",
    "    for i in range(len(t)):\n",
    "        t_pos_dict[t[i]].append(i)\n",
    "    \n",
    "    for val in s_pos_dict.values():\n",
    "        if val not in t_pos_dict.values():\n",
    "            return False\n",
    "    return True \n"
   ]
  },
  {
   "cell_type": "code",
   "execution_count": 321,
   "metadata": {},
   "outputs": [
    {
     "name": "stdout",
     "output_type": "stream",
     "text": [
      "defaultdict(<class 'list'>, {'t': [0, 2], 'i': [1], 'l': [3], 'e': [4]})\n"
     ]
    },
    {
     "data": {
      "text/plain": [
       "True"
      ]
     },
     "execution_count": 321,
     "metadata": {},
     "output_type": "execute_result"
    }
   ],
   "source": [
    "s = \"paper\"\n",
    "t = \"title\"\n",
    "isIsomorphic(s, t)\n"
   ]
  },
  {
   "cell_type": "code",
   "execution_count": 403,
   "metadata": {},
   "outputs": [],
   "source": [
    "def numSubarraysWithSum(nums, goal):\n",
    "    sum_freq_dict = defaultdict(int)\n",
    "    sum_freq_dict[0] = 1\n",
    "    ans = 0\n",
    "    prefix_sum = 0\n",
    "    for num in nums:\n",
    "        prefix_sum += num\n",
    "        ans += sum_freq_dict[prefix_sum - goal]\n",
    "        sum_freq_dict[prefix_sum] += 1\n",
    "    return ans\n",
    "\n"
   ]
  },
  {
   "cell_type": "code",
   "execution_count": 432,
   "metadata": {},
   "outputs": [],
   "source": [
    "def premutaion(s):\n",
    "    if len(s) == 1:\n",
    "        return [s]\n",
    "    ans = []\n",
    "    for i in range(len(s)):\n",
    "        for perm in self.premutaion(s[:i] + s[i+1:]):\n",
    "            ans.append(s[i] + perm)\n",
    "    return ans\n",
    "\n",
    "def checkInclusion(s1, s2):\n",
    "    perms = self.premutaion(s1)\n",
    "    for perm in perms:\n",
    "        if perm in s2:\n",
    "            return True\n",
    "    return False"
   ]
  },
  {
   "cell_type": "code",
   "execution_count": 434,
   "metadata": {},
   "outputs": [
    {
     "data": {
      "text/plain": [
       "False"
      ]
     },
     "execution_count": 434,
     "metadata": {},
     "output_type": "execute_result"
    }
   ],
   "source": [
    "s1 = \"ab\"\n",
    "s2 = \"eidboaoo\"\n",
    "\n",
    "checkInclusion(s1, s2)\n"
   ]
  },
  {
   "cell_type": "code",
   "execution_count": 470,
   "metadata": {},
   "outputs": [],
   "source": [
    "def checkInclusion(s1, s2):\n",
    "        L=len(s1)\n",
    "        dic_s2=defaultdict(int)\n",
    "        dic_s1=defaultdict(int)\n",
    "        \n",
    "        # edge case \n",
    "        if len(s2)<L:\n",
    "            return False\n",
    "        \n",
    "        #freq dict of s1\n",
    "        for char in s1:\n",
    "            dic_s1[char]+=1\n",
    "\n",
    "        #freq dict of first L elements of s2\n",
    "        for i in range(L):\n",
    "            dic_s2[s2[i]]+=1\n",
    "\n",
    "        #if they are equal the it is a permutation\n",
    "        if dic_s2==dic_s1:\n",
    "                return True\n",
    "        \n",
    "        #sliding window\n",
    "        l=0\n",
    "        for r in range(L,len(s2)):\n",
    "            dic_s2[s2[l]]-=1\n",
    "            if dic_s2[s2[l]] == 0:\n",
    "                 del dic_s2[s2[l]]\n",
    "            l+=1\n",
    "            dic_s2[s2[r]]+=1\n",
    "            if dic_s2==dic_s1:\n",
    "                return True \n",
    "        return False\n"
   ]
  },
  {
   "cell_type": "code",
   "execution_count": 471,
   "metadata": {},
   "outputs": [
    {
     "data": {
      "text/plain": [
       "True"
      ]
     },
     "execution_count": 471,
     "metadata": {},
     "output_type": "execute_result"
    }
   ],
   "source": [
    "s1 = \"ab\"\n",
    "s2 = \"eidbaooo\"\n",
    "checkInclusion(s1, s2)"
   ]
  },
  {
   "cell_type": "code",
   "execution_count": 609,
   "metadata": {},
   "outputs": [],
   "source": [
    "def checkInclusion2(s1, s2):\n",
    "    s1_count = defaultdict(int)\n",
    "    L = len(s1)\n",
    "    for ch in s1:\n",
    "        s1_count[ch] += 1\n",
    "    s2_count = defaultdict(int)\n",
    "    for i in range(len(s1)):\n",
    "        s2_count[s2[i]] += 1\n",
    "\n",
    "    if s1_count == s2_count:\n",
    "        return True\n",
    "    \n",
    "    left = \n",
    "    for right in range(L, len(s2)):\n",
    "        s2_count[s2[right]] += 1\n",
    "        left_ch = s2[right - L]\n",
    "        s2_count[left_ch] -= 1\n",
    "        if s2_count[left_ch] == 0:\n",
    "            del s2_count[left_ch]\n",
    "        if s1_count == s2_count:\n",
    "            return True\n",
    "\n",
    "        \n",
    "    return False\n"
   ]
  },
  {
   "cell_type": "code",
   "execution_count": 610,
   "metadata": {},
   "outputs": [
    {
     "data": {
      "text/plain": [
       "False"
      ]
     },
     "execution_count": 610,
     "metadata": {},
     "output_type": "execute_result"
    }
   ],
   "source": [
    "s1 = \"ab\"\n",
    "s2 = \"eidboaooo\"\n",
    "checkInclusion2(s1, s2)"
   ]
  },
  {
   "cell_type": "code",
   "execution_count": 621,
   "metadata": {},
   "outputs": [],
   "source": [
    "def removeElement(nums, val):\n",
    "    seen = set()\n",
    "    counter = 0\n",
    "    for num in nums:\n",
    "        if num == val:\n",
    "            seen.add(num)\n",
    "    for num in seen:\n",
    "        for i in range(len(nums)):\n",
    "            if num == nums[i]:\n",
    "                counter += 1\n",
    "    \n",
    "    return counter\n",
    "        \n"
   ]
  },
  {
   "cell_type": "code",
   "execution_count": 622,
   "metadata": {},
   "outputs": [
    {
     "data": {
      "text/plain": [
       "2"
      ]
     },
     "execution_count": 622,
     "metadata": {},
     "output_type": "execute_result"
    }
   ],
   "source": [
    "nums = [3,2,2,3]\n",
    "removeElement(nums, 2)"
   ]
  }
 ],
 "metadata": {
  "kernelspec": {
   "display_name": "Python 3",
   "language": "python",
   "name": "python3"
  },
  "language_info": {
   "codemirror_mode": {
    "name": "ipython",
    "version": 3
   },
   "file_extension": ".py",
   "mimetype": "text/x-python",
   "name": "python",
   "nbconvert_exporter": "python",
   "pygments_lexer": "ipython3",
   "version": "3.11.4"
  }
 },
 "nbformat": 4,
 "nbformat_minor": 2
}
