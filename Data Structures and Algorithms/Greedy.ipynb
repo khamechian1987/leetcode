{
 "cells": [
  {
   "cell_type": "markdown",
   "metadata": {},
   "source": [
    "# **Greedy Algorithm**"
   ]
  },
  {
   "cell_type": "markdown",
   "metadata": {},
   "source": [
    "A greedy algorithm is any algorithm that makes the locally optimal decision at every step.\n",
    "\n",
    "Let's break this definition down. First, what makes a decision \"optimal\"? This will depend on the problem. For example, if we are choosing some elements and the problem wants us to find the maximum sum of elements we take, then given a choice between two numbers, it is optimal to take the larger one.\n",
    "\n",
    "Second, what makes a decision \"local\"? A decision is local when it considers only the available options at the current step. It is based on the information it has at the time, and doesn't consider any consequences that may happen in the future from this decision."
   ]
  },
  {
   "cell_type": "markdown",
   "metadata": {},
   "source": [
    "Most greedy problems will be asking for the maximum or minimum of something, but not always."
   ]
  },
  {
   "cell_type": "markdown",
   "metadata": {},
   "source": [
    "\"Greedy\" isn't a data structure and it isn't any single algorithm either, but more of a way to approach a problem. As such, it's hard to become \"good\" at greedy algorithms, and there isn't much to \"learn\" about it. With that being said, this will be a short chapter mostly walking through examples. The concept of \"greedy\" is extremely general and the main thing to practice is recognizing when it applies. Greedy algorithms are usually very efficient, so if you are given a problem that can be solved greedily, it's important to recognize it."
   ]
  },
  {
   "cell_type": "markdown",
   "metadata": {},
   "source": [
    "Example 1: 2126. Destroying Asteroids\n",
    "\n",
    "You are given an integer array asteroids and an integer mass representing the mass of a planet. The planet will collide with the asteroids one by one - you can choose the order. If the mass of the planet is less than the mass of an asteroid, the planet is destroyed. Otherwise, the planet gains the mass of the asteroid. Can you destroy all the asteroids?"
   ]
  },
  {
   "cell_type": "code",
   "execution_count": 36,
   "metadata": {},
   "outputs": [],
   "source": [
    "def asteroidsDestroyed(mass, asteroids):\n",
    "    sort = sorted(asteroids)\n",
    "    for ast in sort:\n",
    "        if mass >= ast:\n",
    "            mass += ast\n",
    "        else:\n",
    "            return False\n",
    "    return True\n",
    "    \n"
   ]
  },
  {
   "cell_type": "code",
   "execution_count": 38,
   "metadata": {},
   "outputs": [
    {
     "data": {
      "text/plain": [
       "False"
      ]
     },
     "execution_count": 38,
     "metadata": {},
     "output_type": "execute_result"
    }
   ],
   "source": [
    "asteroids = [4,9,23,4]\n",
    "asteroidsDestroyed(5, asteroids)"
   ]
  },
  {
   "cell_type": "markdown",
   "metadata": {},
   "source": [
    "Example 2: 2294. Partition Array Such That Maximum Difference Is K\n",
    "\n",
    "Given an integer array nums and an integer k, split nums into subsequences, where each subsequences' maximum and minimum element is within k of each other. What is the minimum number of subsequences needed?\n",
    "\n",
    "For example, given nums = [3, 6, 1, 2, 5] and k = 2, the answer is 2. The subsequences are [3, 1, 2] and [6, 5]."
   ]
  },
  {
   "cell_type": "code",
   "execution_count": 69,
   "metadata": {},
   "outputs": [],
   "source": [
    "def partitionArray(nums, k):\n",
    "    s = sorted(nums)\n",
    "    mi = s[0]\n",
    "    counter = 1\n",
    "    for i in range(1, len(s)):\n",
    "        if s[i] - mi > k:\n",
    "            counter += 1\n",
    "            mi = s[i] \n",
    "    \n",
    "    return counter"
   ]
  },
  {
   "cell_type": "code",
   "execution_count": 70,
   "metadata": {},
   "outputs": [
    {
     "data": {
      "text/plain": [
       "2"
      ]
     },
     "execution_count": 70,
     "metadata": {},
     "output_type": "execute_result"
    }
   ],
   "source": [
    "nums = [3,6,1,2,5] \n",
    "partitionArray(nums, 2)"
   ]
  },
  {
   "cell_type": "markdown",
   "metadata": {},
   "source": [
    "Example 3: 502. IPO\n",
    "\n",
    "LeetCode would like to work on some projects to increase its capital before IPO. You are given n projects where the ith project has a profit of profits[i] and a minimum capital of capital[i] is needed to start it. Initially, you have w capital. When you finish a project, the profit will be added to your total capital. Return the max capital possible if you are allowed to do up to k projects."
   ]
  },
  {
   "cell_type": "code",
   "execution_count": null,
   "metadata": {},
   "outputs": [],
   "source": []
  },
  {
   "cell_type": "markdown",
   "metadata": {},
   "source": [
    "Example 4: 1481. Least Number of Unique Integers after K Removals\n",
    "\n",
    "Given an array of integers arr and an integer k, find the least number of unique integers after removing exactly k elements."
   ]
  },
  {
   "cell_type": "code",
   "execution_count": 115,
   "metadata": {},
   "outputs": [],
   "source": [
    "from collections import defaultdict, Counter\n",
    "def findLeastNumOfUniqueInts(arr, k):\n",
    "    counts = Counter(arr)\n",
    "    ordered = sorted(counts.values(), reverse=True)\n",
    "    \n",
    "    while k:\n",
    "        val = ordered[-1]\n",
    "        if val <= k:\n",
    "            k -= val\n",
    "            ordered.pop()\n",
    "        else:\n",
    "            break\n",
    "\n",
    "    return len(ordered)"
   ]
  },
  {
   "cell_type": "code",
   "execution_count": 116,
   "metadata": {},
   "outputs": [
    {
     "data": {
      "text/plain": [
       "2"
      ]
     },
     "execution_count": 116,
     "metadata": {},
     "output_type": "execute_result"
    }
   ],
   "source": [
    "arr = [4,3,1,1,3,3,2]\n",
    "findLeastNumOfUniqueInts(arr, 3)"
   ]
  },
  {
   "cell_type": "markdown",
   "metadata": {},
   "source": [
    "Example 5: 881. Boats to Save People\n",
    "\n",
    "You are given an array people where people[i] is the weight of the ith person. A boat can hold up to two people, if their weight combined is less than or equal to limit. What is the fewest number of boats you need to carry everyone? Note: no person is heavier than limit."
   ]
  },
  {
   "cell_type": "code",
   "execution_count": 46,
   "metadata": {},
   "outputs": [],
   "source": [
    "def numRescueBoats(people, limit):\n",
    "    boats = 0\n",
    "    s = sorted(people)\n",
    "    l,h = 0, len(s) - 1\n",
    "    while l <= h:\n",
    "        if s[l] + s[h] <= limit:\n",
    "            l += 1\n",
    "        h -= 1\n",
    "        boats += 1\n",
    "\n",
    "    return boats\n"
   ]
  },
  {
   "cell_type": "code",
   "execution_count": 47,
   "metadata": {},
   "outputs": [
    {
     "data": {
      "text/plain": [
       "3"
      ]
     },
     "execution_count": 47,
     "metadata": {},
     "output_type": "execute_result"
    }
   ],
   "source": [
    "people = [3,2,2,1]\n",
    "numRescueBoats(people, 3)"
   ]
  }
 ],
 "metadata": {
  "kernelspec": {
   "display_name": "Python 3",
   "language": "python",
   "name": "python3"
  },
  "language_info": {
   "codemirror_mode": {
    "name": "ipython",
    "version": 3
   },
   "file_extension": ".py",
   "mimetype": "text/x-python",
   "name": "python",
   "nbconvert_exporter": "python",
   "pygments_lexer": "ipython3",
   "version": "3.11.4"
  }
 },
 "nbformat": 4,
 "nbformat_minor": 2
}
