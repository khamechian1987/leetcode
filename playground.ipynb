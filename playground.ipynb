{
 "cells": [
  {
   "cell_type": "code",
   "execution_count": 14,
   "metadata": {},
   "outputs": [],
   "source": [
    "def lengthOfLongestSubstring(s):\n",
    "    \"\"\"\n",
    "    :type s: str\n",
    "    :rtype: int\n",
    "    \"\"\"\n",
    "    seen = []\n",
    "    max_length = 0\n",
    "    for char in s:\n",
    "        while char in seen:\n",
    "            seen.pop(0)\n",
    "        seen.append(char)\n",
    "        max_length = max(max_length, len(seen))\n",
    "    return max_length"
   ]
  },
  {
   "cell_type": "code",
   "execution_count": 16,
   "metadata": {},
   "outputs": [],
   "source": [
    "s = \"pwwkew\"\n",
    "print(lengthOfLongestSubstring(s))"
   ]
  },
  {
   "cell_type": "code",
   "execution_count": 38,
   "metadata": {},
   "outputs": [],
   "source": [
    "def threeSum(nums):\n",
    "    nums.sort()\n",
    "    distinct_triplets = []\n",
    "    for i in range(len(nums) - 2):\n",
    "        if i > 0 and nums[i] == nums[i-1]: # to not have duplicate in triplets\n",
    "            continue\n",
    "\n",
    "        l = i +1\n",
    "        r = len(nums) - 1\n",
    "        while l < r:\n",
    "            total = nums[i] + nums[l] + nums[r]\n",
    "            if total < 0:\n",
    "                l += 1\n",
    "            elif total > 0:\n",
    "                r -= 1\n",
    "            else:\n",
    "                distinct_triplets.append([nums[i], nums[l], nums[r]])\n",
    "                while l < r and nums[l] == nums[l+1]:\n",
    "                    l += 1\n",
    "                while l < r and nums[r] == nums[r-1]:\n",
    "                    r -= 1\n",
    "                l += 1\n",
    "                r -= 1\n",
    "                \n",
    "            \n",
    "    return distinct_triplets"
   ]
  },
  {
   "cell_type": "code",
   "execution_count": 39,
   "metadata": {},
   "outputs": [
    {
     "data": {
      "text/plain": [
       "[[-1, -1, 2], [-1, 0, 1]]"
      ]
     },
     "execution_count": 39,
     "metadata": {},
     "output_type": "execute_result"
    }
   ],
   "source": [
    "nums = [-1,0,1,2,-1]\n",
    "threeSum(nums)\n"
   ]
  },
  {
   "cell_type": "code",
   "execution_count": 37,
   "metadata": {},
   "outputs": [],
   "source": [
    "def revers_word(s):\n",
    "    s = s.split()\n",
    "    ans = []\n",
    "\n",
    "    for word in s:\n",
    "        left = 0\n",
    "        right = len(word) - 1\n",
    "        word = list(word)\n",
    "        while left<right:\n",
    "            temp = word[right]\n",
    "            word[right] = word[left]\n",
    "            word[left] = temp\n",
    "            left += 1\n",
    "            right -= 1\n",
    "        word = \"\".join(word)\n",
    "        ans.append(word)\n",
    "      \n",
    "    return \" \".join(ans)\n"
   ]
  },
  {
   "cell_type": "code",
   "execution_count": 38,
   "metadata": {},
   "outputs": [
    {
     "data": {
      "text/plain": [
       "\"s'teL ekat edoCteeL tsetnoc\""
      ]
     },
     "execution_count": 38,
     "metadata": {},
     "output_type": "execute_result"
    }
   ],
   "source": [
    "s = \"Let's take LeetCode contest\"\n",
    "revers_word(s)"
   ]
  },
  {
   "cell_type": "code",
   "execution_count": 48,
   "metadata": {},
   "outputs": [],
   "source": [
    "def reverseOnlyLetters(s):\n",
    "    left = 0\n",
    "    right = len(s) - 1\n",
    "    s = list(s)\n",
    "    ans = []\n",
    "    while left<right:\n",
    "        if s[left].isalpha() and s[right].isalpha():\n",
    "            temp = s[right]\n",
    "            s[right] = s[left]\n",
    "            s[left] = temp\n",
    "            left += 1\n",
    "            right -= 1\n",
    "        elif not s[left].isalpha():\n",
    "            left += 1\n",
    "        else:\n",
    "            right -= 1 \n",
    "    return \"\".join(s)"
   ]
  },
  {
   "cell_type": "code",
   "execution_count": 49,
   "metadata": {},
   "outputs": [
    {
     "data": {
      "text/plain": [
       "'j-Ih-gfE-dCba'"
      ]
     },
     "execution_count": 49,
     "metadata": {},
     "output_type": "execute_result"
    }
   ],
   "source": [
    "s = \"a-bC-dEf-ghIj\"\n",
    "reverseOnlyLetters(s)\n"
   ]
  },
  {
   "cell_type": "code",
   "execution_count": 65,
   "metadata": {},
   "outputs": [],
   "source": [
    "def moveZeroes(nums):\n",
    "    none_zero_index = 0\n",
    "    for i in range(len(nums)):\n",
    "        if nums[i] != 0:\n",
    "            nums[none_zero_index], nums[i] = nums[i], nums[none_zero_index]\n",
    "            none_zero_index += 1   \n",
    "\n",
    "    return nums\n",
    "\n",
    "        "
   ]
  },
  {
   "cell_type": "code",
   "execution_count": null,
   "metadata": {},
   "outputs": [],
   "source": []
  },
  {
   "cell_type": "code",
   "execution_count": 67,
   "metadata": {},
   "outputs": [
    {
     "data": {
      "text/plain": [
       "[1, 3, 12, 0, 0]"
      ]
     },
     "execution_count": 67,
     "metadata": {},
     "output_type": "execute_result"
    }
   ],
   "source": [
    "nums = [0,1,0,3,12]\n",
    "moveZeroes(nums)"
   ]
  },
  {
   "cell_type": "code",
   "execution_count": 89,
   "metadata": {},
   "outputs": [],
   "source": [
    "def reversePrefix(word, ch):\n",
    "    if ch not in word:\n",
    "    # If 'ch' is not in 'word', return the original word\n",
    "        return word\n",
    "    word = list(word)\n",
    "    l = 0\n",
    "    r = word.index(ch)\n",
    "    while l < r:\n",
    "        # temp = word[l]\n",
    "        # word[l] = word[r]\n",
    "        # word[r] = temp\n",
    "        word[l], word[r] = word[r], word[l]\n",
    "        l += 1\n",
    "        r -= 1\n",
    "    return \"\".join(word)\n"
   ]
  },
  {
   "cell_type": "code",
   "execution_count": 90,
   "metadata": {},
   "outputs": [
    {
     "data": {
      "text/plain": [
       "'zxyxxe'"
      ]
     },
     "execution_count": 90,
     "metadata": {},
     "output_type": "execute_result"
    }
   ],
   "source": [
    "word = \"xyxzxe\"\n",
    "reversePrefix(word, \"z\")"
   ]
  },
  {
   "cell_type": "code",
   "execution_count": 93,
   "metadata": {},
   "outputs": [],
   "source": [
    "def maxVowels(s, k):\n",
    "    s = list(s)\n",
    "    vowels = [\"a\", \"e\", \"o\", \"u\", \"i\"]\n",
    "\n",
    "    curr = 0\n",
    "    ans = 0\n",
    "    for i in range(k):\n",
    "        if s[i] in vowels:\n",
    "            curr += 1\n",
    "    ans = curr\n",
    "\n",
    "    for i in range(k, len(s)):\n",
    "        if s[i-k] in vowels:\n",
    "            curr -= 1\n",
    "        if s[i] in vowels:\n",
    "            curr += 1\n",
    "        ans = max(ans, curr)\n",
    "    return ans\n",
    "\n",
    "\n"
   ]
  },
  {
   "cell_type": "code",
   "execution_count": 94,
   "metadata": {},
   "outputs": [
    {
     "data": {
      "text/plain": [
       "3"
      ]
     },
     "execution_count": 94,
     "metadata": {},
     "output_type": "execute_result"
    }
   ],
   "source": [
    "s = \"abciiidef\"\n",
    "maxVowels(s, 3)"
   ]
  },
  {
   "cell_type": "code",
   "execution_count": 96,
   "metadata": {},
   "outputs": [],
   "source": [
    "def largestAltitude(gain):\n",
    "\n",
    "    prefix = [0]\n",
    "    for i in range(len(gain)):\n",
    "        prefix.append(gain[i] + prefix[len(prefix) - 1])\n",
    "    return max(prefix)"
   ]
  },
  {
   "cell_type": "code",
   "execution_count": 99,
   "metadata": {},
   "outputs": [
    {
     "data": {
      "text/plain": [
       "0"
      ]
     },
     "execution_count": 99,
     "metadata": {},
     "output_type": "execute_result"
    }
   ],
   "source": [
    "gain = [-4,-3,-2,-1,4,3,2]\n",
    "largestAltitude(gain)"
   ]
  },
  {
   "cell_type": "code",
   "execution_count": 122,
   "metadata": {},
   "outputs": [],
   "source": [
    "def pivotIndex(nums):\n",
    "    prefix = [nums[0]]\n",
    "    for i in range(1, len(nums)):\n",
    "        prefix.append(nums[i] + prefix[len(prefix) - 1])\n",
    "    left_sum = 0\n",
    "    right_sum = 0\n",
    "    for pivotIndex in range(len(prefix)):\n",
    "        left_sum = prefix[pivotIndex-1] if pivotIndex > 0 else 0\n",
    "        right_sum = prefix[len(prefix) - 1] - prefix[pivotIndex]\n",
    "        if left_sum == right_sum:\n",
    "            return pivotIndex\n",
    "    return -1\n",
    "\n",
    "\n",
    "\n"
   ]
  },
  {
   "cell_type": "code",
   "execution_count": 123,
   "metadata": {},
   "outputs": [
    {
     "data": {
      "text/plain": [
       "0"
      ]
     },
     "execution_count": 123,
     "metadata": {},
     "output_type": "execute_result"
    }
   ],
   "source": [
    "nums = [2,1,-1]\n",
    "pivotIndex(nums)"
   ]
  },
  {
   "cell_type": "code",
   "execution_count": 134,
   "metadata": {},
   "outputs": [],
   "source": [
    "def twoSum(nums, target):\n",
    "    my_dict = {}\n",
    "    \n",
    "    for i in range(len(nums)):\n",
    "        num = nums[i]\n",
    "        comp = target - num\n",
    "        \n",
    "        if comp in my_dict:\n",
    "            return[i, my_dict[comp]]\n",
    "        my_dict[num] = i\n",
    "\n",
    "    return [-1, -1]\n",
    "            "
   ]
  },
  {
   "cell_type": "code",
   "execution_count": 135,
   "metadata": {},
   "outputs": [
    {
     "data": {
      "text/plain": [
       "[3, 0]"
      ]
     },
     "execution_count": 135,
     "metadata": {},
     "output_type": "execute_result"
    }
   ],
   "source": [
    "nums = [5,2,7,3,7]\n",
    "twoSum(nums, 8)"
   ]
  },
  {
   "cell_type": "code",
   "execution_count": 136,
   "metadata": {},
   "outputs": [],
   "source": [
    "def checkIfPangram(sentence):\n",
    "    seen = set()\n",
    "    for c in sentence:\n",
    "        if c not in seen:\n",
    "            seen.add(c)\n",
    "    return len(seen) == 26\n",
    "    \n",
    " "
   ]
  },
  {
   "cell_type": "code",
   "execution_count": 138,
   "metadata": {},
   "outputs": [
    {
     "data": {
      "text/plain": [
       "True"
      ]
     },
     "execution_count": 138,
     "metadata": {},
     "output_type": "execute_result"
    }
   ],
   "source": [
    "sentence = \"thequickbrownfoxjumpsoverthelazydog\"\n",
    "checkIfPangram(sentence)"
   ]
  },
  {
   "cell_type": "code",
   "execution_count": 148,
   "metadata": {},
   "outputs": [],
   "source": [
    "def missingNumber(nums):\n",
    "    nums_set = set(nums)\n",
    "    sub_nums = set(range(len(nums)+1))\n",
    "    for num in sub_nums:\n",
    "        if num not in nums_set:\n",
    "            return num\n",
    "    return -1"
   ]
  },
  {
   "cell_type": "code",
   "execution_count": 149,
   "metadata": {},
   "outputs": [
    {
     "data": {
      "text/plain": [
       "8"
      ]
     },
     "execution_count": 149,
     "metadata": {},
     "output_type": "execute_result"
    }
   ],
   "source": [
    "nums = [9,6,4,2,3,5,7,0,1]\n",
    "missingNumber(nums)\n"
   ]
  },
  {
   "cell_type": "code",
   "execution_count": 167,
   "metadata": {},
   "outputs": [],
   "source": [
    "def countElements(arr):\n",
    "    md = {}\n",
    "    ans = 0\n",
    "    for i in range(len(arr)):\n",
    "        md[i] = arr[i]\n",
    "    for key , val in md.items():\n",
    "        if val+1 in md.values():\n",
    "            ans += 1\n",
    "    return ans\n",
    "\n",
    "\n",
    " "
   ]
  },
  {
   "cell_type": "code",
   "execution_count": 169,
   "metadata": {},
   "outputs": [
    {
     "data": {
      "text/plain": [
       "2"
      ]
     },
     "execution_count": 169,
     "metadata": {},
     "output_type": "execute_result"
    }
   ],
   "source": [
    "arr = [1,2,3]\n",
    "countElements(arr)"
   ]
  },
  {
   "cell_type": "code",
   "execution_count": 201,
   "metadata": {},
   "outputs": [],
   "source": [
    "from collections import defaultdict\n",
    "def findWinners(matches):\n",
    "    loss_count = defaultdict(int)\n",
    "    winners = set()\n",
    "    no_lost = []\n",
    "    one_lost = []\n",
    "    for winner, looser in matches:\n",
    "        winners.add(winner)\n",
    "        loss_count[looser] +=1\n",
    "    for player in winners:\n",
    "        if loss_count[player] == 0:\n",
    "            no_lost.append(player)\n",
    "    for player, losses in loss_count.items():\n",
    "        if losses == 1:\n",
    "            one_lost.append(player)\n",
    "            \n",
    "    return [sorted(no_lost), sorted(one_lost)]\n",
    "    "
   ]
  },
  {
   "cell_type": "code",
   "execution_count": 202,
   "metadata": {},
   "outputs": [
    {
     "data": {
      "text/plain": [
       "[[1, 2, 10], [4, 5, 7, 8]]"
      ]
     },
     "execution_count": 202,
     "metadata": {},
     "output_type": "execute_result"
    }
   ],
   "source": [
    "matches =[[1,3],[2,3],[3,6],[5,6],[5,7],[4,5],[4,8],[4,9],[10,4],[10,9]]\n",
    "findWinners(matches)"
   ]
  },
  {
   "cell_type": "code",
   "execution_count": 216,
   "metadata": {},
   "outputs": [],
   "source": [
    "def largestUniqueNumber(nums):\n",
    "    freq_dict = defaultdict(int)\n",
    "    non_repeated = []\n",
    "    for num in nums:\n",
    "        freq_dict[num] += 1\n",
    "    for num, freq in freq_dict.items():\n",
    "        if freq == 1:\n",
    "            non_repeated.append(num)\n",
    "\n",
    "\n",
    "    return max(non_repeated, default=None)"
   ]
  },
  {
   "cell_type": "code",
   "execution_count": 217,
   "metadata": {},
   "outputs": [
    {
     "data": {
      "text/plain": [
       "8"
      ]
     },
     "execution_count": 217,
     "metadata": {},
     "output_type": "execute_result"
    }
   ],
   "source": [
    "nums = [5,7,3,9,4,9,8,3,1]\n",
    "largestUniqueNumber(nums)\n"
   ]
  },
  {
   "cell_type": "code",
   "execution_count": 47,
   "metadata": {},
   "outputs": [],
   "source": [
    "from collections import defaultdict\n",
    "def maxNumberOfBalloons(text):\n",
    "    #creating balloon dict\n",
    "    word = \"balloon\"\n",
    "    balloon = defaultdict(int)\n",
    "    for char in word:\n",
    "        balloon[char] += 1\n",
    "\n",
    "    #creating balloon_freq_dict\n",
    "    \n",
    "    balloon_freq_dict = defaultdict(int)\n",
    "    for char in text:\n",
    "        if char in balloon:\n",
    "            balloon_freq_dict[char] += 1\n",
    "    \n",
    "    #validation\n",
    "    if len(balloon_freq_dict) < len(balloon):\n",
    "        return 0\n",
    "\n",
    "    return min(balloon_freq_dict[key] // balloon[key] for key in balloon)\n"
   ]
  },
  {
   "cell_type": "code",
   "execution_count": 48,
   "metadata": {},
   "outputs": [
    {
     "data": {
      "text/plain": [
       "0"
      ]
     },
     "execution_count": 48,
     "metadata": {},
     "output_type": "execute_result"
    }
   ],
   "source": [
    "text = \"balon\"\n",
    "maxNumberOfBalloons(text)"
   ]
  },
  {
   "cell_type": "code",
   "execution_count": 104,
   "metadata": {},
   "outputs": [],
   "source": [
    "def findMaxLength(nums):\n",
    "    count_indext_dict = defaultdict(int)\n",
    "    count_indext_dict[0] = -1  # Initialize for count 0\n",
    "    count = 0\n",
    "    max_lenght = 0\n",
    "    for right in range(len(nums)):\n",
    "        if nums[right] == 0:\n",
    "            count += -1\n",
    "        else:\n",
    "            count += 1\n",
    "        if count in count_indext_dict:\n",
    "            max_lenght = max(max_lenght, right - count_indext_dict[count])\n",
    "        else:\n",
    "            count_indext_dict[count] = right\n",
    "\n",
    "    return max_lenght\n",
    "\n",
    "\n",
    "\n",
    "    "
   ]
  },
  {
   "cell_type": "code",
   "execution_count": 105,
   "metadata": {},
   "outputs": [
    {
     "data": {
      "text/plain": [
       "4"
      ]
     },
     "execution_count": 105,
     "metadata": {},
     "output_type": "execute_result"
    }
   ],
   "source": [
    "nums = [0,1,0,1]\n",
    "findMaxLength(nums)"
   ]
  },
  {
   "cell_type": "code",
   "execution_count": 118,
   "metadata": {},
   "outputs": [],
   "source": [
    "from collections import defaultdict\n",
    "def canConstruct(ransomNote, magazine):\n",
    "    ransomNote_freq = defaultdict(int)\n",
    "    magazine_freq = defaultdict(int)\n",
    "\n",
    "    for ch in ransomNote:\n",
    "        ransomNote_freq[ch] += 1\n",
    "    for ch in magazine:\n",
    "        magazine_freq[ch] += 1\n",
    "    for ch, in ransomNote_freq:\n",
    "        if ransomNote_freq[ch] > magazine_freq[ch]:\n",
    "                return False\n",
    "    return True\n",
    "\n",
    "    \n"
   ]
  },
  {
   "cell_type": "code",
   "execution_count": 119,
   "metadata": {},
   "outputs": [
    {
     "data": {
      "text/plain": [
       "True"
      ]
     },
     "execution_count": 119,
     "metadata": {},
     "output_type": "execute_result"
    }
   ],
   "source": [
    "ransomNote = \"aa\"\n",
    "magazine = \"aab\"\n",
    "canConstruct(ransomNote, magazine)"
   ]
  },
  {
   "cell_type": "code",
   "execution_count": 133,
   "metadata": {},
   "outputs": [],
   "source": [
    "def numJewelsInStones(jewels, stones):\n",
    "    num_jewels = 0\n",
    "\n",
    "    stones_freq = defaultdict(int)\n",
    "    for ch in stones:\n",
    "        stones_freq[ch] += 1\n",
    "    \n",
    "    for ch in jewels:\n",
    "        num_jewels += stones_freq[ch]\n",
    "    return num_jewels\n"
   ]
  },
  {
   "cell_type": "code",
   "execution_count": 134,
   "metadata": {},
   "outputs": [
    {
     "data": {
      "text/plain": [
       "0"
      ]
     },
     "execution_count": 134,
     "metadata": {},
     "output_type": "execute_result"
    }
   ],
   "source": [
    "jewels = \"z\"\n",
    "stones = \"ZZ\"\n",
    "numJewelsInStones(jewels, stones)\n"
   ]
  },
  {
   "cell_type": "code",
   "execution_count": 146,
   "metadata": {},
   "outputs": [],
   "source": [
    "def lengthOfLongestSubstring(s):\n",
    "    ch_pos_dict = defaultdict(int)\n",
    "    longest = 0\n",
    "    left = 0\n",
    "\n",
    "    for right in range(len(s)):\n",
    "        if s[right] in ch_pos_dict and left <= ch_pos_dict[s[right]]:\n",
    "            left = ch_pos_dict[s[right]] + 1\n",
    "        ch_pos_dict[s[right]] = right\n",
    "        longest = max(longest, right - left+1)\n",
    "\n",
    "\n",
    "    return longest\n",
    "\n",
    "    "
   ]
  },
  {
   "cell_type": "code",
   "execution_count": 147,
   "metadata": {},
   "outputs": [
    {
     "data": {
      "text/plain": [
       "3"
      ]
     },
     "execution_count": 147,
     "metadata": {},
     "output_type": "execute_result"
    }
   ],
   "source": [
    "s = \"pwwkew\"\n",
    "lengthOfLongestSubstring(s)"
   ]
  }
 ],
 "metadata": {
  "kernelspec": {
   "display_name": "Python 3",
   "language": "python",
   "name": "python3"
  },
  "language_info": {
   "codemirror_mode": {
    "name": "ipython",
    "version": 3
   },
   "file_extension": ".py",
   "mimetype": "text/x-python",
   "name": "python",
   "nbconvert_exporter": "python",
   "pygments_lexer": "ipython3",
   "version": "3.11.4"
  }
 },
 "nbformat": 4,
 "nbformat_minor": 2
}
