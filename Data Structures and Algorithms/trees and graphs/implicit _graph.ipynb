{
 "cells": [
  {
   "cell_type": "markdown",
   "metadata": {},
   "source": [
    "# **Implicit graphs**"
   ]
  },
  {
   "cell_type": "markdown",
   "metadata": {},
   "source": [
    "When we first started looking at graphs, we talked about some common input formats for graphs (adjacency list, adjacency matrix, array of edges, matrix). The problems we have looked at so far have conformed to these input formats, which made it easier for us to identify that the problem should be modeled as a graph. Some problems explicitly told us we were dealing with a graph, while some had a story like \"cities connected by roads\". Regardless, the input format was usually a giveaway.\n",
    "\n",
    "Sometimes, a graph is more subtle. The input may look nothing like one of the formats we have talked about. Remember that a graph is any abstract collection of elements (nodes) connected by some abstract relationship (edges). If a problem involves transitioning between states, then try to think about if the states can be nodes and the transition criteria can be edges. Additionally, if the problem wants the shortest path or fewest operations etc., it is a great candidate for BFS. Let's look at some examples."
   ]
  },
  {
   "cell_type": "markdown",
   "metadata": {},
   "source": [
    "Example 1: 752. Open the Lock\n",
    "\n",
    "You have a lock with 4 circular wheels. Each wheel has the digits 0 to 9. The wheels rotate and wrap around - so 0 can turn to 9 and 9 can turn to 0. Initially, the lock reads \"0000\". One move consists of turning a wheel one slot. You are given an array of blocked codes deadends - if the lock reads any of these codes, then it can no longer turn. Return the minimum number of moves to make the lock read target."
   ]
  },
  {
   "cell_type": "markdown",
   "metadata": {},
   "source": [
    "In this problem, we can consider each lock state as a node. The edges are all nodes that differ by only one position by a value of 1. For example, \"5231\" and \"5331\" are neighbors. From here, we can just perform a simple BFS from \"0000\", with the one condition that we cannot visit any nodes in deadends. ForO(1) checking, let's turn deadends into a set before starting our BFS.\n",
    "\n",
    "To find the neighbors of a node, we can loop over each of the 4 slots, and each slot, increment and decrement the slot by 1. To handle the wrap-around case, we can use the modulo operator - decrement(x) = (x - 1) % 10 and increment(x) = (x + 1) % 10. This works because decrement(0) = 9 and increment(9) = 0."
   ]
  },
  {
   "cell_type": "markdown",
   "metadata": {},
   "source": [
    "    Just to be a bit cleaner, we can put all the blocked codes from deadends in seen before starting BFS instead of adding an additional if check for if a neighbor is in deadends."
   ]
  },
  {
   "cell_type": "code",
   "execution_count": 6,
   "metadata": {},
   "outputs": [
    {
     "data": {
      "text/plain": [
       "6"
      ]
     },
     "execution_count": 6,
     "metadata": {},
     "output_type": "execute_result"
    }
   ],
   "source": [
    "from queue import deque\n",
    "def openLock(deadends, target):\n",
    "    if \"0000\" in deadends:\n",
    "        return -1\n",
    "    def children(lock):\n",
    "        res = []\n",
    "        for i in range(4):\n",
    "            digit = str((int(lock[i]) + 1) % 10)\n",
    "            res.append(lock[:i] + digit + lock[i+1:])\n",
    "            digit = str((int(lock[i]) - 1 + 10) % 10)\n",
    "            res.append(lock[:i] + digit + lock[i+1:])\n",
    "        return res\n",
    "\n",
    "    q = deque()\n",
    "    q.append([\"0000\", 0]) # [lock, turn]\n",
    "    visit = set(deadends)\n",
    "    while q:\n",
    "        lock, turns = q.popleft()\n",
    "        if lock == target:\n",
    "            return turns\n",
    "        for child in children(lock):\n",
    "            if child not in visit:\n",
    "                visit.add(child)\n",
    "                q.append([child, turns+1])\n",
    "    return -1\n",
    "deadends = [\"0201\",\"0101\",\"0102\",\"1212\",\"2002\"]\n",
    "target = \"0202\"\n",
    "openLock(deadends, target)"
   ]
  },
  {
   "cell_type": "markdown",
   "metadata": {},
   "source": [
    "Example 2: 399. Evaluate Division\n",
    "\n",
    "You are given an array equations and a number array values of the same length. equations[i] = [x, y] represents x / y = values[i]. You are also given an array queries where queries[i] = [a, b] which represents the quotient a / b. Return an array answer where answer[i] is the answer to the i th query, or -1 if it cannot be determined."
   ]
  },
  {
   "cell_type": "markdown",
   "metadata": {},
   "source": []
  }
 ],
 "metadata": {
  "kernelspec": {
   "display_name": "Python 3",
   "language": "python",
   "name": "python3"
  },
  "language_info": {
   "codemirror_mode": {
    "name": "ipython",
    "version": 3
   },
   "file_extension": ".py",
   "mimetype": "text/x-python",
   "name": "python",
   "nbconvert_exporter": "python",
   "pygments_lexer": "ipython3",
   "version": "3.10.3"
  }
 },
 "nbformat": 4,
 "nbformat_minor": 2
}
