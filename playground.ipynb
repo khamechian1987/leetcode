{
 "cells": [
  {
   "cell_type": "code",
   "execution_count": 14,
   "metadata": {},
   "outputs": [],
   "source": [
    "def lengthOfLongestSubstring(s):\n",
    "    \"\"\"\n",
    "    :type s: str\n",
    "    :rtype: int\n",
    "    \"\"\"\n",
    "    seen = []\n",
    "    max_length = 0\n",
    "    for char in s:\n",
    "        while char in seen:\n",
    "            seen.pop(0)\n",
    "        seen.append(char)\n",
    "        max_length = max(max_length, len(seen))\n",
    "    return max_length"
   ]
  },
  {
   "cell_type": "code",
   "execution_count": 16,
   "metadata": {},
   "outputs": [],
   "source": [
    "s = \"pwwkew\"\n",
    "print(lengthOfLongestSubstring(s))"
   ]
  },
  {
   "cell_type": "code",
   "execution_count": 38,
   "metadata": {},
   "outputs": [],
   "source": [
    "def threeSum(nums):\n",
    "    nums.sort()\n",
    "    distinct_triplets = []\n",
    "    for i in range(len(nums) - 2):\n",
    "        if i > 0 and nums[i] == nums[i-1]: # to not have duplicate in triplets\n",
    "            continue\n",
    "\n",
    "        l = i +1\n",
    "        r = len(nums) - 1\n",
    "        while l < r:\n",
    "            total = nums[i] + nums[l] + nums[r]\n",
    "            if total < 0:\n",
    "                l += 1\n",
    "            elif total > 0:\n",
    "                r -= 1\n",
    "            else:\n",
    "                distinct_triplets.append([nums[i], nums[l], nums[r]])\n",
    "                while l < r and nums[l] == nums[l+1]:\n",
    "                    l += 1\n",
    "                while l < r and nums[r] == nums[r-1]:\n",
    "                    r -= 1\n",
    "                l += 1\n",
    "                r -= 1\n",
    "                \n",
    "            \n",
    "    return distinct_triplets"
   ]
  },
  {
   "cell_type": "code",
   "execution_count": 39,
   "metadata": {},
   "outputs": [
    {
     "data": {
      "text/plain": [
       "[[-1, -1, 2], [-1, 0, 1]]"
      ]
     },
     "execution_count": 39,
     "metadata": {},
     "output_type": "execute_result"
    }
   ],
   "source": [
    "nums = [-1,0,1,2,-1]\n",
    "threeSum(nums)\n"
   ]
  },
  {
   "cell_type": "code",
   "execution_count": 37,
   "metadata": {},
   "outputs": [],
   "source": [
    "def revers_word(s):\n",
    "    s = s.split()\n",
    "    ans = []\n",
    "\n",
    "    for word in s:\n",
    "        left = 0\n",
    "        right = len(word) - 1\n",
    "        word = list(word)\n",
    "        while left<right:\n",
    "            temp = word[right]\n",
    "            word[right] = word[left]\n",
    "            word[left] = temp\n",
    "            left += 1\n",
    "            right -= 1\n",
    "        word = \"\".join(word)\n",
    "        ans.append(word)\n",
    "      \n",
    "    return \" \".join(ans)\n"
   ]
  },
  {
   "cell_type": "code",
   "execution_count": 38,
   "metadata": {},
   "outputs": [
    {
     "data": {
      "text/plain": [
       "\"s'teL ekat edoCteeL tsetnoc\""
      ]
     },
     "execution_count": 38,
     "metadata": {},
     "output_type": "execute_result"
    }
   ],
   "source": [
    "s = \"Let's take LeetCode contest\"\n",
    "revers_word(s)"
   ]
  },
  {
   "cell_type": "code",
   "execution_count": 48,
   "metadata": {},
   "outputs": [],
   "source": [
    "def reverseOnlyLetters(s):\n",
    "    left = 0\n",
    "    right = len(s) - 1\n",
    "    s = list(s)\n",
    "    ans = []\n",
    "    while left<right:\n",
    "        if s[left].isalpha() and s[right].isalpha():\n",
    "            temp = s[right]\n",
    "            s[right] = s[left]\n",
    "            s[left] = temp\n",
    "            left += 1\n",
    "            right -= 1\n",
    "        elif not s[left].isalpha():\n",
    "            left += 1\n",
    "        else:\n",
    "            right -= 1 \n",
    "    return \"\".join(s)"
   ]
  },
  {
   "cell_type": "code",
   "execution_count": 49,
   "metadata": {},
   "outputs": [
    {
     "data": {
      "text/plain": [
       "'j-Ih-gfE-dCba'"
      ]
     },
     "execution_count": 49,
     "metadata": {},
     "output_type": "execute_result"
    }
   ],
   "source": [
    "s = \"a-bC-dEf-ghIj\"\n",
    "reverseOnlyLetters(s)\n"
   ]
  },
  {
   "cell_type": "code",
   "execution_count": 65,
   "metadata": {},
   "outputs": [],
   "source": [
    "def moveZeroes(nums):\n",
    "    none_zero_index = 0\n",
    "    for i in range(len(nums)):\n",
    "        if nums[i] != 0:\n",
    "            nums[none_zero_index], nums[i] = nums[i], nums[none_zero_index]\n",
    "            none_zero_index += 1   \n",
    "\n",
    "    return nums\n",
    "\n",
    "        "
   ]
  },
  {
   "cell_type": "code",
   "execution_count": null,
   "metadata": {},
   "outputs": [],
   "source": []
  },
  {
   "cell_type": "code",
   "execution_count": 67,
   "metadata": {},
   "outputs": [
    {
     "data": {
      "text/plain": [
       "[1, 3, 12, 0, 0]"
      ]
     },
     "execution_count": 67,
     "metadata": {},
     "output_type": "execute_result"
    }
   ],
   "source": [
    "nums = [0,1,0,3,12]\n",
    "moveZeroes(nums)"
   ]
  },
  {
   "cell_type": "code",
   "execution_count": 89,
   "metadata": {},
   "outputs": [],
   "source": [
    "def reversePrefix(word, ch):\n",
    "    if ch not in word:\n",
    "    # If 'ch' is not in 'word', return the original word\n",
    "        return word\n",
    "    word = list(word)\n",
    "    l = 0\n",
    "    r = word.index(ch)\n",
    "    while l < r:\n",
    "        # temp = word[l]\n",
    "        # word[l] = word[r]\n",
    "        # word[r] = temp\n",
    "        word[l], word[r] = word[r], word[l]\n",
    "        l += 1\n",
    "        r -= 1\n",
    "    return \"\".join(word)\n"
   ]
  },
  {
   "cell_type": "code",
   "execution_count": 90,
   "metadata": {},
   "outputs": [
    {
     "data": {
      "text/plain": [
       "'zxyxxe'"
      ]
     },
     "execution_count": 90,
     "metadata": {},
     "output_type": "execute_result"
    }
   ],
   "source": [
    "word = \"xyxzxe\"\n",
    "reversePrefix(word, \"z\")"
   ]
  },
  {
   "cell_type": "code",
   "execution_count": 93,
   "metadata": {},
   "outputs": [],
   "source": [
    "def maxVowels(s, k):\n",
    "    s = list(s)\n",
    "    vowels = [\"a\", \"e\", \"o\", \"u\", \"i\"]\n",
    "\n",
    "    curr = 0\n",
    "    ans = 0\n",
    "    for i in range(k):\n",
    "        if s[i] in vowels:\n",
    "            curr += 1\n",
    "    ans = curr\n",
    "\n",
    "    for i in range(k, len(s)):\n",
    "        if s[i-k] in vowels:\n",
    "            curr -= 1\n",
    "        if s[i] in vowels:\n",
    "            curr += 1\n",
    "        ans = max(ans, curr)\n",
    "    return ans\n",
    "\n",
    "\n"
   ]
  },
  {
   "cell_type": "code",
   "execution_count": 94,
   "metadata": {},
   "outputs": [
    {
     "data": {
      "text/plain": [
       "3"
      ]
     },
     "execution_count": 94,
     "metadata": {},
     "output_type": "execute_result"
    }
   ],
   "source": [
    "s = \"abciiidef\"\n",
    "maxVowels(s, 3)"
   ]
  },
  {
   "cell_type": "code",
   "execution_count": 96,
   "metadata": {},
   "outputs": [],
   "source": [
    "def largestAltitude(gain):\n",
    "\n",
    "    prefix = [0]\n",
    "    for i in range(len(gain)):\n",
    "        prefix.append(gain[i] + prefix[len(prefix) - 1])\n",
    "    return max(prefix)"
   ]
  },
  {
   "cell_type": "code",
   "execution_count": 99,
   "metadata": {},
   "outputs": [
    {
     "data": {
      "text/plain": [
       "0"
      ]
     },
     "execution_count": 99,
     "metadata": {},
     "output_type": "execute_result"
    }
   ],
   "source": [
    "gain = [-4,-3,-2,-1,4,3,2]\n",
    "largestAltitude(gain)"
   ]
  },
  {
   "cell_type": "code",
   "execution_count": 122,
   "metadata": {},
   "outputs": [],
   "source": [
    "def pivotIndex(nums):\n",
    "    prefix = [nums[0]]\n",
    "    for i in range(1, len(nums)):\n",
    "        prefix.append(nums[i] + prefix[len(prefix) - 1])\n",
    "    left_sum = 0\n",
    "    right_sum = 0\n",
    "    for pivotIndex in range(len(prefix)):\n",
    "        left_sum = prefix[pivotIndex-1] if pivotIndex > 0 else 0\n",
    "        right_sum = prefix[len(prefix) - 1] - prefix[pivotIndex]\n",
    "        if left_sum == right_sum:\n",
    "            return pivotIndex\n",
    "    return -1\n",
    "\n",
    "\n",
    "\n"
   ]
  },
  {
   "cell_type": "code",
   "execution_count": 123,
   "metadata": {},
   "outputs": [
    {
     "data": {
      "text/plain": [
       "0"
      ]
     },
     "execution_count": 123,
     "metadata": {},
     "output_type": "execute_result"
    }
   ],
   "source": [
    "nums = [2,1,-1]\n",
    "pivotIndex(nums)"
   ]
  },
  {
   "cell_type": "code",
   "execution_count": 134,
   "metadata": {},
   "outputs": [],
   "source": [
    "def twoSum(nums, target):\n",
    "    my_dict = {}\n",
    "    \n",
    "    for i in range(len(nums)):\n",
    "        num = nums[i]\n",
    "        comp = target - num\n",
    "        \n",
    "        if comp in my_dict:\n",
    "            return[i, my_dict[comp]]\n",
    "        my_dict[num] = i\n",
    "\n",
    "    return [-1, -1]\n",
    "            "
   ]
  },
  {
   "cell_type": "code",
   "execution_count": 135,
   "metadata": {},
   "outputs": [
    {
     "data": {
      "text/plain": [
       "[3, 0]"
      ]
     },
     "execution_count": 135,
     "metadata": {},
     "output_type": "execute_result"
    }
   ],
   "source": [
    "nums = [5,2,7,3,7]\n",
    "twoSum(nums, 8)"
   ]
  },
  {
   "cell_type": "code",
   "execution_count": 136,
   "metadata": {},
   "outputs": [],
   "source": [
    "def checkIfPangram(sentence):\n",
    "    seen = set()\n",
    "    for c in sentence:\n",
    "        if c not in seen:\n",
    "            seen.add(c)\n",
    "    return len(seen) == 26\n",
    "    \n",
    " "
   ]
  },
  {
   "cell_type": "code",
   "execution_count": 138,
   "metadata": {},
   "outputs": [
    {
     "data": {
      "text/plain": [
       "True"
      ]
     },
     "execution_count": 138,
     "metadata": {},
     "output_type": "execute_result"
    }
   ],
   "source": [
    "sentence = \"thequickbrownfoxjumpsoverthelazydog\"\n",
    "checkIfPangram(sentence)"
   ]
  },
  {
   "cell_type": "code",
   "execution_count": 148,
   "metadata": {},
   "outputs": [],
   "source": [
    "def missingNumber(nums):\n",
    "    nums_set = set(nums)\n",
    "    sub_nums = set(range(len(nums)+1))\n",
    "    for num in sub_nums:\n",
    "        if num not in nums_set:\n",
    "            return num\n",
    "    return -1"
   ]
  },
  {
   "cell_type": "code",
   "execution_count": 149,
   "metadata": {},
   "outputs": [
    {
     "data": {
      "text/plain": [
       "8"
      ]
     },
     "execution_count": 149,
     "metadata": {},
     "output_type": "execute_result"
    }
   ],
   "source": [
    "nums = [9,6,4,2,3,5,7,0,1]\n",
    "missingNumber(nums)\n"
   ]
  },
  {
   "cell_type": "code",
   "execution_count": 167,
   "metadata": {},
   "outputs": [],
   "source": [
    "def countElements(arr):\n",
    "    md = {}\n",
    "    ans = 0\n",
    "    for i in range(len(arr)):\n",
    "        md[i] = arr[i]\n",
    "    for key , val in md.items():\n",
    "        if val+1 in md.values():\n",
    "            ans += 1\n",
    "    return ans\n",
    "\n",
    "\n",
    " "
   ]
  },
  {
   "cell_type": "code",
   "execution_count": 169,
   "metadata": {},
   "outputs": [
    {
     "data": {
      "text/plain": [
       "2"
      ]
     },
     "execution_count": 169,
     "metadata": {},
     "output_type": "execute_result"
    }
   ],
   "source": [
    "arr = [1,2,3]\n",
    "countElements(arr)"
   ]
  },
  {
   "cell_type": "code",
   "execution_count": 201,
   "metadata": {},
   "outputs": [],
   "source": [
    "from collections import defaultdict\n",
    "def findWinners(matches):\n",
    "    loss_count = defaultdict(int)\n",
    "    winners = set()\n",
    "    no_lost = []\n",
    "    one_lost = []\n",
    "    for winner, looser in matches:\n",
    "        winners.add(winner)\n",
    "        loss_count[looser] +=1\n",
    "    for player in winners:\n",
    "        if loss_count[player] == 0:\n",
    "            no_lost.append(player)\n",
    "    for player, losses in loss_count.items():\n",
    "        if losses == 1:\n",
    "            one_lost.append(player)\n",
    "            \n",
    "    return [sorted(no_lost), sorted(one_lost)]\n",
    "    "
   ]
  },
  {
   "cell_type": "code",
   "execution_count": 202,
   "metadata": {},
   "outputs": [
    {
     "data": {
      "text/plain": [
       "[[1, 2, 10], [4, 5, 7, 8]]"
      ]
     },
     "execution_count": 202,
     "metadata": {},
     "output_type": "execute_result"
    }
   ],
   "source": [
    "matches =[[1,3],[2,3],[3,6],[5,6],[5,7],[4,5],[4,8],[4,9],[10,4],[10,9]]\n",
    "findWinners(matches)"
   ]
  },
  {
   "cell_type": "code",
   "execution_count": 216,
   "metadata": {},
   "outputs": [],
   "source": [
    "def largestUniqueNumber(nums):\n",
    "    freq_dict = defaultdict(int)\n",
    "    non_repeated = []\n",
    "    for num in nums:\n",
    "        freq_dict[num] += 1\n",
    "    for num, freq in freq_dict.items():\n",
    "        if freq == 1:\n",
    "            non_repeated.append(num)\n",
    "\n",
    "\n",
    "    return max(non_repeated, default=None)"
   ]
  },
  {
   "cell_type": "code",
   "execution_count": 217,
   "metadata": {},
   "outputs": [
    {
     "data": {
      "text/plain": [
       "8"
      ]
     },
     "execution_count": 217,
     "metadata": {},
     "output_type": "execute_result"
    }
   ],
   "source": [
    "nums = [5,7,3,9,4,9,8,3,1]\n",
    "largestUniqueNumber(nums)\n"
   ]
  },
  {
   "cell_type": "code",
   "execution_count": 47,
   "metadata": {},
   "outputs": [],
   "source": [
    "from collections import defaultdict\n",
    "def maxNumberOfBalloons(text):\n",
    "    #creating balloon dict\n",
    "    word = \"balloon\"\n",
    "    balloon = defaultdict(int)\n",
    "    for char in word:\n",
    "        balloon[char] += 1\n",
    "\n",
    "    #creating balloon_freq_dict\n",
    "    \n",
    "    balloon_freq_dict = defaultdict(int)\n",
    "    for char in text:\n",
    "        if char in balloon:\n",
    "            balloon_freq_dict[char] += 1\n",
    "    \n",
    "    #validation\n",
    "    if len(balloon_freq_dict) < len(balloon):\n",
    "        return 0\n",
    "\n",
    "    return min(balloon_freq_dict[key] // balloon[key] for key in balloon)\n"
   ]
  },
  {
   "cell_type": "code",
   "execution_count": 48,
   "metadata": {},
   "outputs": [
    {
     "data": {
      "text/plain": [
       "0"
      ]
     },
     "execution_count": 48,
     "metadata": {},
     "output_type": "execute_result"
    }
   ],
   "source": [
    "text = \"balon\"\n",
    "maxNumberOfBalloons(text)"
   ]
  },
  {
   "cell_type": "code",
   "execution_count": 104,
   "metadata": {},
   "outputs": [],
   "source": [
    "def findMaxLength(nums):\n",
    "    count_indext_dict = defaultdict(int)\n",
    "    count_indext_dict[0] = -1  # Initialize for count 0\n",
    "    count = 0\n",
    "    max_lenght = 0\n",
    "    for right in range(len(nums)):\n",
    "        if nums[right] == 0:\n",
    "            count += -1\n",
    "        else:\n",
    "            count += 1\n",
    "        if count in count_indext_dict:\n",
    "            max_lenght = max(max_lenght, right - count_indext_dict[count])\n",
    "        else:\n",
    "            count_indext_dict[count] = right\n",
    "\n",
    "    return max_lenght\n",
    "\n",
    "\n",
    "\n",
    "    "
   ]
  },
  {
   "cell_type": "code",
   "execution_count": 105,
   "metadata": {},
   "outputs": [
    {
     "data": {
      "text/plain": [
       "4"
      ]
     },
     "execution_count": 105,
     "metadata": {},
     "output_type": "execute_result"
    }
   ],
   "source": [
    "nums = [0,1,0,1]\n",
    "findMaxLength(nums)"
   ]
  },
  {
   "cell_type": "code",
   "execution_count": 118,
   "metadata": {},
   "outputs": [],
   "source": [
    "from collections import defaultdict\n",
    "def canConstruct(ransomNote, magazine):\n",
    "    ransomNote_freq = defaultdict(int)\n",
    "    magazine_freq = defaultdict(int)\n",
    "\n",
    "    for ch in ransomNote:\n",
    "        ransomNote_freq[ch] += 1\n",
    "    for ch in magazine:\n",
    "        magazine_freq[ch] += 1\n",
    "    for ch, in ransomNote_freq:\n",
    "        if ransomNote_freq[ch] > magazine_freq[ch]:\n",
    "                return False\n",
    "    return True\n",
    "\n",
    "    \n"
   ]
  },
  {
   "cell_type": "code",
   "execution_count": 119,
   "metadata": {},
   "outputs": [
    {
     "data": {
      "text/plain": [
       "True"
      ]
     },
     "execution_count": 119,
     "metadata": {},
     "output_type": "execute_result"
    }
   ],
   "source": [
    "ransomNote = \"aa\"\n",
    "magazine = \"aab\"\n",
    "canConstruct(ransomNote, magazine)"
   ]
  },
  {
   "cell_type": "code",
   "execution_count": 133,
   "metadata": {},
   "outputs": [],
   "source": [
    "def numJewelsInStones(jewels, stones):\n",
    "    num_jewels = 0\n",
    "\n",
    "    stones_freq = defaultdict(int)\n",
    "    for ch in stones:\n",
    "        stones_freq[ch] += 1\n",
    "    \n",
    "    for ch in jewels:\n",
    "        num_jewels += stones_freq[ch]\n",
    "    return num_jewels\n"
   ]
  },
  {
   "cell_type": "code",
   "execution_count": 134,
   "metadata": {},
   "outputs": [
    {
     "data": {
      "text/plain": [
       "0"
      ]
     },
     "execution_count": 134,
     "metadata": {},
     "output_type": "execute_result"
    }
   ],
   "source": [
    "jewels = \"z\"\n",
    "stones = \"ZZ\"\n",
    "numJewelsInStones(jewels, stones)\n"
   ]
  },
  {
   "cell_type": "code",
   "execution_count": 146,
   "metadata": {},
   "outputs": [],
   "source": [
    "def lengthOfLongestSubstring(s):\n",
    "    ch_pos_dict = defaultdict(int)\n",
    "    longest = 0\n",
    "    left = 0\n",
    "\n",
    "    for right in range(len(s)):\n",
    "        if s[right] in ch_pos_dict and left <= ch_pos_dict[s[right]]:\n",
    "            left = ch_pos_dict[s[right]] + 1\n",
    "        ch_pos_dict[s[right]] = right\n",
    "        longest = max(longest, right - left+1)\n",
    "\n",
    "\n",
    "    return longest\n",
    "\n",
    "    "
   ]
  },
  {
   "cell_type": "code",
   "execution_count": 147,
   "metadata": {},
   "outputs": [
    {
     "data": {
      "text/plain": [
       "3"
      ]
     },
     "execution_count": 147,
     "metadata": {},
     "output_type": "execute_result"
    }
   ],
   "source": [
    "s = \"pwwkew\"\n",
    "lengthOfLongestSubstring(s)"
   ]
  },
  {
   "cell_type": "code",
   "execution_count": 154,
   "metadata": {},
   "outputs": [],
   "source": [
    "def containsDuplicate(nums):\n",
    "    freq = defaultdict(int)\n",
    "    for num in nums:\n",
    "        freq[num] += 1\n",
    "    for val in freq.values():\n",
    "        if val >= 2:\n",
    "            return True\n",
    "    else:\n",
    "        return False\n"
   ]
  },
  {
   "cell_type": "code",
   "execution_count": 155,
   "metadata": {},
   "outputs": [
    {
     "data": {
      "text/plain": [
       "0"
      ]
     },
     "execution_count": 155,
     "metadata": {},
     "output_type": "execute_result"
    }
   ],
   "source": [
    "nums = [1,2,3,1]\n",
    "containsDuplicate(nums)"
   ]
  },
  {
   "cell_type": "code",
   "execution_count": 158,
   "metadata": {},
   "outputs": [],
   "source": [
    "def destCity(paths):\n",
    "    path_dict = defaultdict(int)\n",
    "    for path in paths:\n",
    "        path_dict[path[0]] = path[1]\n",
    "    for val in path_dict.values():\n",
    "        if val not in path_dict.keys():\n",
    "            return val\n",
    "\n",
    " "
   ]
  },
  {
   "cell_type": "code",
   "execution_count": 159,
   "metadata": {},
   "outputs": [
    {
     "data": {
      "text/plain": [
       "'Sao Paulo'"
      ]
     },
     "execution_count": 159,
     "metadata": {},
     "output_type": "execute_result"
    }
   ],
   "source": [
    "paths = [[\"London\",\"New York\"],[\"New York\",\"Lima\"],[\"Lima\",\"Sao Paulo\"]]\n",
    "destCity(paths)"
   ]
  },
  {
   "cell_type": "code",
   "execution_count": 246,
   "metadata": {},
   "outputs": [],
   "source": [
    "def isPathCrossing(path):\n",
    "    x,y = 0, 0\n",
    "    visited = {(x, y)}\n",
    "    for ch in path:\n",
    "        if ch == \"N\":\n",
    "            y+=1\n",
    "        elif ch == \"S\":\n",
    "            y-=1\n",
    "        elif ch == \"E\":\n",
    "            x+=1\n",
    "        elif ch == \"W\":\n",
    "            x-=1\n",
    "        if (x , y) in visited:\n",
    "            return True\n",
    "        visited.add((x,y))\n",
    "\n",
    "    return False\n",
    "    \n",
    "    \n",
    "        \n"
   ]
  },
  {
   "cell_type": "code",
   "execution_count": 247,
   "metadata": {},
   "outputs": [
    {
     "data": {
      "text/plain": [
       "False"
      ]
     },
     "execution_count": 247,
     "metadata": {},
     "output_type": "execute_result"
    }
   ],
   "source": [
    "path = \"NES\"\n",
    "isPathCrossing(path)"
   ]
  },
  {
   "cell_type": "code",
   "execution_count": null,
   "metadata": {},
   "outputs": [],
   "source": [
    "def sumOfUnique(nums):\n",
    "    freq = defaultdict(int)\n",
    "    unique_sum =0\n",
    "    for num in nums:\n",
    "        freq[num] +=1\n",
    "    for key , val in freq.items():\n",
    "        if val == 1:\n",
    "            unique_sum += key\n",
    "    return unique_sum\n"
   ]
  },
  {
   "cell_type": "code",
   "execution_count": 261,
   "metadata": {},
   "outputs": [],
   "source": [
    "def maxFrequencyElements(nums):\n",
    "    num_freq = defaultdict(int)\n",
    "    ans = 0\n",
    "    for num in nums:\n",
    "        num_freq[num] += 1\n",
    "    max_freq = max(num_freq.values())\n",
    "\n",
    "    for val in num_freq.values():\n",
    "        if val == max_freq:\n",
    "            ans += val\n",
    "    return ans\n"
   ]
  },
  {
   "cell_type": "code",
   "execution_count": 263,
   "metadata": {},
   "outputs": [
    {
     "data": {
      "text/plain": [
       "5"
      ]
     },
     "execution_count": 263,
     "metadata": {},
     "output_type": "execute_result"
    }
   ],
   "source": [
    "nums = [1,2,3,4,5]\n",
    "maxFrequencyElements(nums)"
   ]
  },
  {
   "cell_type": "code",
   "execution_count": 285,
   "metadata": {},
   "outputs": [],
   "source": [
    "def findLucky(arr):\n",
    "    pos_val_dict = defaultdict(int)\n",
    "    lucky_num = -1\n",
    "    for i in range(len(arr)):\n",
    "        pos_val_dict[arr[i]] += 1\n",
    "    print(pos_val_dict)\n",
    "    for key, val in pos_val_dict.items():\n",
    "        if key == val:\n",
    "            lucky_num = max(lucky_num, key)\n",
    "    return lucky_num\n"
   ]
  },
  {
   "cell_type": "code",
   "execution_count": 286,
   "metadata": {},
   "outputs": [
    {
     "name": "stdout",
     "output_type": "stream",
     "text": [
      "defaultdict(<class 'int'>, {1: 1, 2: 2, 3: 3})\n"
     ]
    },
    {
     "data": {
      "text/plain": [
       "3"
      ]
     },
     "execution_count": 286,
     "metadata": {},
     "output_type": "execute_result"
    }
   ],
   "source": [
    "arr = [1,2,2,3,3,3]\n",
    "findLucky(arr)"
   ]
  },
  {
   "cell_type": "code",
   "execution_count": 292,
   "metadata": {},
   "outputs": [],
   "source": [
    "def uniqueOccurrences(arr):\n",
    "    num_freq_dict = defaultdict(int)\n",
    "    for num in arr:\n",
    "        num_freq_dict[num] += 1\n",
    "    seen = set()\n",
    "    for val in num_freq_dict.values():\n",
    "        if val not in seen:\n",
    "            seen.add(val)\n",
    "    return len(num_freq_dict) == len(seen)\n",
    "\n",
    "    "
   ]
  },
  {
   "cell_type": "code",
   "execution_count": 294,
   "metadata": {},
   "outputs": [
    {
     "data": {
      "text/plain": [
       "False"
      ]
     },
     "execution_count": 294,
     "metadata": {},
     "output_type": "execute_result"
    }
   ],
   "source": [
    "arr = [1,2]\n",
    "uniqueOccurrences(arr)"
   ]
  },
  {
   "cell_type": "code",
   "execution_count": 309,
   "metadata": {},
   "outputs": [],
   "source": [
    "def wordPattern(pattern, s):\n",
    "    pat_pos_dict = defaultdict(list)\n",
    "    for i in range(len(pattern)):\n",
    "        pat_pos_dict[pattern[i]].append(i)\n",
    "    s= s.split()\n",
    "    # print(s)\n",
    "\n",
    "    s_pos_dict = defaultdict(list)\n",
    "    for i in range(len(s)):\n",
    "        s_pos_dict[s[i]].append(i)\n",
    "    # print(s_pos_dict)\n",
    "    for val in pat_pos_dict.values():\n",
    "        if val not in s_pos_dict.values():\n",
    "            return False\n",
    "    return True\n"
   ]
  },
  {
   "cell_type": "code",
   "execution_count": 311,
   "metadata": {},
   "outputs": [
    {
     "data": {
      "text/plain": [
       "False"
      ]
     },
     "execution_count": 311,
     "metadata": {},
     "output_type": "execute_result"
    }
   ],
   "source": [
    "pattern = \"abba\"\n",
    "s = \"dog cat cat fish\"\n",
    "\n",
    "wordPattern(pattern, s)"
   ]
  },
  {
   "cell_type": "code",
   "execution_count": 319,
   "metadata": {},
   "outputs": [],
   "source": [
    "def isIsomorphic(s, t):\n",
    "    s_pos_dict = defaultdict(list)\n",
    "    for i in range(len(s)):\n",
    "        s_pos_dict[s[i]].append(i)\n",
    "    t_pos_dict = defaultdict(list)\n",
    "    for i in range(len(t)):\n",
    "        t_pos_dict[t[i]].append(i)\n",
    "    \n",
    "    for val in s_pos_dict.values():\n",
    "        if val not in t_pos_dict.values():\n",
    "            return False\n",
    "    return True \n"
   ]
  },
  {
   "cell_type": "code",
   "execution_count": 321,
   "metadata": {},
   "outputs": [
    {
     "name": "stdout",
     "output_type": "stream",
     "text": [
      "defaultdict(<class 'list'>, {'t': [0, 2], 'i': [1], 'l': [3], 'e': [4]})\n"
     ]
    },
    {
     "data": {
      "text/plain": [
       "True"
      ]
     },
     "execution_count": 321,
     "metadata": {},
     "output_type": "execute_result"
    }
   ],
   "source": [
    "s = \"paper\"\n",
    "t = \"title\"\n",
    "isIsomorphic(s, t)\n"
   ]
  },
  {
   "cell_type": "code",
   "execution_count": 403,
   "metadata": {},
   "outputs": [],
   "source": [
    "def numSubarraysWithSum(nums, goal):\n",
    "    sum_freq_dict = defaultdict(int)\n",
    "    sum_freq_dict[0] = 1\n",
    "    ans = 0\n",
    "    prefix_sum = 0\n",
    "    for num in nums:\n",
    "        prefix_sum += num\n",
    "        ans += sum_freq_dict[prefix_sum - goal]\n",
    "        sum_freq_dict[prefix_sum] += 1\n",
    "    return ans\n",
    "\n"
   ]
  },
  {
   "cell_type": "code",
   "execution_count": 432,
   "metadata": {},
   "outputs": [],
   "source": [
    "def premutaion(s):\n",
    "    if len(s) == 1:\n",
    "        return [s]\n",
    "    ans = []\n",
    "    for i in range(len(s)):\n",
    "        for perm in self.premutaion(s[:i] + s[i+1:]):\n",
    "            ans.append(s[i] + perm)\n",
    "    return ans\n",
    "\n",
    "def checkInclusion(s1, s2):\n",
    "    perms = self.premutaion(s1)\n",
    "    for perm in perms:\n",
    "        if perm in s2:\n",
    "            return True\n",
    "    return False"
   ]
  },
  {
   "cell_type": "code",
   "execution_count": 434,
   "metadata": {},
   "outputs": [
    {
     "data": {
      "text/plain": [
       "False"
      ]
     },
     "execution_count": 434,
     "metadata": {},
     "output_type": "execute_result"
    }
   ],
   "source": [
    "s1 = \"ab\"\n",
    "s2 = \"eidboaoo\"\n",
    "\n",
    "checkInclusion(s1, s2)\n"
   ]
  },
  {
   "cell_type": "code",
   "execution_count": 470,
   "metadata": {},
   "outputs": [],
   "source": [
    "def checkInclusion(s1, s2):\n",
    "        L=len(s1)\n",
    "        dic_s2=defaultdict(int)\n",
    "        dic_s1=defaultdict(int)\n",
    "        \n",
    "        # edge case \n",
    "        if len(s2)<L:\n",
    "            return False\n",
    "        \n",
    "        #freq dict of s1\n",
    "        for char in s1:\n",
    "            dic_s1[char]+=1\n",
    "\n",
    "        #freq dict of first L elements of s2\n",
    "        for i in range(L):\n",
    "            dic_s2[s2[i]]+=1\n",
    "\n",
    "        #if they are equal the it is a permutation\n",
    "        if dic_s2==dic_s1:\n",
    "                return True\n",
    "        \n",
    "        #sliding window\n",
    "        l=0\n",
    "        for r in range(L,len(s2)):\n",
    "            dic_s2[s2[l]]-=1\n",
    "            if dic_s2[s2[l]] == 0:\n",
    "                 del dic_s2[s2[l]]\n",
    "            l+=1\n",
    "            dic_s2[s2[r]]+=1\n",
    "            if dic_s2==dic_s1:\n",
    "                return True \n",
    "        return False\n"
   ]
  },
  {
   "cell_type": "code",
   "execution_count": 471,
   "metadata": {},
   "outputs": [
    {
     "data": {
      "text/plain": [
       "True"
      ]
     },
     "execution_count": 471,
     "metadata": {},
     "output_type": "execute_result"
    }
   ],
   "source": [
    "s1 = \"ab\"\n",
    "s2 = \"eidbaooo\"\n",
    "checkInclusion(s1, s2)"
   ]
  },
  {
   "cell_type": "code",
   "execution_count": 609,
   "metadata": {},
   "outputs": [],
   "source": [
    "def checkInclusion2(s1, s2):\n",
    "    s1_count = defaultdict(int)\n",
    "    L = len(s1)\n",
    "    for ch in s1:\n",
    "        s1_count[ch] += 1\n",
    "    s2_count = defaultdict(int)\n",
    "    for i in range(len(s1)):\n",
    "        s2_count[s2[i]] += 1\n",
    "\n",
    "    if s1_count == s2_count:\n",
    "        return True\n",
    "    \n",
    "    left = \n",
    "    for right in range(L, len(s2)):\n",
    "        s2_count[s2[right]] += 1\n",
    "        left_ch = s2[right - L]\n",
    "        s2_count[left_ch] -= 1\n",
    "        if s2_count[left_ch] == 0:\n",
    "            del s2_count[left_ch]\n",
    "        if s1_count == s2_count:\n",
    "            return True\n",
    "\n",
    "        \n",
    "    return False\n"
   ]
  },
  {
   "cell_type": "code",
   "execution_count": 610,
   "metadata": {},
   "outputs": [
    {
     "data": {
      "text/plain": [
       "False"
      ]
     },
     "execution_count": 610,
     "metadata": {},
     "output_type": "execute_result"
    }
   ],
   "source": [
    "s1 = \"ab\"\n",
    "s2 = \"eidboaooo\"\n",
    "checkInclusion2(s1, s2)"
   ]
  },
  {
   "cell_type": "code",
   "execution_count": 621,
   "metadata": {},
   "outputs": [],
   "source": [
    "def removeElement(nums, val):\n",
    "    seen = set()\n",
    "    counter = 0\n",
    "    for num in nums:\n",
    "        if num == val:\n",
    "            seen.add(num)\n",
    "    for num in seen:\n",
    "        for i in range(len(nums)):\n",
    "            if num == nums[i]:\n",
    "                counter += 1\n",
    "    \n",
    "    return counter\n",
    "        \n"
   ]
  },
  {
   "cell_type": "code",
   "execution_count": 622,
   "metadata": {},
   "outputs": [
    {
     "data": {
      "text/plain": [
       "2"
      ]
     },
     "execution_count": 622,
     "metadata": {},
     "output_type": "execute_result"
    }
   ],
   "source": [
    "nums = [3,2,2,3]\n",
    "removeElement(nums, 2)"
   ]
  },
  {
   "cell_type": "code",
   "execution_count": 639,
   "metadata": {},
   "outputs": [],
   "source": [
    "# Definition for singly-linked list.\n",
    "class ListNode(object):\n",
    "    def __init__(self, val=0, next=None):\n",
    "        self.val = val\n",
    "        self.next = next\n",
    "# class Solution(object):\n",
    "def middleNode(head):\n",
    "    \"\"\"\n",
    "    :type head: ListNode\n",
    "    :rtype: ListNode\n",
    "    \"\"\"\n",
    "    slow = fast = head\n",
    "    \n",
    "\n",
    "    while fast and fast.next:\n",
    "        slow = slow.next\n",
    "        fast = fast.next.next\n",
    "    return slow\n",
    "    \n",
    "def buildLinkedList(elements):\n",
    "    dummy = ListNode(0)\n",
    "    current = dummy\n",
    "    for element in elements:\n",
    "        current.next = ListNode(element)\n",
    "        current = current.next\n",
    "    return dummy.next\n",
    "\n",
    "\n",
    "\n"
   ]
  },
  {
   "cell_type": "code",
   "execution_count": 648,
   "metadata": {},
   "outputs": [],
   "source": [
    "# Definition for singly-linked list.\n",
    "class ListNode(object):\n",
    "    def __init__(self, val=0, next=None):\n",
    "        self.val = val\n",
    "        self.next = next\n",
    "def buildLinkedList(elements):\n",
    "    dummy = ListNode(0)\n",
    "    current = dummy\n",
    "    for element in elements:\n",
    "        current.next = ListNode(element)\n",
    "        current = current.next\n",
    "    return dummy.next\n",
    "\n",
    "def deleteDuplicates(head):\n",
    "    curr = head\n",
    "\n",
    "    while curr.next:\n",
    "        if curr.val == curr.next.val:\n",
    "            curr.next = curr.next.next\n",
    "        else:\n",
    "            curr = curr.next\n",
    "    return head\n",
    "                    \n",
    "        \n",
    "    "
   ]
  },
  {
   "cell_type": "code",
   "execution_count": 649,
   "metadata": {},
   "outputs": [
    {
     "data": {
      "text/plain": [
       "<__main__.ListNode at 0x1ebfc352990>"
      ]
     },
     "execution_count": 649,
     "metadata": {},
     "output_type": "execute_result"
    }
   ],
   "source": [
    "head_val = [1,1,2,3,3]\n",
    "head = buildLinkedList(head_val)\n",
    "deleteDuplicates(head)\n"
   ]
  },
  {
   "cell_type": "code",
   "execution_count": 695,
   "metadata": {},
   "outputs": [],
   "source": [
    "\n",
    "def merge(nums1, m, nums2, n):\n",
    "    i = m-1\n",
    "    j = n-1\n",
    "    k = m + n - 1\n",
    "\n",
    "    while j >= 0:\n",
    "        if i >= 0 and nums1[i] > nums2[j]:\n",
    "            nums1[k] = nums1[i]\n",
    "            i -= 1\n",
    "        else:\n",
    "            nums1[k] = nums2[j]\n",
    "            j -= 1\n",
    "        k -= 1\n",
    "    return nums1\n",
    "\n",
    "\n",
    "\n"
   ]
  },
  {
   "cell_type": "code",
   "execution_count": 696,
   "metadata": {},
   "outputs": [
    {
     "data": {
      "text/plain": [
       "[1, 2, 2, 3, 5, 6]"
      ]
     },
     "execution_count": 696,
     "metadata": {},
     "output_type": "execute_result"
    }
   ],
   "source": [
    "nums1 = [1,2,3,0,0,0]\n",
    "nums2 = [2,5,6]\n",
    "merge(nums1, 3, nums2, 3)"
   ]
  },
  {
   "cell_type": "code",
   "execution_count": 733,
   "metadata": {},
   "outputs": [],
   "source": [
    "def isHappy(n):\n",
    "    curr_str = str(n)\n",
    "    seen = set()\n",
    "    while True:\n",
    "        curr_sum= 0\n",
    "        for ch in curr_str:\n",
    "            curr_sum += int(ch)**2\n",
    "        if curr_sum == 1:\n",
    "            return True\n",
    "        if curr_sum in seen:\n",
    "            return False\n",
    "        seen.add(curr_sum)\n",
    "        curr_str = str(curr_sum)\n",
    "            \n",
    "    "
   ]
  },
  {
   "cell_type": "code",
   "execution_count": 734,
   "metadata": {},
   "outputs": [
    {
     "data": {
      "text/plain": [
       "True"
      ]
     },
     "execution_count": 734,
     "metadata": {},
     "output_type": "execute_result"
    }
   ],
   "source": [
    "isHappy(7)"
   ]
  },
  {
   "cell_type": "code",
   "execution_count": 765,
   "metadata": {},
   "outputs": [],
   "source": [
    "def containsNearbyDuplicate(nums, k):\n",
    "    val_pos = defaultdict(int)\n",
    "    for i in range(len(nums)):\n",
    "        if nums[i] in val_pos and abs(val_pos[nums[i]] - i) <=k:\n",
    "            return True\n",
    "        val_pos[nums[i]] = i\n",
    "    return False"
   ]
  },
  {
   "cell_type": "code",
   "execution_count": 767,
   "metadata": {},
   "outputs": [],
   "source": [
    "def containsNearbyDuplicate2(nums, k):\n",
    "    val_pos = defaultdict(int)\n",
    "    for i, num in enumerate(nums):\n",
    "        if num in val_pos and abs(val_pos[num] - i) <=k:\n",
    "            return True\n",
    "        val_pos[num] = i\n",
    "    return False"
   ]
  },
  {
   "cell_type": "code",
   "execution_count": 768,
   "metadata": {},
   "outputs": [
    {
     "name": "stdout",
     "output_type": "stream",
     "text": [
      "defaultdict(<class 'int'>, {1: 3, 2: 4, 3: 5})\n"
     ]
    },
    {
     "data": {
      "text/plain": [
       "False"
      ]
     },
     "execution_count": 768,
     "metadata": {},
     "output_type": "execute_result"
    }
   ],
   "source": [
    "nums = [1,2,3,1,2,3]\n",
    "containsNearbyDuplicate(nums, 2)"
   ]
  },
  {
   "cell_type": "code",
   "execution_count": 769,
   "metadata": {},
   "outputs": [],
   "source": [
    "# Definition for singly-linked list.\n",
    "class ListNode(object):\n",
    "    def __init__(self, val=0, next=None):\n",
    "        self.val = val\n",
    "        self.next = next\n",
    "def buildLinkedList(elements):\n",
    "    dummy = ListNode(0)\n",
    "    current = dummy\n",
    "    for element in elements:\n",
    "        current.next = ListNode(element)\n",
    "        current = current.next\n",
    "    return dummy.next\n",
    "def swapPairs(head):\n",
    "    pass"
   ]
  },
  {
   "cell_type": "code",
   "execution_count": 770,
   "metadata": {},
   "outputs": [],
   "source": [
    "head_value = [1,2,3,4]\n",
    "head = buildLinkedList(head_val)"
   ]
  },
  {
   "cell_type": "code",
   "execution_count": 791,
   "metadata": {},
   "outputs": [],
   "source": [
    "def plusOne(digits):\n",
    "    d_str = \"\"\n",
    "    d_int = 0\n",
    "    incremented_d_int = 0\n",
    "    incremented_d_str = \"\"\n",
    "    incremented_d_list = []\n",
    "    for dig in digits:\n",
    "        d_str += str(dig)\n",
    "    d_int = int(d_str)\n",
    "    incremented_d_int = d_int + 1\n",
    "    incremented_d_str = str(incremented_d_int)\n",
    "\n",
    "    for string in incremented_d_str:\n",
    "        incremented_d_list.append(int(string))\n",
    "\n",
    "    return incremented_d_list\n"
   ]
  },
  {
   "cell_type": "code",
   "execution_count": 792,
   "metadata": {},
   "outputs": [
    {
     "data": {
      "text/plain": [
       "[1, 2, 4]"
      ]
     },
     "execution_count": 792,
     "metadata": {},
     "output_type": "execute_result"
    }
   ],
   "source": [
    "digits = [1,2,3]\n",
    "plusOne(digits)\n"
   ]
  },
  {
   "cell_type": "code",
   "execution_count": 10,
   "metadata": {},
   "outputs": [],
   "source": [
    "def makeGood(s):\n",
    "    stack = []\n",
    "    for ch in s:\n",
    "        # if stack and stack[-1] == ch.swapcase():\n",
    "        if stack and ((ch.islower() and stack[-1] == ch.upper()) or (ch.isupper() and stack[-1] == ch.lower())):\n",
    "            stack.pop()\n",
    "           \n",
    "        elif ch.isupper() and ch.lower() in stack:\n",
    "            stack.pop()\n",
    "        else:\n",
    "            stack.append(ch)\n",
    "    return \"\".join(stack)\n"
   ]
  },
  {
   "cell_type": "code",
   "execution_count": 11,
   "metadata": {},
   "outputs": [
    {
     "data": {
      "text/plain": [
       "'s'"
      ]
     },
     "execution_count": 11,
     "metadata": {},
     "output_type": "execute_result"
    }
   ],
   "source": [
    "s = \"s\"\n",
    "makeGood(s)\n"
   ]
  },
  {
   "cell_type": "code",
   "execution_count": 16,
   "metadata": {},
   "outputs": [],
   "source": [
    "def search(nums, target):\n",
    "    l = 0\n",
    "    r = len(nums) - 1\n",
    "    mid = 0\n",
    "\n",
    "    while l <= r:\n",
    "        mid = (l+r)//2\n",
    "        if nums[mid] == target:\n",
    "            return mid\n",
    "        elif nums[mid] < target:\n",
    "            l = mid + 1\n",
    "        else:\n",
    "            r = mid - 1\n",
    "    return -1"
   ]
  },
  {
   "cell_type": "code",
   "execution_count": 17,
   "metadata": {},
   "outputs": [
    {
     "data": {
      "text/plain": [
       "-1"
      ]
     },
     "execution_count": 17,
     "metadata": {},
     "output_type": "execute_result"
    }
   ],
   "source": [
    "nums = [-1,0,3,5,9,12]\n",
    "search(nums, 2)"
   ]
  },
  {
   "cell_type": "code",
   "execution_count": 22,
   "metadata": {},
   "outputs": [],
   "source": [
    "def searchMatrix(matrix, target):\n",
    "    for row in matrix:\n",
    "        l = 0\n",
    "        r = len(row) - 1\n",
    "        mid = 0\n",
    "        while l <= r:\n",
    "            mid = (r+l)//2\n",
    "            if row[mid] == target:\n",
    "                return True\n",
    "            elif row[mid] < target:\n",
    "                l = mid + 1\n",
    "            else:\n",
    "                r = mid - 1\n",
    "    return False"
   ]
  },
  {
   "cell_type": "code",
   "execution_count": 23,
   "metadata": {},
   "outputs": [
    {
     "data": {
      "text/plain": [
       "True"
      ]
     },
     "execution_count": 23,
     "metadata": {},
     "output_type": "execute_result"
    }
   ],
   "source": [
    "matrix = [[1,3,5,7],[10,11,16,20],[23,30,34,60]]\n",
    "searchMatrix(matrix, 3)\n"
   ]
  },
  {
   "cell_type": "code",
   "execution_count": 54,
   "metadata": {},
   "outputs": [],
   "source": [
    "def answerQueries(nums, queries):\n",
    "    # Sort the numbers to facilitate prefix sum calculations\n",
    "    nums.sort()\n",
    "    \n",
    "    # Calculate prefix sums to use in binary search\n",
    "    prefix = [nums[0]]\n",
    "    for i in range(1, len(nums)):\n",
    "        prefix.append(nums[i] + prefix[-1])\n",
    "    \n",
    "    result = []\n",
    "    for query in queries:\n",
    "        # Initialize left and right pointers for binary search\n",
    "        l, r = 0, len(prefix) - 1\n",
    "        best = 0  # To keep track of the best answer (length of the longest subsequence)\n",
    "        while l <= r:\n",
    "            mid = (l + r) // 2\n",
    "            if prefix[mid] <= query:\n",
    "                best = mid + 1  # Update best answer, +1 because index starts at 0\n",
    "                l = mid + 1\n",
    "            else:\n",
    "                r = mid - 1\n",
    "        result.append(best)  # Append the length of the longest subsequence for the current query\n",
    "\n",
    "    return result\n",
    "\n"
   ]
  },
  {
   "cell_type": "code",
   "execution_count": 56,
   "metadata": {},
   "outputs": [
    {
     "data": {
      "text/plain": [
       "[2, 3, 4]"
      ]
     },
     "execution_count": 56,
     "metadata": {},
     "output_type": "execute_result"
    }
   ],
   "source": [
    "nums = [4,5,2,1]\n",
    "queries = [3,10,21]\n",
    "answerQueries(nums, queries)"
   ]
  },
  {
   "cell_type": "code",
   "execution_count": 81,
   "metadata": {},
   "outputs": [],
   "source": [
    "from math import ceil\n",
    "\n",
    "\n",
    "def smallestDivisor(nums, threshold):\n",
    "    left = 1 #minumum divisor\n",
    "    right = max(nums) #maximum divisor\n",
    "    mid = 0 #index of possible divisors array\n",
    "    while left < right:\n",
    "        mid = (left + right) // 2\n",
    "        # print(mid)\n",
    "        curr_sum = 0\n",
    "        for num in nums:\n",
    "            curr_sum += ceil(1.0*num/mid)\n",
    "        # print(curr_sum)\n",
    "        if curr_sum <= threshold:\n",
    "            right = mid\n",
    "        else: \n",
    "            left = mid + 1\n",
    "    return left\n"
   ]
  },
  {
   "cell_type": "code",
   "execution_count": 82,
   "metadata": {},
   "outputs": [
    {
     "data": {
      "text/plain": [
       "5"
      ]
     },
     "execution_count": 82,
     "metadata": {},
     "output_type": "execute_result"
    }
   ],
   "source": [
    "nums = [1,2,5,9]\n",
    "smallestDivisor(nums, 6)"
   ]
  },
  {
   "cell_type": "code",
   "execution_count": 99,
   "metadata": {},
   "outputs": [
    {
     "name": "stdout",
     "output_type": "stream",
     "text": [
      "18\n"
     ]
    }
   ],
   "source": [
    "def splitArray(nums, k):\n",
    "    def canSplit(maxSumAllowed):\n",
    "        currentSum = 0\n",
    "        requiredSubarrays = 1  # Start with one subarray\n",
    "        for num in nums:\n",
    "            # If adding num to currentSum exceeds maxSumAllowed, start a new subarray\n",
    "            if currentSum + num > maxSumAllowed:\n",
    "                requiredSubarrays += 1\n",
    "                currentSum = num\n",
    "            else:\n",
    "                currentSum += num\n",
    "        return requiredSubarrays <= k\n",
    "\n",
    "    left, right = max(nums), sum(nums)\n",
    "    minimumLargestSplitSum = right\n",
    "\n",
    "    while left <= right:\n",
    "        mid = (left + right) // 2\n",
    "        if canSplit(mid):\n",
    "            minimumLargestSplitSum = mid\n",
    "            right = mid - 1\n",
    "        else:\n",
    "            left = mid + 1\n",
    "\n",
    "    return minimumLargestSplitSum\n",
    "\n",
    "# Example usage\n",
    "nums = [7,2,5,10,8]\n",
    "k = 2\n",
    "print(splitArray(nums, k))\n"
   ]
  },
  {
   "cell_type": "code",
   "execution_count": 100,
   "metadata": {},
   "outputs": [],
   "source": [
    "from collections import defaultdict\n",
    "def singleNonDuplicate(nums):\n",
    "    freq = defaultdict(int)\n",
    "    for num in nums:\n",
    "        freq[num] += 1\n",
    "    for key, val in freq.items():\n",
    "        if val == 1:\n",
    "            return key"
   ]
  },
  {
   "cell_type": "code",
   "execution_count": 125,
   "metadata": {},
   "outputs": [],
   "source": [
    "def singleNonDuplicate2(nums):\n",
    "    l = 0\n",
    "    r = len(nums) - 1\n",
    "    mid = 0\n",
    "    while l <= r:\n",
    "        mid = l + ((r-l)//2)\n",
    "        if ((mid - 1 < 0 or nums[mid-1] != nums[mid]) and  \n",
    "        (mid + 1 == len(nums) or nums[mid] != nums[mid+1])):\n",
    "            return nums[mid]\n",
    "        leftSide = mid - 1 if nums[mid - 1] == nums[mid] else mid\n",
    "        if leftSide %2 == 0:\n",
    "            l = mid +1\n",
    "        else:\n",
    "            r = mid - 1\n",
    "\n",
    "        \n",
    "    return nums[l]\n",
    "\n",
    "    "
   ]
  },
  {
   "cell_type": "code",
   "execution_count": 126,
   "metadata": {},
   "outputs": [
    {
     "data": {
      "text/plain": [
       "2"
      ]
     },
     "execution_count": 126,
     "metadata": {},
     "output_type": "execute_result"
    }
   ],
   "source": [
    "nums = [1,1,2,3,3,4,4,8,8]\n",
    "singleNonDuplicate2(nums)"
   ]
  },
  {
   "cell_type": "code",
   "execution_count": 28,
   "metadata": {},
   "outputs": [],
   "source": [
    "def maximum69Number (num):\n",
    "    num_str = str(num)\n",
    "    num_list = list(num_str)\n",
    "    print(num_list)\n",
    "    for i in range(len(num_list)):\n",
    "        if num_list[i] == '6':\n",
    "            num_list[i] = '9'\n",
    "            break\n",
    "    return int(\"\".join(num_list[i] for i in range(len(num_list))))\n"
   ]
  },
  {
   "cell_type": "code",
   "execution_count": 29,
   "metadata": {},
   "outputs": [
    {
     "name": "stdout",
     "output_type": "stream",
     "text": [
      "['9', '6', '6', '9']\n"
     ]
    },
    {
     "data": {
      "text/plain": [
       "9969"
      ]
     },
     "execution_count": 29,
     "metadata": {},
     "output_type": "execute_result"
    }
   ],
   "source": [
    "num = 9669\n",
    "maximum69Number (num)"
   ]
  },
  {
   "cell_type": "code",
   "execution_count": 37,
   "metadata": {},
   "outputs": [
    {
     "data": {
      "text/plain": [
       "5"
      ]
     },
     "execution_count": 37,
     "metadata": {},
     "output_type": "execute_result"
    }
   ],
   "source": [
    "def maxNumberOfApples(weight):\n",
    "    if sum(weight) <= 5000:\n",
    "        return len(weight)\n",
    "    weight.sort()\n",
    "    curr = 0\n",
    "    ans = 0\n",
    "    items = len(weight)\n",
    "    for w in weight:\n",
    "        if curr + w <= 5000:\n",
    "            curr += w\n",
    "            ans += 1\n",
    "        else:\n",
    "            break\n",
    "            \n",
    "    return ans\n",
    "\n",
    "weight = [900,950,800,1000,700,800]\n",
    "maxNumberOfApples(weight)"
   ]
  },
  {
   "cell_type": "code",
   "execution_count": 48,
   "metadata": {},
   "outputs": [
    {
     "data": {
      "text/plain": [
       "983"
      ]
     },
     "execution_count": 48,
     "metadata": {},
     "output_type": "execute_result"
    }
   ],
   "source": [
    "from collections import defaultdict\n",
    "def longestPalindrome(s):\n",
    "    ans = 0\n",
    "    has_odd = False\n",
    "    f = defaultdict(int)\n",
    "    for ch in s:\n",
    "        f[ch] += 1\n",
    "    for k,v in f.items():\n",
    "        if v % 2 == 0:\n",
    "            ans += v\n",
    "        else:\n",
    "            ans += v - 1\n",
    "            has_odd = True\n",
    "    if has_odd:\n",
    "        ans += 1\n",
    "    return ans \n",
    "s = \"civilwartestingwhetherthatnaptionoranynartionsoconceivedandsodedicatedcanlongendureWeareqmetonagreatbattlefiemldoftzhatwarWehavecometodedicpateaportionofthatfieldasafinalrestingplaceforthosewhoheregavetheirlivesthatthatnationmightliveItisaltogetherfangandproperthatweshoulddothisButinalargersensewecannotdedicatewecannotconsecratewecannothallowthisgroundThebravelmenlivinganddeadwhostruggledherehaveconsecrateditfaraboveourpoorponwertoaddordetractTgheworldadswfilllittlenotlenorlongrememberwhatwesayherebutitcanneverforgetwhattheydidhereItisforusthelivingrathertobededicatedheretotheulnfinishedworkwhichtheywhofoughtherehavethusfarsonoblyadvancedItisratherforustobeherededicatedtothegreattdafskremainingbeforeusthatfromthesehonoreddeadwetakeincreaseddevotiontothatcauseforwhichtheygavethelastpfullmeasureofdevotionthatweherehighlyresolvethatthesedeadshallnothavediedinvainthatthisnationunsderGodshallhaveanewbirthoffreedomandthatgovernmentofthepeoplebythepeopleforthepeopleshallnotperishfromtheearth\"\n",
    "longestPalindrome(s)\n"
   ]
  },
  {
   "cell_type": "code",
   "execution_count": 61,
   "metadata": {},
   "outputs": [
    {
     "data": {
      "text/plain": [
       "2"
      ]
     },
     "execution_count": 61,
     "metadata": {},
     "output_type": "execute_result"
    }
   ],
   "source": [
    "def findContentChildren(g, s):\n",
    "    g = sorted(g)\n",
    "    s = sorted(s)\n",
    "    ans = 0\n",
    "    i,j = 0, 0\n",
    "    while i < len(g) and j < len(s):\n",
    "        if g[i] <= s[j]:\n",
    "            ans += 1\n",
    "            i += 1\n",
    "        j += 1\n",
    "    return ans\n",
    "\n",
    "\n",
    "g = [1,2]\n",
    "s = [1,2,3]\n",
    "findContentChildren(g, s)\n",
    "\n"
   ]
  },
  {
   "cell_type": "code",
   "execution_count": 80,
   "metadata": {},
   "outputs": [
    {
     "data": {
      "text/plain": [
       "6"
      ]
     },
     "execution_count": 80,
     "metadata": {},
     "output_type": "execute_result"
    }
   ],
   "source": [
    "def largestSumAfterKNegations(nums, k):\n",
    "    nums = sorted(nums)\n",
    "    for i in range(len(nums)):\n",
    "        if nums[i] < 0 and k> 0:\n",
    "            \n",
    "            nums[i] = -nums[i]\n",
    "            k -= 1\n",
    "    nums = sorted(nums)\n",
    "\n",
    "    if k % 2 == 1:\n",
    "        nums[0] = -nums[0]\n",
    "\n",
    "    \n",
    "    return sum(nums)\n",
    "\n",
    "nums = [3,-1,0,2]\n",
    "largestSumAfterKNegations(nums, 3)"
   ]
  },
  {
   "cell_type": "code",
   "execution_count": 98,
   "metadata": {},
   "outputs": [
    {
     "data": {
      "text/plain": [
       "12"
      ]
     },
     "execution_count": 98,
     "metadata": {},
     "output_type": "execute_result"
    }
   ],
   "source": [
    "import heapq,math\n",
    "def minStoneSum(piles, k):\n",
    "    piles = [-pile for pile in piles]\n",
    "    heapq.heapify(piles)\n",
    "    while k > 0:\n",
    "        max_num = -heapq.heappop(piles)\n",
    "        heapq.heappush(piles, -math.ceil(max_num/2))\n",
    "        k -= 1\n",
    "\n",
    "    return abs(sum(piles))\n",
    "piles = [5,4,9]\n",
    "minStoneSum(piles, 2)"
   ]
  },
  {
   "cell_type": "code",
   "execution_count": 106,
   "metadata": {},
   "outputs": [
    {
     "data": {
      "text/plain": [
       "30"
      ]
     },
     "execution_count": 106,
     "metadata": {},
     "output_type": "execute_result"
    }
   ],
   "source": [
    "def connectSticks(sticks):\n",
    "    heapq.heapify(sticks)\n",
    "    cost = 0\n",
    "    while len(sticks) > 1:\n",
    "        first = heapq.heappop(sticks)\n",
    "        second = heapq.heappop(sticks)\n",
    "        curr_cost = first + second\n",
    "        heapq.heappush(sticks, curr_cost)\n",
    "        cost += curr_cost\n",
    "    return cost\n",
    "\n",
    "sticks = [1,8,3,5]\n",
    "connectSticks(sticks)"
   ]
  },
  {
   "cell_type": "code",
   "execution_count": 123,
   "metadata": {},
   "outputs": [
    {
     "data": {
      "text/plain": [
       "3"
      ]
     },
     "execution_count": 123,
     "metadata": {},
     "output_type": "execute_result"
    }
   ],
   "source": [
    "def findKthLargest(nums, k):\n",
    "    heap = [-num for num in nums]\n",
    "    heapq.heapify(heap)\n",
    "    for i in range(k-1):\n",
    "        heapq.heappop(heap)\n",
    "    return -heapq.heappop(heap)\n",
    "arr = [3,2,3,1,2,4,5,5,6]\n",
    "findKthLargest(nums, 4)"
   ]
  },
  {
   "cell_type": "code",
   "execution_count": 132,
   "metadata": {},
   "outputs": [
    {
     "data": {
      "text/plain": [
       "[(-2, 2), (2, -2)]"
      ]
     },
     "execution_count": 132,
     "metadata": {},
     "output_type": "execute_result"
    }
   ],
   "source": [
    "import math\n",
    "def kClosest(points, k):\n",
    "    heap = [((x**2 + y**2)**0.5, (x, y)) for x, y in points]\n",
    "    heapq.heapify(heap)\n",
    "    ans = [heapq.heappop(heap)[1] for i in range(k)]\n",
    "    return ans\n",
    "\n",
    "points = [[1,3],[-2,2],[2,-2]]\n",
    "kClosest(points, 2)\n"
   ]
  },
  {
   "cell_type": "code",
   "execution_count": 5,
   "metadata": {},
   "outputs": [
    {
     "name": "stdout",
     "output_type": "stream",
     "text": [
      "[1, 4, 9, 4, 1, 16, 9, 4, 9, 16, 9, 9]\n"
     ]
    }
   ],
   "source": [
    "n = [1,2,3,2,1,4,3,2,3,4,3,3]\n"
   ]
  },
  {
   "cell_type": "markdown",
   "metadata": {},
   "source": [
    "    // let curr represent the thing you are building\n",
    "    // it could be an array or a combination of variables\n",
    "\n",
    "    function backtrack(curr) {\n",
    "        if (base case) {\n",
    "            Increment or add to answer\n",
    "            return\n",
    "        }\n",
    "\n",
    "        for (iterate over input) {\n",
    "            Modify curr\n",
    "            backtrack(curr)\n",
    "            Undo whatever modification was done to curr\n",
    "        }\n",
    "    }"
   ]
  },
  {
   "cell_type": "code",
   "execution_count": 47,
   "metadata": {},
   "outputs": [
    {
     "data": {
      "text/plain": [
       "['ad', 'ae', 'af', 'bd', 'be', 'bf', 'cd', 'ce', 'cf']"
      ]
     },
     "execution_count": 47,
     "metadata": {},
     "output_type": "execute_result"
    }
   ],
   "source": [
    "def letterCombinations(digits):\n",
    "    alphabet = 'abcdefghijklmnopqrstuvwxyz'\n",
    "    dial_pad = {}\n",
    "    start = 0\n",
    "    for key in range(2,10):\n",
    "        step = 4 if key in [7, 9] else 3\n",
    "        dial_pad[str(key)] = alphabet[start:start+step]\n",
    "        start += step\n",
    "    if digits == \"\":\n",
    "        return []\n",
    "    \n",
    "    def backtrack(index, path):\n",
    "        if len(path) == len(digits):\n",
    "            ans.append(\"\".join(path))\n",
    "            return\n",
    "        \n",
    "        possible_letters = dial_pad[digits[index]]\n",
    "        for letter in possible_letters:\n",
    "            path.append(letter)\n",
    "            backtrack(index+1, path)\n",
    "            path.pop()\n",
    "    \n",
    "    ans=[]\n",
    "    backtrack(0, [])\n",
    "    return ans\n",
    "letterCombinations(\"23\")"
   ]
  },
  {
   "cell_type": "code",
   "execution_count": 10,
   "metadata": {},
   "outputs": [
    {
     "data": {
      "text/plain": [
       "[[0, 4], [0, 3, 4], [0, 1, 3, 4], [0, 1, 2, 3, 4], [0, 1, 4]]"
      ]
     },
     "execution_count": 10,
     "metadata": {},
     "output_type": "execute_result"
    }
   ],
   "source": [
    "def allPathsSourceTarget(graph):\n",
    "    ans=[]\n",
    "    def backtrack(currNode, path):\n",
    "        # if we reach the target, no need to explore further.\n",
    "        if currNode == len(graph) - 1:\n",
    "            ans.append(list(path))\n",
    "            return\n",
    "        # explore the neighbor nodes one after another.\n",
    "        for next_node in graph[currNode]:\n",
    "            path.append(next_node)\n",
    "            backtrack(next_node, path)\n",
    "            path.pop()\n",
    "    # kick of the backtracking, starting from the source node (0).\n",
    "    path = [0]\n",
    "    backtrack(0, path)\n",
    "    return ans\n",
    "\n",
    "graph = [[4,3,1],[3,2,4],[3],[4],[]]\n",
    "allPathsSourceTarget(graph)\n"
   ]
  },
  {
   "cell_type": "code",
   "execution_count": 37,
   "metadata": {},
   "outputs": [
    {
     "data": {
      "text/plain": [
       "['adp',\n",
       " 'adq',\n",
       " 'adr',\n",
       " 'ads',\n",
       " 'aep',\n",
       " 'aeq',\n",
       " 'aer',\n",
       " 'aes',\n",
       " 'afp',\n",
       " 'afq',\n",
       " 'afr',\n",
       " 'afs',\n",
       " 'bdp',\n",
       " 'bdq',\n",
       " 'bdr',\n",
       " 'bds',\n",
       " 'bep',\n",
       " 'beq',\n",
       " 'ber',\n",
       " 'bes',\n",
       " 'bfp',\n",
       " 'bfq',\n",
       " 'bfr',\n",
       " 'bfs',\n",
       " 'cdp',\n",
       " 'cdq',\n",
       " 'cdr',\n",
       " 'cds',\n",
       " 'cep',\n",
       " 'ceq',\n",
       " 'cer',\n",
       " 'ces',\n",
       " 'cfp',\n",
       " 'cfq',\n",
       " 'cfr',\n",
       " 'cfs']"
      ]
     },
     "execution_count": 37,
     "metadata": {},
     "output_type": "execute_result"
    }
   ],
   "source": [
    "from itertools import product\n",
    "def letterCombinations(digits):\n",
    "    if digits == \"\":\n",
    "        return []\n",
    "    alphabet = 'abcdefghijklmnopqrstuvwxyz'\n",
    "    dial_pad = {}\n",
    "    start = 0\n",
    "    step = 3\n",
    "    for key in range(2,10):\n",
    "        if key == 7 or key == 9:\n",
    "            step = 4\n",
    "        else:\n",
    "            step = 3\n",
    "        \n",
    "        dial_pad[key] = alphabet[start:start+step]\n",
    "        start += step\n",
    "\n",
    "    digits = [int(digits[i]) for i in range(len(digits))]\n",
    "    letter_list = []\n",
    "    for i in digits:\n",
    "        curr = dial_pad[i]\n",
    "        letter_list.append(list(curr))\n",
    "    \n",
    "    ans_str = list(product(*letter_list))\n",
    "    ans = [\"\".join(curr) for curr in ans_str]\n",
    "\n",
    "\n",
    "    return ans\n",
    "letterCombinations(\"237\")"
   ]
  },
  {
   "cell_type": "code",
   "execution_count": 78,
   "metadata": {},
   "outputs": [
    {
     "name": "stdout",
     "output_type": "stream",
     "text": [
      "p\n"
     ]
    },
    {
     "data": {
      "text/plain": [
       "True"
      ]
     },
     "execution_count": 78,
     "metadata": {},
     "output_type": "execute_result"
    }
   ],
   "source": [
    "from collections import defaultdict\n",
    "def isPalindrome(s):\n",
    "    s = list(s.lower().replace(\" \", \"\"))\n",
    "    s = \"\".join(ch for ch in s if ch.isalpha())\n",
    "    print(s)\n",
    "    if len(s) == 1:\n",
    "        return True\n",
    "    l = 0\n",
    "    r = len(s) - 1\n",
    "\n",
    "    while l <= r:\n",
    "        if s[l] == s[r]:\n",
    "            l += 1\n",
    "            r -= 1\n",
    "        else:\n",
    "            return False\n",
    "        \n",
    "    return True\n",
    "\n",
    "s = \"0P\"\n",
    "isPalindrome(s)\n",
    "\n",
    "    "
   ]
  },
  {
   "cell_type": "code",
   "execution_count": 89,
   "metadata": {},
   "outputs": [
    {
     "data": {
      "text/plain": [
       "'holle'"
      ]
     },
     "execution_count": 89,
     "metadata": {},
     "output_type": "execute_result"
    }
   ],
   "source": [
    "def reverseVowels(s):\n",
    "    \"\"\"\n",
    "    :type s: str\n",
    "    :rtype: str\n",
    "    \"\"\"\n",
    "    l, r = 0, len(s)-1\n",
    "    vowels = ['a', 'e', 'i', 'o', 'u']\n",
    "    s = list(s)\n",
    "    while l<=r:\n",
    "        if s[l].lower() not in vowels:\n",
    "            l+=1\n",
    "            continue\n",
    "        if s[r].lower() not in vowels:\n",
    "            r-=1\n",
    "            continue\n",
    "        s[l], s[r] = s[r], s[l]\n",
    "        l += 1\n",
    "        r -= 1\n",
    "\n",
    "    return \"\".join(s) \n",
    "s = \"hello\"\n",
    "reverseVowels(s)"
   ]
  },
  {
   "cell_type": "code",
   "execution_count": 94,
   "metadata": {},
   "outputs": [
    {
     "data": {
      "text/plain": [
       "2"
      ]
     },
     "execution_count": 94,
     "metadata": {},
     "output_type": "execute_result"
    }
   ],
   "source": [
    "def threeSumClosest(nums, target):\n",
    "    nums.sort()\n",
    "    closest_sum = float('inf')\n",
    "    for i in range(len(nums)):\n",
    "        l = i+1\n",
    "        r = len(nums) - 1\n",
    "        while l < r:\n",
    "            three_sum = nums[l] + nums[r] + nums[i]\n",
    "            if  abs(three_sum - target) < abs(closest_sum - target):\n",
    "                closest_sum = three_sum\n",
    "            if three_sum == target:\n",
    "                return three_sum\n",
    "            if three_sum < target:\n",
    "                l += 1\n",
    "            else:\n",
    "                r -= 1\n",
    "\n",
    "    return closest_sum\n",
    "\n",
    "\n",
    "\n",
    "nums = [-1,2,1,-4]\n",
    "threeSumClosest(nums, 1)"
   ]
  },
  {
   "cell_type": "code",
   "execution_count": null,
   "metadata": {},
   "outputs": [],
   "source": [
    "class Solution(object):\n",
    "    def threeSumClosest(self, nums, target):\n",
    "        \"\"\"\n",
    "        :type nums: List[int]\n",
    "        :type target: int\n",
    "        :rtype: int\n",
    "        \"\"\"\n",
    "        nums = sorted(nums)\n",
    "        closest_sum = float('inf')\n",
    "        for i in range(len(nums)-):\n",
    "            l = 1\n",
    "            r = len(nums) - 1\n",
    "            while l < r:\n",
    "                three_sum = nums[l] + nums[r] + nums[i]\n",
    "                if  abs(three_sum - target) < abs(closest_sum - target):\n",
    "                    closest_sum = three_sum\n",
    "                if three_sum == target:\n",
    "                    return three_sum\n",
    "                if three_sum < target:\n",
    "                    l += 1\n",
    "                else:\n",
    "                    r -= 1\n",
    "\n",
    "        return closest_sum"
   ]
  },
  {
   "cell_type": "markdown",
   "metadata": {},
   "source": [
    "    // let curr represent the thing you are building\n",
    "    // it could be an array or a combination of variables\n",
    "\n",
    "    function backtrack(curr) {\n",
    "        if (base case) {\n",
    "            Increment or add to answer\n",
    "            return\n",
    "        }\n",
    "\n",
    "        for (iterate over input) {\n",
    "            Modify curr\n",
    "            backtrack(curr)\n",
    "            Undo whatever modification was done to curr\n",
    "        }\n",
    "    }"
   ]
  },
  {
   "cell_type": "code",
   "execution_count": 99,
   "metadata": {},
   "outputs": [
    {
     "data": {
      "text/plain": [
       "['((()))', '(()())', '(())()', '()(())', '()()()']"
      ]
     },
     "execution_count": 99,
     "metadata": {},
     "output_type": "execute_result"
    }
   ],
   "source": [
    "def generateparenthesis(n):\n",
    "    stack = []\n",
    "    res = []\n",
    "    def backtrack(openN, closeN):\n",
    "        if openN == closeN == n:\n",
    "            res.append(\"\".join(stack))\n",
    "            return\n",
    "        if openN < n:\n",
    "            stack.append(\"(\")\n",
    "            backtrack(openN + 1, closeN)\n",
    "            stack.pop()\n",
    "        if  closeN < openN:\n",
    "            stack.append(\")\")\n",
    "            backtrack(openN, closeN+1)\n",
    "            stack.pop()\n",
    "        \n",
    "    backtrack(0,0)\n",
    "    return res\n",
    "generateparenthesis(3)\n",
    "\n"
   ]
  },
  {
   "cell_type": "code",
   "execution_count": 16,
   "metadata": {},
   "outputs": [
    {
     "data": {
      "text/plain": [
       "[[-2, -1, 1, 2], [-2, 0, 0, 2], [-1, 0, 0, 1]]"
      ]
     },
     "execution_count": 16,
     "metadata": {},
     "output_type": "execute_result"
    }
   ],
   "source": [
    "def fourSum(nums, target):\n",
    "    nums.sort()\n",
    "    ans = []\n",
    "    curr = set()\n",
    "    for i in range(len(nums)):\n",
    "        if i > 0 and nums[i] == nums[i-1]:\n",
    "            continue\n",
    "        for j in range(i+1, len(nums)):\n",
    "            if j > i+1 and nums[j] == nums[j-1]:\n",
    "                continue\n",
    "            curr = target - nums[i] - nums[j]\n",
    "            l=j+1\n",
    "            r=len(nums)-1\n",
    "            while l<r:\n",
    "                if nums[l] + nums[r] == curr:\n",
    "                    ans.append([nums[i], nums[j],nums[l] , nums[r]])\n",
    "                    while l < r and nums[l] == nums[l+1]:\n",
    "                        l += 1\n",
    "                    while l < r and nums[r] == nums[r-1]:\n",
    "                        r -= 1\n",
    "                    l += 1\n",
    "                    r -= 1\n",
    "                elif nums[l] + nums[r] > curr:\n",
    "                    r -= 1\n",
    "                else:\n",
    "                    l += 1\n",
    "    return ans\n",
    "nums = [1,0,-1,0,-2,2]\n",
    "fourSum(nums, 0)"
   ]
  },
  {
   "cell_type": "code",
   "execution_count": 5,
   "metadata": {},
   "outputs": [],
   "source": [
    "# Definition for a binary tree node.\n",
    "class TreeNode(object):\n",
    "    def __init__(self, val=0, left=None, right=None):\n",
    "        self.val = val\n",
    "        self.left = left\n",
    "        self.right = right\n",
    "class Solution(object):\n",
    "    def minDepth(self, root):\n",
    "        if not root:\n",
    "            return 0\n",
    "        left = self.minDepth(root.left)\n",
    "        right = self.minDepth(root.right)\n",
    "\n",
    "        if left and right:\n",
    "            return min(left, right) + 1\n",
    "        if left:\n",
    "            return left + 1\n",
    "        else:\n",
    "            return right + 1\n",
    "\n",
    "        "
   ]
  },
  {
   "cell_type": "code",
   "execution_count": 6,
   "metadata": {},
   "outputs": [
    {
     "data": {
      "text/plain": [
       "2"
      ]
     },
     "execution_count": 6,
     "metadata": {},
     "output_type": "execute_result"
    }
   ],
   "source": [
    "root = TreeNode(3)\n",
    "nine = TreeNode(9)\n",
    "twenty = TreeNode(20)\n",
    "fifteen = TreeNode(15)\n",
    "seven = TreeNode(7)\n",
    "\n",
    "root.left = nine\n",
    "root.right = twenty\n",
    "\n",
    "twenty.left = fifteen\n",
    "twenty.right = seven\n",
    "sol = Solution()\n",
    "sol.minDepth(root)"
   ]
  },
  {
   "cell_type": "code",
   "execution_count": null,
   "metadata": {},
   "outputs": [],
   "source": [
    "    def maxDepth(self, root):\n",
    "        if not root:\n",
    "            return 0\n",
    "        left = self.maxDepth(root.left)\n",
    "        right = self.maxDepth(root.right)\n",
    "\n",
    "        return max(left, right) + 1"
   ]
  },
  {
   "cell_type": "code",
   "execution_count": null,
   "metadata": {},
   "outputs": [],
   "source": [
    "# Definition for a binary tree node.\n",
    "class TreeNode(object):\n",
    "    def __init__(self, val=0, left=None, right=None):\n",
    "        self.val = val\n",
    "        self.left = left\n",
    "        self.right = right\n",
    "class Solution(object):\n",
    "    def maxAncestorDiff(self, root):\n",
    "        def dfs(node, max_sofar, min_sofar):\n",
    "            if not node:\n",
    "                return max_so_far - min_sofar\n",
    "            # Update the max and min based on the current node's value\n",
    "            max_so_far = max(max_so_far, node.val)\n",
    "            min_so_far = min(min_so_far, node.val)\n",
    "\n",
    "            left_diff = dfs(node.left, max_so_far, min_so_far )\n",
    "            right_diff = dfs(node.right, max_so_far, min_so_far )\n",
    "            return max(left_diff, right_diff)\n",
    "        \n",
    "        return dfs(root, root.val, root.val)\n",
    "                \n",
    "            "
   ]
  },
  {
   "cell_type": "code",
   "execution_count": null,
   "metadata": {},
   "outputs": [],
   "source": [
    "# Definition for a binary tree node.\n",
    "# class TreeNode(object):\n",
    "#     def __init__(self, val=0, left=None, right=None):\n",
    "#         self.val = val\n",
    "#         self.left = left\n",
    "#         self.right = right\n",
    "class Solution(object):\n",
    "    def diameterOfBinaryTree(self, root):\n",
    "        self.diameter = 0\n",
    "        def dfs(node):\n",
    "            if not node:\n",
    "                return 0\n",
    "            left = dfs(root.left)\n",
    "            right = dfs(root.right)\n",
    "            self.diameter = max(self.diameter, left+right)\n",
    "            return 1 + max(left, right)\n",
    "        dfs(root)\n",
    "        return  self.diameter"
   ]
  },
  {
   "cell_type": "code",
   "execution_count": null,
   "metadata": {},
   "outputs": [],
   "source": [
    "    def deepestLeavesSum(self, root):\n",
    "        queue = deque([root])\n",
    "        while queue:\n",
    "            lvl_sum = 0\n",
    "            nodes_in_current_level = len(queue)\n",
    "            for _ in range(nodes_in_current_level):\n",
    "                node = queue.popleft()\n",
    "                lvl_sum += node.val\n",
    "                if node.left:\n",
    "                    queue.append(node.left)\n",
    "                if node.right:\n",
    "                    queue.append(node.right)\n",
    "            ans = lvl_sum\n",
    "        return ans"
   ]
  }
 ],
 "metadata": {
  "kernelspec": {
   "display_name": "Python 3",
   "language": "python",
   "name": "python3"
  },
  "language_info": {
   "codemirror_mode": {
    "name": "ipython",
    "version": 3
   },
   "file_extension": ".py",
   "mimetype": "text/x-python",
   "name": "python",
   "nbconvert_exporter": "python",
   "pygments_lexer": "ipython3",
   "version": "3.10.3"
  }
 },
 "nbformat": 4,
 "nbformat_minor": 2
}
